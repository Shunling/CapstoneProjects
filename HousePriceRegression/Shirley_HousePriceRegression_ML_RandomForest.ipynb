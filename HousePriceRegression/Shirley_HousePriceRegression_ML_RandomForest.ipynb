{
 "cells": [
  {
   "cell_type": "code",
   "execution_count": 18,
   "metadata": {},
   "outputs": [],
   "source": [
    "from sklearn.ensemble import RandomForestRegressor\n",
    "from sklearn.model_selection import GridSearchCV\n",
    "import pandas as pd\n",
    "import numpy as np\n",
    "from sklearn.metrics import r2_score\n",
    "import xgboost as xgb\n",
    "import warnings\n",
    "warnings.filterwarnings('ignore')"
   ]
  },
  {
   "cell_type": "code",
   "execution_count": 2,
   "metadata": {},
   "outputs": [],
   "source": [
    "# Load test and train data\n",
    "Xtrain = pd.read_csv('./dummy_data/X_train.csv',index_col = 'Id')\n",
    "Xtest = pd.read_csv('./dummy_data/X_test.csv',index_col = 'Id')\n",
    "ytrain = pd.read_csv('./dummy_data/y_train.csv',header=None,index_col=0)\n",
    "ytest = pd.read_csv('./dummy_data/y_test.csv',header=None,index_col=0)"
   ]
  },
  {
   "cell_type": "code",
   "execution_count": 9,
   "metadata": {},
   "outputs": [],
   "source": [
    "Xtrain = Xtrain.drop('SoldTime',axis=1)"
   ]
  },
  {
   "cell_type": "code",
   "execution_count": 12,
   "metadata": {},
   "outputs": [],
   "source": [
    "Xtest = Xtest.drop('SoldTime',axis=1)"
   ]
  },
  {
   "cell_type": "code",
   "execution_count": 19,
   "metadata": {
    "scrolled": true
   },
   "outputs": [
    {
     "data": {
      "text/plain": [
       "GridSearchCV(cv=5, error_score='neg_mean_squared_error',\n",
       "             estimator=RandomForestRegressor(bootstrap=True, criterion='mse',\n",
       "                                             max_depth=None,\n",
       "                                             max_features='auto',\n",
       "                                             max_leaf_nodes=None,\n",
       "                                             min_impurity_decrease=0.0,\n",
       "                                             min_impurity_split=None,\n",
       "                                             min_samples_leaf=1,\n",
       "                                             min_samples_split=2,\n",
       "                                             min_weight_fraction_leaf=0.0,\n",
       "                                             n_estimators='warn', n_jobs=None,\n",
       "                                             oob_score=False, random_state=42,\n",
       "                                             verbose=0, warm_start=False),\n",
       "             iid='warn', n_jobs=None,\n",
       "             param_grid={'max_depth': range(3, 9),\n",
       "                         'n_estimators': (100, 300, 500)},\n",
       "             pre_dispatch='2*n_jobs', refit=True, return_train_score=False,\n",
       "             scoring=None, verbose=0)"
      ]
     },
     "execution_count": 19,
     "metadata": {},
     "output_type": "execute_result"
    }
   ],
   "source": [
    "clf = GridSearchCV(estimator = RandomForestRegressor(random_state=42),\n",
    "                   param_grid = {'n_estimators':(100,300,500),\n",
    "                                'max_depth':range(3,9)},\n",
    "                  error_score='neg_mean_squared_error',\n",
    "                  cv=5,verbose=0)\n",
    "clf.fit(Xtrain,ytrain)\n"
   ]
  },
  {
   "cell_type": "code",
   "execution_count": 20,
   "metadata": {},
   "outputs": [
    {
     "name": "stdout",
     "output_type": "stream",
     "text": [
      "Accuracy on training data: 0.965444\n",
      "Accuracy on test data:     0.868805\n"
     ]
    }
   ],
   "source": [
    "training_accuracy = best_model.score(Xtrain, ytrain)\n",
    "test_accuracy = best_model.score(Xtest, ytest)\n",
    "\n",
    "print(\"Accuracy on training data: {:2f}\".format(training_accuracy))\n",
    "print(\"Accuracy on test data:     {:2f}\".format(test_accuracy))"
   ]
  },
  {
   "cell_type": "code",
   "execution_count": 21,
   "metadata": {},
   "outputs": [
    {
     "data": {
      "text/plain": [
       "RandomForestRegressor(bootstrap=True, criterion='mse', max_depth=8,\n",
       "                      max_features='auto', max_leaf_nodes=None,\n",
       "                      min_impurity_decrease=0.0, min_impurity_split=None,\n",
       "                      min_samples_leaf=1, min_samples_split=2,\n",
       "                      min_weight_fraction_leaf=0.0, n_estimators=500,\n",
       "                      n_jobs=None, oob_score=False, random_state=42, verbose=0,\n",
       "                      warm_start=False)"
      ]
     },
     "execution_count": 21,
     "metadata": {},
     "output_type": "execute_result"
    }
   ],
   "source": [
    "best_model = clf.best_estimator_\n",
    "best_model"
   ]
  },
  {
   "cell_type": "code",
   "execution_count": 22,
   "metadata": {},
   "outputs": [
    {
     "data": {
      "text/plain": [
       "0.8297547684256237"
      ]
     },
     "execution_count": 22,
     "metadata": {},
     "output_type": "execute_result"
    }
   ],
   "source": [
    "best_score = clf.best_score_ \n",
    "best_score"
   ]
  },
  {
   "cell_type": "markdown",
   "metadata": {},
   "source": [
    "## PCA to decomposite feature dimension"
   ]
  },
  {
   "cell_type": "code",
   "execution_count": 26,
   "metadata": {},
   "outputs": [],
   "source": [
    "from sklearn.decomposition import PCA\n",
    "from sklearn.preprocessing import StandardScaler\n",
    "import matplotlib.pyplot as plt"
   ]
  },
  {
   "cell_type": "code",
   "execution_count": 24,
   "metadata": {},
   "outputs": [],
   "source": [
    "scaler = StandardScaler()\n",
    "\n",
    "x_scale = scaler.fit_transform(Xtrain)\n",
    "testx_scale = scaler.transform(Xtest)\n",
    "y_scale = scaler.fit_transform(ytrain)\n",
    "testy_scale = scaler.transform(ytest)"
   ]
  },
  {
   "cell_type": "code",
   "execution_count": 42,
   "metadata": {},
   "outputs": [
    {
     "data": {
      "text/plain": [
       "Text(0.5, 0, 'n_components')"
      ]
     },
     "execution_count": 42,
     "metadata": {},
     "output_type": "execute_result"
    },
    {
     "data": {
      "image/png": "[encoded data removed]",
      "text/plain": [
       "<Figure size 1080x360 with 2 Axes>"
      ]
     },
     "metadata": {
      "needs_background": "light"
     },
     "output_type": "display_data"
    }
   ],
   "source": [
    "#fit pca and plot explained variance\n",
    "n = 50\n",
    "pca = PCA(n_components = n)\n",
    "pca_data = pca.fit(x_scale)\n",
    "eigenvalue = pca.explained_variance_ratio_\n",
    "fig = plt.figure(figsize=(15,5))\n",
    "ax1 = fig.add_subplot(121)\n",
    "ax1.plot(range(len(eigenvalue)),eigenvalue)\n",
    "plt.xlabel('n_components')\n",
    "plt.ylabel('explained_varaince')\n",
    "k = 12\n",
    "ax2 = fig.add_subplot(122)\n",
    "ax2.plot(range(k),eigenvalue[:k])\n",
    "plt.xlabel('n_components')"
   ]
  },
  {
   "cell_type": "code",
   "execution_count": 47,
   "metadata": {},
   "outputs": [
    {
     "data": {
      "text/plain": [
       "(50, 318)"
      ]
     },
     "execution_count": 47,
     "metadata": {},
     "output_type": "execute_result"
    }
   ],
   "source": [
    "pca.components_.shape"
   ]
  },
  {
   "cell_type": "code",
   "execution_count": 60,
   "metadata": {},
   "outputs": [
    {
     "data": {
      "text/html": [
       "<div>\n",
       "<style scoped>\n",
       "    .dataframe tbody tr th:only-of-type {\n",
       "        vertical-align: middle;\n",
       "    }\n",
       "\n",
       "    .dataframe tbody tr th {\n",
       "        vertical-align: top;\n",
       "    }\n",
       "\n",
       "    .dataframe thead th {\n",
       "        text-align: right;\n",
       "    }\n",
       "</style>\n",
       "<table border=\"1\" class=\"dataframe\">\n",
       "  <thead>\n",
       "    <tr style=\"text-align: right;\">\n",
       "      <th></th>\n",
       "      <th>0</th>\n",
       "      <th>1</th>\n",
       "      <th>2</th>\n",
       "      <th>3</th>\n",
       "      <th>4</th>\n",
       "      <th>5</th>\n",
       "      <th>6</th>\n",
       "      <th>7</th>\n",
       "      <th>8</th>\n",
       "      <th>9</th>\n",
       "    </tr>\n",
       "  </thead>\n",
       "  <tbody>\n",
       "    <tr>\n",
       "      <th>0</th>\n",
       "      <td>-0.709530</td>\n",
       "      <td>-3.547133</td>\n",
       "      <td>0.972446</td>\n",
       "      <td>-3.011392</td>\n",
       "      <td>0.448685</td>\n",
       "      <td>1.032131</td>\n",
       "      <td>1.367590</td>\n",
       "      <td>2.270753</td>\n",
       "      <td>0.498647</td>\n",
       "      <td>1.363126</td>\n",
       "    </tr>\n",
       "    <tr>\n",
       "      <th>1</th>\n",
       "      <td>5.821966</td>\n",
       "      <td>3.084321</td>\n",
       "      <td>0.340453</td>\n",
       "      <td>-0.405681</td>\n",
       "      <td>3.093381</td>\n",
       "      <td>-4.436127</td>\n",
       "      <td>-1.814656</td>\n",
       "      <td>1.670998</td>\n",
       "      <td>0.495823</td>\n",
       "      <td>-2.891696</td>\n",
       "    </tr>\n",
       "    <tr>\n",
       "      <th>2</th>\n",
       "      <td>5.929034</td>\n",
       "      <td>4.985997</td>\n",
       "      <td>-0.140588</td>\n",
       "      <td>0.097277</td>\n",
       "      <td>-1.377647</td>\n",
       "      <td>1.121025</td>\n",
       "      <td>-0.315198</td>\n",
       "      <td>-1.394783</td>\n",
       "      <td>-0.023966</td>\n",
       "      <td>-3.444041</td>\n",
       "    </tr>\n",
       "    <tr>\n",
       "      <th>3</th>\n",
       "      <td>3.854373</td>\n",
       "      <td>-4.434113</td>\n",
       "      <td>3.375531</td>\n",
       "      <td>5.100759</td>\n",
       "      <td>3.527416</td>\n",
       "      <td>-0.308077</td>\n",
       "      <td>2.580052</td>\n",
       "      <td>0.758753</td>\n",
       "      <td>1.492904</td>\n",
       "      <td>0.017626</td>\n",
       "    </tr>\n",
       "    <tr>\n",
       "      <th>4</th>\n",
       "      <td>6.127294</td>\n",
       "      <td>4.377552</td>\n",
       "      <td>-0.121474</td>\n",
       "      <td>1.254217</td>\n",
       "      <td>-0.968846</td>\n",
       "      <td>-0.891970</td>\n",
       "      <td>-1.887737</td>\n",
       "      <td>-0.589680</td>\n",
       "      <td>-0.709528</td>\n",
       "      <td>-2.725270</td>\n",
       "    </tr>\n",
       "  </tbody>\n",
       "</table>\n",
       "</div>"
      ],
      "text/plain": [
       "          0         1         2         3         4         5         6  \\\n",
       "0 -0.709530 -3.547133  0.972446 -3.011392  0.448685  1.032131  1.367590   \n",
       "1  5.821966  3.084321  0.340453 -0.405681  3.093381 -4.436127 -1.814656   \n",
       "2  5.929034  4.985997 -0.140588  0.097277 -1.377647  1.121025 -0.315198   \n",
       "3  3.854373 -4.434113  3.375531  5.100759  3.527416 -0.308077  2.580052   \n",
       "4  6.127294  4.377552 -0.121474  1.254217 -0.968846 -0.891970 -1.887737   \n",
       "\n",
       "          7         8         9  \n",
       "0  2.270753  0.498647  1.363126  \n",
       "1  1.670998  0.495823 -2.891696  \n",
       "2 -1.394783 -0.023966 -3.444041  \n",
       "3  0.758753  1.492904  0.017626  \n",
       "4 -0.589680 -0.709528 -2.725270  "
      ]
     },
     "execution_count": 60,
     "metadata": {},
     "output_type": "execute_result"
    }
   ],
   "source": [
    "# the first 10 components are most relevent.\n",
    "#eigenvectors\n",
    "xtrain = pd.DataFrame(np.dot(x_scale,pca.components_[:10].T))\n",
    "xtrain.head()"
   ]
  },
  {
   "cell_type": "code",
   "execution_count": 61,
   "metadata": {},
   "outputs": [
    {
     "data": {
      "text/plain": [
       "(1022, 10)"
      ]
     },
     "execution_count": 61,
     "metadata": {},
     "output_type": "execute_result"
    }
   ],
   "source": [
    "xtrain.shape"
   ]
  },
  {
   "cell_type": "code",
   "execution_count": 62,
   "metadata": {
    "scrolled": true
   },
   "outputs": [
    {
     "data": {
      "text/plain": [
       "GridSearchCV(cv=5, error_score='neg_mean_squared_error',\n",
       "             estimator=RandomForestRegressor(bootstrap=True, criterion='mse',\n",
       "                                             max_depth=None,\n",
       "                                             max_features='auto',\n",
       "                                             max_leaf_nodes=None,\n",
       "                                             min_impurity_decrease=0.0,\n",
       "                                             min_impurity_split=None,\n",
       "                                             min_samples_leaf=1,\n",
       "                                             min_samples_split=2,\n",
       "                                             min_weight_fraction_leaf=0.0,\n",
       "                                             n_estimators='warn', n_jobs=None,\n",
       "                                             oob_score=False, random_state=42,\n",
       "                                             verbose=0, warm_start=False),\n",
       "             iid='warn', n_jobs=None,\n",
       "             param_grid={'max_depth': range(3, 9),\n",
       "                         'n_estimators': (300, 500, 800)},\n",
       "             pre_dispatch='2*n_jobs', refit=True, return_train_score=False,\n",
       "             scoring=None, verbose=0)"
      ]
     },
     "execution_count": 62,
     "metadata": {},
     "output_type": "execute_result"
    }
   ],
   "source": [
    "clf = GridSearchCV(estimator = RandomForestRegressor(random_state=42),\n",
    "                   param_grid = {'n_estimators':(300,500,800),\n",
    "                                'max_depth':range(3,9)},\n",
    "                  error_score='neg_mean_squared_error',\n",
    "                  cv=5,verbose=0)\n",
    "clf.fit(xtrain,y_scale)"
   ]
  },
  {
   "cell_type": "code",
   "execution_count": 63,
   "metadata": {},
   "outputs": [
    {
     "data": {
      "text/plain": [
       "RandomForestRegressor(bootstrap=True, criterion='mse', max_depth=8,\n",
       "                      max_features='auto', max_leaf_nodes=None,\n",
       "                      min_impurity_decrease=0.0, min_impurity_split=None,\n",
       "                      min_samples_leaf=1, min_samples_split=2,\n",
       "                      min_weight_fraction_leaf=0.0, n_estimators=300,\n",
       "                      n_jobs=None, oob_score=False, random_state=42, verbose=0,\n",
       "                      warm_start=False)"
      ]
     },
     "execution_count": 63,
     "metadata": {},
     "output_type": "execute_result"
    }
   ],
   "source": [
    "clf.best_estimator_"
   ]
  },
  {
   "cell_type": "code",
   "execution_count": 64,
   "metadata": {},
   "outputs": [
    {
     "data": {
      "text/plain": [
       "0.850849500242437"
      ]
     },
     "execution_count": 64,
     "metadata": {},
     "output_type": "execute_result"
    }
   ],
   "source": [
    "clf.best_score_"
   ]
  },
  {
   "cell_type": "code",
   "execution_count": 66,
   "metadata": {},
   "outputs": [
    {
     "data": {
      "text/plain": [
       "(438, 10)"
      ]
     },
     "execution_count": 66,
     "metadata": {},
     "output_type": "execute_result"
    }
   ],
   "source": [
    "xtest = pd.DataFrame(np.dot(testx_scale,pca.components_[:10].T))\n",
    "xtest.shape"
   ]
  },
  {
   "cell_type": "code",
   "execution_count": 67,
   "metadata": {},
   "outputs": [
    {
     "name": "stdout",
     "output_type": "stream",
     "text": [
      "Accuracy on training data: 0.961562\n",
      "Accuracy on test data:     0.829658\n"
     ]
    }
   ],
   "source": [
    "training_accuracy = clf.best_estimator_.score(xtrain, y_scale)\n",
    "test_accuracy = clf.best_estimator_.score(xtest, testy_scale)\n",
    "\n",
    "print(\"Accuracy on training data: {:2f}\".format(training_accuracy))\n",
    "print(\"Accuracy on test data:     {:2f}\".format(test_accuracy))"
   ]
  },
  {
   "cell_type": "code",
   "execution_count": 68,
   "metadata": {},
   "outputs": [
    {
     "data": {
      "text/plain": [
       "GridSearchCV(cv=5, error_score='neg_mean_squared_error',\n",
       "             estimator=RandomForestRegressor(bootstrap=True, criterion='mse',\n",
       "                                             max_depth=None,\n",
       "                                             max_features='auto',\n",
       "                                             max_leaf_nodes=None,\n",
       "                                             min_impurity_decrease=0.0,\n",
       "                                             min_impurity_split=None,\n",
       "                                             min_samples_leaf=1,\n",
       "                                             min_samples_split=2,\n",
       "                                             min_weight_fraction_leaf=0.0,\n",
       "                                             n_estimators='warn', n_jobs=None,\n",
       "                                             oob_score=False, random_state=42,\n",
       "                                             verbose=0, warm_start=False),\n",
       "             iid='warn', n_jobs=None,\n",
       "             param_grid={'max_depth': range(7, 12),\n",
       "                         'n_estimators': (300, 500, 800)},\n",
       "             pre_dispatch='2*n_jobs', refit=True, return_train_score=False,\n",
       "             scoring=None, verbose=0)"
      ]
     },
     "execution_count": 68,
     "metadata": {},
     "output_type": "execute_result"
    }
   ],
   "source": [
    "# choose first 20 components are most relevent.\n",
    "#eigenvectors\n",
    "xtrain = pd.DataFrame(np.dot(x_scale,pca.components_[:20].T))\n",
    "xtest = pd.DataFrame(np.dot(testx_scale,pca.components_[:20].T))\n",
    "clf = GridSearchCV(estimator = RandomForestRegressor(random_state=42),\n",
    "                   param_grid = {'n_estimators':(300,500,800),\n",
    "                                'max_depth':range(7,12)},\n",
    "                  error_score='neg_mean_squared_error',\n",
    "                  cv=5,verbose=0)\n",
    "clf.fit(xtrain,y_scale)\n"
   ]
  },
  {
   "cell_type": "code",
   "execution_count": 69,
   "metadata": {},
   "outputs": [
    {
     "data": {
      "text/plain": [
       "RandomForestRegressor(bootstrap=True, criterion='mse', max_depth=11,\n",
       "                      max_features='auto', max_leaf_nodes=None,\n",
       "                      min_impurity_decrease=0.0, min_impurity_split=None,\n",
       "                      min_samples_leaf=1, min_samples_split=2,\n",
       "                      min_weight_fraction_leaf=0.0, n_estimators=300,\n",
       "                      n_jobs=None, oob_score=False, random_state=42, verbose=0,\n",
       "                      warm_start=False)"
      ]
     },
     "execution_count": 69,
     "metadata": {},
     "output_type": "execute_result"
    }
   ],
   "source": [
    "clf.best_estimator_"
   ]
  },
  {
   "cell_type": "code",
   "execution_count": 70,
   "metadata": {},
   "outputs": [
    {
     "data": {
      "text/plain": [
       "0.851816003450789"
      ]
     },
     "execution_count": 70,
     "metadata": {},
     "output_type": "execute_result"
    }
   ],
   "source": [
    "clf.best_score_"
   ]
  },
  {
   "cell_type": "code",
   "execution_count": 71,
   "metadata": {},
   "outputs": [
    {
     "name": "stdout",
     "output_type": "stream",
     "text": [
      "Accuracy on training data: 0.976616\n",
      "Accuracy on test data:     0.821400\n"
     ]
    }
   ],
   "source": [
    "training_accuracy = clf.best_estimator_.score(xtrain, y_scale)\n",
    "test_accuracy = clf.best_estimator_.score(xtest, testy_scale)\n",
    "\n",
    "print(\"Accuracy on training data: {:2f}\".format(training_accuracy))\n",
    "print(\"Accuracy on test data:     {:2f}\".format(test_accuracy))"
   ]
  }
 ],
 "metadata": {
  "kernelspec": {
   "display_name": "Python 3",
   "language": "python",
   "name": "python3"
  },
  "language_info": {
   "codemirror_mode": {
    "name": "ipython",
    "version": 3
   },
   "file_extension": ".py",
   "mimetype": "text/x-python",
   "name": "python",
   "nbconvert_exporter": "python",
   "pygments_lexer": "ipython3",
   "version": "3.7.3"
  }
 },
 "nbformat": 4,
 "nbformat_minor": 2
}
