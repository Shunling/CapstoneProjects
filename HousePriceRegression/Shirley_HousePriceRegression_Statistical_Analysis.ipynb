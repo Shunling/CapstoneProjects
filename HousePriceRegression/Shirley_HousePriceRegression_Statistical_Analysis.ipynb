{
 "cells": [
  {
   "cell_type": "code",
   "execution_count": 42,
   "metadata": {},
   "outputs": [],
   "source": [
    "from scipy.stats import norm\n",
    "from scipy.stats import ttest_ind\n",
    "import numpy as np\n",
    "import pandas as pd\n",
    "from numpy.random import seed\n",
    "import matplotlib.pyplot as plt"
   ]
  },
  {
   "cell_type": "code",
   "execution_count": 4,
   "metadata": {},
   "outputs": [],
   "source": [
    "df = pd.read_csv('data/df_clean.csv',parse_dates=True,index_col=['SoldTime','Id'])"
   ]
  },
  {
   "cell_type": "code",
   "execution_count": 5,
   "metadata": {},
   "outputs": [
    {
     "data": {
      "text/html": [
       "<div>\n",
       "<style scoped>\n",
       "    .dataframe tbody tr th:only-of-type {\n",
       "        vertical-align: middle;\n",
       "    }\n",
       "\n",
       "    .dataframe tbody tr th {\n",
       "        vertical-align: top;\n",
       "    }\n",
       "\n",
       "    .dataframe thead th {\n",
       "        text-align: right;\n",
       "    }\n",
       "</style>\n",
       "<table border=\"1\" class=\"dataframe\">\n",
       "  <thead>\n",
       "    <tr style=\"text-align: right;\">\n",
       "      <th></th>\n",
       "      <th></th>\n",
       "      <th>MSZoning</th>\n",
       "      <th>Street</th>\n",
       "      <th>Alley</th>\n",
       "      <th>LotShape</th>\n",
       "      <th>LandContour</th>\n",
       "      <th>Utilities</th>\n",
       "      <th>LotConfig</th>\n",
       "      <th>LandSlope</th>\n",
       "      <th>Neighborhood</th>\n",
       "      <th>Condition1</th>\n",
       "      <th>...</th>\n",
       "      <th>WoodDeckSF</th>\n",
       "      <th>OpenPorchSF</th>\n",
       "      <th>EnclosedPorch</th>\n",
       "      <th>3SsnPorch</th>\n",
       "      <th>ScreenPorch</th>\n",
       "      <th>PoolArea</th>\n",
       "      <th>MiscVal</th>\n",
       "      <th>MoSold</th>\n",
       "      <th>YrSold</th>\n",
       "      <th>SalePrice</th>\n",
       "    </tr>\n",
       "    <tr>\n",
       "      <th>SoldTime</th>\n",
       "      <th>Id</th>\n",
       "      <th></th>\n",
       "      <th></th>\n",
       "      <th></th>\n",
       "      <th></th>\n",
       "      <th></th>\n",
       "      <th></th>\n",
       "      <th></th>\n",
       "      <th></th>\n",
       "      <th></th>\n",
       "      <th></th>\n",
       "      <th></th>\n",
       "      <th></th>\n",
       "      <th></th>\n",
       "      <th></th>\n",
       "      <th></th>\n",
       "      <th></th>\n",
       "      <th></th>\n",
       "      <th></th>\n",
       "      <th></th>\n",
       "      <th></th>\n",
       "      <th></th>\n",
       "    </tr>\n",
       "  </thead>\n",
       "  <tbody>\n",
       "    <tr>\n",
       "      <th>2008-02-01</th>\n",
       "      <th>1</th>\n",
       "      <td>RL</td>\n",
       "      <td>Pave</td>\n",
       "      <td>0</td>\n",
       "      <td>Reg</td>\n",
       "      <td>Lvl</td>\n",
       "      <td>AllPub</td>\n",
       "      <td>Inside</td>\n",
       "      <td>Gtl</td>\n",
       "      <td>CollgCr</td>\n",
       "      <td>Norm</td>\n",
       "      <td>...</td>\n",
       "      <td>0</td>\n",
       "      <td>61</td>\n",
       "      <td>0</td>\n",
       "      <td>0</td>\n",
       "      <td>0</td>\n",
       "      <td>0</td>\n",
       "      <td>0</td>\n",
       "      <td>2</td>\n",
       "      <td>2008</td>\n",
       "      <td>208500</td>\n",
       "    </tr>\n",
       "    <tr>\n",
       "      <th>2007-05-01</th>\n",
       "      <th>2</th>\n",
       "      <td>RL</td>\n",
       "      <td>Pave</td>\n",
       "      <td>0</td>\n",
       "      <td>Reg</td>\n",
       "      <td>Lvl</td>\n",
       "      <td>AllPub</td>\n",
       "      <td>FR2</td>\n",
       "      <td>Gtl</td>\n",
       "      <td>Veenker</td>\n",
       "      <td>Feedr</td>\n",
       "      <td>...</td>\n",
       "      <td>298</td>\n",
       "      <td>0</td>\n",
       "      <td>0</td>\n",
       "      <td>0</td>\n",
       "      <td>0</td>\n",
       "      <td>0</td>\n",
       "      <td>0</td>\n",
       "      <td>5</td>\n",
       "      <td>2007</td>\n",
       "      <td>181500</td>\n",
       "    </tr>\n",
       "    <tr>\n",
       "      <th>2008-09-01</th>\n",
       "      <th>3</th>\n",
       "      <td>RL</td>\n",
       "      <td>Pave</td>\n",
       "      <td>0</td>\n",
       "      <td>IR1</td>\n",
       "      <td>Lvl</td>\n",
       "      <td>AllPub</td>\n",
       "      <td>Inside</td>\n",
       "      <td>Gtl</td>\n",
       "      <td>CollgCr</td>\n",
       "      <td>Norm</td>\n",
       "      <td>...</td>\n",
       "      <td>0</td>\n",
       "      <td>42</td>\n",
       "      <td>0</td>\n",
       "      <td>0</td>\n",
       "      <td>0</td>\n",
       "      <td>0</td>\n",
       "      <td>0</td>\n",
       "      <td>9</td>\n",
       "      <td>2008</td>\n",
       "      <td>223500</td>\n",
       "    </tr>\n",
       "    <tr>\n",
       "      <th>2006-02-01</th>\n",
       "      <th>4</th>\n",
       "      <td>RL</td>\n",
       "      <td>Pave</td>\n",
       "      <td>0</td>\n",
       "      <td>IR1</td>\n",
       "      <td>Lvl</td>\n",
       "      <td>AllPub</td>\n",
       "      <td>Corner</td>\n",
       "      <td>Gtl</td>\n",
       "      <td>Crawfor</td>\n",
       "      <td>Norm</td>\n",
       "      <td>...</td>\n",
       "      <td>0</td>\n",
       "      <td>35</td>\n",
       "      <td>272</td>\n",
       "      <td>0</td>\n",
       "      <td>0</td>\n",
       "      <td>0</td>\n",
       "      <td>0</td>\n",
       "      <td>2</td>\n",
       "      <td>2006</td>\n",
       "      <td>140000</td>\n",
       "    </tr>\n",
       "    <tr>\n",
       "      <th>2008-12-01</th>\n",
       "      <th>5</th>\n",
       "      <td>RL</td>\n",
       "      <td>Pave</td>\n",
       "      <td>0</td>\n",
       "      <td>IR1</td>\n",
       "      <td>Lvl</td>\n",
       "      <td>AllPub</td>\n",
       "      <td>FR2</td>\n",
       "      <td>Gtl</td>\n",
       "      <td>NoRidge</td>\n",
       "      <td>Norm</td>\n",
       "      <td>...</td>\n",
       "      <td>192</td>\n",
       "      <td>84</td>\n",
       "      <td>0</td>\n",
       "      <td>0</td>\n",
       "      <td>0</td>\n",
       "      <td>0</td>\n",
       "      <td>0</td>\n",
       "      <td>12</td>\n",
       "      <td>2008</td>\n",
       "      <td>250000</td>\n",
       "    </tr>\n",
       "  </tbody>\n",
       "</table>\n",
       "<p>5 rows × 80 columns</p>\n",
       "</div>"
      ],
      "text/plain": [
       "              MSZoning Street Alley LotShape LandContour Utilities LotConfig  \\\n",
       "SoldTime   Id                                                                  \n",
       "2008-02-01 1        RL   Pave     0      Reg         Lvl    AllPub    Inside   \n",
       "2007-05-01 2        RL   Pave     0      Reg         Lvl    AllPub       FR2   \n",
       "2008-09-01 3        RL   Pave     0      IR1         Lvl    AllPub    Inside   \n",
       "2006-02-01 4        RL   Pave     0      IR1         Lvl    AllPub    Corner   \n",
       "2008-12-01 5        RL   Pave     0      IR1         Lvl    AllPub       FR2   \n",
       "\n",
       "              LandSlope Neighborhood Condition1  ... WoodDeckSF OpenPorchSF  \\\n",
       "SoldTime   Id                                    ...                          \n",
       "2008-02-01 1        Gtl      CollgCr       Norm  ...          0          61   \n",
       "2007-05-01 2        Gtl      Veenker      Feedr  ...        298           0   \n",
       "2008-09-01 3        Gtl      CollgCr       Norm  ...          0          42   \n",
       "2006-02-01 4        Gtl      Crawfor       Norm  ...          0          35   \n",
       "2008-12-01 5        Gtl      NoRidge       Norm  ...        192          84   \n",
       "\n",
       "              EnclosedPorch 3SsnPorch ScreenPorch PoolArea MiscVal MoSold  \\\n",
       "SoldTime   Id                                                               \n",
       "2008-02-01 1              0         0           0        0       0      2   \n",
       "2007-05-01 2              0         0           0        0       0      5   \n",
       "2008-09-01 3              0         0           0        0       0      9   \n",
       "2006-02-01 4            272         0           0        0       0      2   \n",
       "2008-12-01 5              0         0           0        0       0     12   \n",
       "\n",
       "              YrSold SalePrice  \n",
       "SoldTime   Id                   \n",
       "2008-02-01 1    2008    208500  \n",
       "2007-05-01 2    2007    181500  \n",
       "2008-09-01 3    2008    223500  \n",
       "2006-02-01 4    2006    140000  \n",
       "2008-12-01 5    2008    250000  \n",
       "\n",
       "[5 rows x 80 columns]"
      ]
     },
     "execution_count": 5,
     "metadata": {},
     "output_type": "execute_result"
    }
   ],
   "source": [
    "df.head()"
   ]
  },
  {
   "cell_type": "code",
   "execution_count": 7,
   "metadata": {},
   "outputs": [],
   "source": [
    "df['PPLSF'] = df.SalePrice/df.GrLivArea"
   ]
  },
  {
   "cell_type": "markdown",
   "metadata": {},
   "source": [
    "## Obeservation 1: Is there a price_per_livingArea_square_feet (PPLSF) diffenence between 1 story and multiple story house"
   ]
  },
  {
   "cell_type": "code",
   "execution_count": 15,
   "metadata": {},
   "outputs": [],
   "source": [
    "story1 = df.loc[df.MSSubClass == 20]"
   ]
  },
  {
   "cell_type": "code",
   "execution_count": 54,
   "metadata": {},
   "outputs": [
    {
     "data": {
      "text/plain": [
       "706"
      ]
     },
     "execution_count": 54,
     "metadata": {},
     "output_type": "execute_result"
    }
   ],
   "source": [
    "n1 = story1.shape[0]\n",
    "n1"
   ]
  },
  {
   "cell_type": "code",
   "execution_count": 20,
   "metadata": {},
   "outputs": [],
   "source": [
    "story2 = df.loc[df.MSSubClass == 45]\n",
    "for i in [50,60,70,75,80,85,90,150,160,190]:\n",
    "    story2 = pd.concat([story2,df.loc[df.MSSubClass == i]])"
   ]
  },
  {
   "cell_type": "code",
   "execution_count": 55,
   "metadata": {},
   "outputs": [
    {
     "data": {
      "text/plain": [
       "754"
      ]
     },
     "execution_count": 55,
     "metadata": {},
     "output_type": "execute_result"
    }
   ],
   "source": [
    "n2 = story2.shape[0]\n",
    "n2"
   ]
  },
  {
   "cell_type": "code",
   "execution_count": 39,
   "metadata": {},
   "outputs": [
    {
     "data": {
      "text/plain": [
       "<matplotlib.legend.Legend at 0x115c4d048>"
      ]
     },
     "execution_count": 39,
     "metadata": {},
     "output_type": "execute_result"
    },
    {
     "data": {
      "image/png": "[encoded data removed]",
      "text/plain": [
       "<Figure size 1080x360 with 3 Axes>"
      ]
     },
     "metadata": {
      "needs_background": "light"
     },
     "output_type": "display_data"
    }
   ],
   "source": [
    "fig = plt.figure(figsize = (15,5))\n",
    "ax1 = fig.add_subplot(131)\n",
    "ax1 = story1.PPLSF.hist(bins=20)\n",
    "plt.xlabel('Price Per Square Feet (Living Area): 1 Story House')\n",
    "ax1.vlines(story1.PPLSF.mean(),ymin=0,ymax=150)\n",
    "ax2 = fig.add_subplot(132)\n",
    "ax2 = story2.PPLSF.hist(bins=20)\n",
    "plt.xlabel('Price Per Square Feet (Living Area): >1 Story House')\n",
    "ax2.vlines(story2.PPLSF.mean(),ymin=0,ymax=150)\n",
    "ax3 = fig.add_subplot(133)\n",
    "ax3 = story1.PPLSF.hist(bins=20,label = '1story')\n",
    "ax3 = story2.PPLSF.hist(bins=20,label = '>1story')\n",
    "ax3.vlines(story2.PPLSF.mean(),ymin=0,ymax=150,color='r')\n",
    "ax3.vlines(story1.PPLSF.mean(),ymin=0,ymax=150,color='k')\n",
    "plt.legend()"
   ]
  },
  {
   "cell_type": "markdown",
   "metadata": {},
   "source": [
    "## It looks like PPLSF for multi-story house is lower than 1 story house, then I would like to test it by making 'Null Hypothesis': price_per_livingArea_square_feet (PPLSF) is equal between 1 story and multiple story houses"
   ]
  },
  {
   "cell_type": "code",
   "execution_count": 40,
   "metadata": {},
   "outputs": [],
   "source": [
    "story1_mean = story1.PPLSF.mean()\n",
    "story1_sd = story1.PPLSF.std(ddof=1)\n",
    "story2_mean = story2.PPLSF.mean()\n",
    "story2_sd = story2.PPLSF.std(ddof=1)"
   ]
  },
  {
   "cell_type": "code",
   "execution_count": 45,
   "metadata": {},
   "outputs": [
    {
     "data": {
      "text/plain": [
       "(134.6276980302771, 30.069627235028882, 107.4127946652474, 26.53531254481258)"
      ]
     },
     "execution_count": 45,
     "metadata": {},
     "output_type": "execute_result"
    }
   ],
   "source": [
    "story1_mean,story1_sd,story2_mean,story2_sd"
   ]
  },
  {
   "cell_type": "markdown",
   "metadata": {},
   "source": [
    "### First method, directly using t-test"
   ]
  },
  {
   "cell_type": "code",
   "execution_count": 52,
   "metadata": {},
   "outputs": [
    {
     "data": {
      "text/plain": [
       "Ttest_indResult(statistic=18.36285609299481, pvalue=6.512883012401881e-68)"
      ]
     },
     "execution_count": 52,
     "metadata": {},
     "output_type": "execute_result"
    }
   ],
   "source": [
    "ttest_ind(story1.PPLSF,story2.PPLSF,equal_var = True) "
   ]
  },
  {
   "cell_type": "markdown",
   "metadata": {},
   "source": [
    "#### p < 0.05 (Type1 error sheldhood alpha = 0.05), reject hypothesis"
   ]
  },
  {
   "cell_type": "markdown",
   "metadata": {},
   "source": [
    "### Second method, using bootstrap"
   ]
  },
  {
   "cell_type": "code",
   "execution_count": 69,
   "metadata": {},
   "outputs": [],
   "source": [
    "# bootstrap distribution centered at 0\n",
    "bs_story1 = pd.DataFrame({'m':[story1.PPLSF.sample(n1,replace=True).mean()-story1_mean for i in range(10000)]})\n",
    "bs_story2 = pd.DataFrame({'m':[story2.PPLSF.sample(n2,replace=True).mean()-story2_mean for i in range(10000)]})"
   ]
  },
  {
   "cell_type": "code",
   "execution_count": 70,
   "metadata": {},
   "outputs": [],
   "source": [
    "# difference between two groups\n",
    "dif = bs_story1.m - bs_story2.m"
   ]
  },
  {
   "cell_type": "code",
   "execution_count": 71,
   "metadata": {},
   "outputs": [
    {
     "data": {
      "text/plain": [
       "<matplotlib.axes._subplots.AxesSubplot at 0x1a17a639b0>"
      ]
     },
     "execution_count": 71,
     "metadata": {},
     "output_type": "execute_result"
    },
    {
     "data": {
      "image/png": "[encoded data removed]",
      "text/plain": [
       "<Figure size 432x288 with 1 Axes>"
      ]
     },
     "metadata": {
      "needs_background": "light"
     },
     "output_type": "display_data"
    }
   ],
   "source": [
    "dif.hist(bins=20)"
   ]
  },
  {
   "cell_type": "code",
   "execution_count": 72,
   "metadata": {},
   "outputs": [],
   "source": [
    "# the observed difference\n",
    "obs_dif = story1_mean - story2_mean"
   ]
  },
  {
   "cell_type": "code",
   "execution_count": 73,
   "metadata": {},
   "outputs": [
    {
     "data": {
      "text/plain": [
       "0.0"
      ]
     },
     "execution_count": 73,
     "metadata": {},
     "output_type": "execute_result"
    }
   ],
   "source": [
    "# the probability to see this observation\n",
    "p = np.sum(np.abs(dif) > obs_dif) / len(dif)\n",
    "p"
   ]
  },
  {
   "cell_type": "markdown",
   "metadata": {},
   "source": [
    "#### p value is too small, reject null hypothesis. \n",
    "## Conclusion: multi-story house has lower price_per_livingArea_square_feet"
   ]
  },
  {
   "cell_type": "markdown",
   "metadata": {},
   "source": [
    "## Observation 2: whether housing price is different in different years"
   ]
  },
  {
   "cell_type": "code",
   "execution_count": 75,
   "metadata": {},
   "outputs": [
    {
     "data": {
      "text/plain": [
       "(2006, 2010)"
      ]
     },
     "execution_count": 75,
     "metadata": {},
     "output_type": "execute_result"
    }
   ],
   "source": [
    "df.YrSold.min(),df.YrSold.max()"
   ]
  },
  {
   "cell_type": "code",
   "execution_count": 82,
   "metadata": {},
   "outputs": [],
   "source": [
    "Y2006 = df.loc[df.YrSold == 2006].PPLSF\n",
    "Y2007 = df.loc[df.YrSold == 2007].PPLSF\n",
    "Y2008 = df.loc[df.YrSold == 2008].PPLSF\n",
    "Y2009 = df.loc[df.YrSold == 2009].PPLSF\n",
    "Y2010 = df.loc[df.YrSold == 2010].PPLSF"
   ]
  },
  {
   "cell_type": "code",
   "execution_count": 80,
   "metadata": {},
   "outputs": [
    {
     "data": {
      "text/plain": [
       "(314, 329, 304, 338, 175)"
      ]
     },
     "execution_count": 80,
     "metadata": {},
     "output_type": "execute_result"
    }
   ],
   "source": [
    "Y2006.shape[0],Y2007.shape[0],Y2008.shape[0],Y2009.shape[0],Y2010.shape[0]"
   ]
  },
  {
   "cell_type": "code",
   "execution_count": 85,
   "metadata": {},
   "outputs": [
    {
     "data": {
      "text/plain": [
       "(119.85486155354617,\n",
       " 121.60950041387824,\n",
       " 121.34700777466668,\n",
       " 119.47357094986327,\n",
       " 120.69081416251558)"
      ]
     },
     "execution_count": 85,
     "metadata": {},
     "output_type": "execute_result"
    }
   ],
   "source": [
    "Y2006.mean(),Y2007.mean(),Y2008.mean(),Y2009.mean(),Y2010.mean()"
   ]
  },
  {
   "cell_type": "code",
   "execution_count": 84,
   "metadata": {},
   "outputs": [
    {
     "data": {
      "image/png": "[encoded data removed]",
      "text/plain": [
       "<Figure size 1080x360 with 5 Axes>"
      ]
     },
     "metadata": {
      "needs_background": "light"
     },
     "output_type": "display_data"
    }
   ],
   "source": [
    "fig = plt.figure(figsize = (15,5))\n",
    "ax1 = fig.add_subplot(151)\n",
    "ax1 = Y2006.hist(bins=20)\n",
    "ax2 = fig.add_subplot(152)\n",
    "ax2 = Y2007.hist(bins=20)\n",
    "ax3 = fig.add_subplot(153)\n",
    "ax3 = Y2008.hist(bins=20)\n",
    "ax4 = fig.add_subplot(154)\n",
    "ax4 = Y2009.hist(bins=20)\n",
    "ax5 = fig.add_subplot(155)\n",
    "ax5 = Y2010.hist(bins=20)"
   ]
  },
  {
   "cell_type": "markdown",
   "metadata": {},
   "source": [
    "### It looks like there is no obvious change during year for mean PPLSF. Let test Y2007 and Y2009.\n",
    "### Null hypothesis would be: there is no difference between 2007 and 2009."
   ]
  },
  {
   "cell_type": "code",
   "execution_count": 86,
   "metadata": {},
   "outputs": [
    {
     "data": {
      "text/plain": [
       "Ttest_indResult(statistic=0.8548212202635521, pvalue=0.39295798040706165)"
      ]
     },
     "execution_count": 86,
     "metadata": {},
     "output_type": "execute_result"
    }
   ],
   "source": [
    "ttest_ind(Y2007,Y2009,equal_var = True) "
   ]
  },
  {
   "cell_type": "markdown",
   "metadata": {},
   "source": [
    "#### The p value is big enough (>0.05), we could not reject null hypothesis."
   ]
  },
  {
   "cell_type": "code",
   "execution_count": null,
   "metadata": {},
   "outputs": [],
   "source": []
  },
  {
   "cell_type": "code",
   "execution_count": null,
   "metadata": {},
   "outputs": [],
   "source": []
  },
  {
   "cell_type": "code",
   "execution_count": null,
   "metadata": {},
   "outputs": [],
   "source": []
  },
  {
   "cell_type": "code",
   "execution_count": null,
   "metadata": {},
   "outputs": [],
   "source": []
  },
  {
   "cell_type": "code",
   "execution_count": null,
   "metadata": {},
   "outputs": [],
   "source": []
  },
  {
   "cell_type": "code",
   "execution_count": null,
   "metadata": {},
   "outputs": [],
   "source": []
  },
  {
   "cell_type": "code",
   "execution_count": null,
   "metadata": {},
   "outputs": [],
   "source": []
  }
 ],
 "metadata": {
  "kernelspec": {
   "display_name": "Python 3",
   "language": "python",
   "name": "python3"
  },
  "language_info": {
   "codemirror_mode": {
    "name": "ipython",
    "version": 3
   },
   "file_extension": ".py",
   "mimetype": "text/x-python",
   "name": "python",
   "nbconvert_exporter": "python",
   "pygments_lexer": "ipython3",
   "version": "3.7.3"
  }
 },
 "nbformat": 4,
 "nbformat_minor": 2
}
