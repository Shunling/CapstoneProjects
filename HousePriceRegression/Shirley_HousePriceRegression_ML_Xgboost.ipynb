{
 "cells": [
  {
   "cell_type": "markdown",
   "metadata": {},
   "source": [
    "# Capstone project 1: House prices advanced regression\n",
    "\n",
    "## Machine Learning - Xgboost Model"
   ]
  },
  {
   "cell_type": "code",
   "execution_count": 28,
   "metadata": {},
   "outputs": [],
   "source": [
    "import pandas as pd\n",
    "import numpy as np\n",
    "\n",
    "import xgboost as xgb\n",
    "from xgboost import plot_importance\n",
    "from sklearn.model_selection import RandomizedSearchCV\n",
    "import pickle\n",
    "\n",
    "from sklearn.metrics import r2_score\n",
    "from sklearn.model_selection import cross_val_score\n",
    "\n",
    "import warnings\n",
    "warnings.filterwarnings('ignore')\n",
    "%matplotlib inline\n"
   ]
  },
  {
   "cell_type": "code",
   "execution_count": 22,
   "metadata": {},
   "outputs": [],
   "source": [
    "# Load training and testing data\n",
    "X_train = pd.read_csv('./data/X_train.csv',index_col=0)\n",
    "X_test = pd.read_csv('./data/X_test.csv',index_col=0)\n",
    "y_train = pd.read_csv('./data/y_train.csv',index_col=0)\n",
    "y_test = pd.read_csv('./data/y_test.csv',index_col=0)"
   ]
  },
  {
   "cell_type": "code",
   "execution_count": 23,
   "metadata": {},
   "outputs": [
    {
     "data": {
      "text/html": [
       "<div>\n",
       "<style scoped>\n",
       "    .dataframe tbody tr th:only-of-type {\n",
       "        vertical-align: middle;\n",
       "    }\n",
       "\n",
       "    .dataframe tbody tr th {\n",
       "        vertical-align: top;\n",
       "    }\n",
       "\n",
       "    .dataframe thead th {\n",
       "        text-align: right;\n",
       "    }\n",
       "</style>\n",
       "<table border=\"1\" class=\"dataframe\">\n",
       "  <thead>\n",
       "    <tr style=\"text-align: right;\">\n",
       "      <th></th>\n",
       "      <th>x0_0.0</th>\n",
       "      <th>x0_1.0</th>\n",
       "      <th>x0_2.0</th>\n",
       "      <th>x0_3.0</th>\n",
       "      <th>x0_4.0</th>\n",
       "      <th>x1_0.0</th>\n",
       "      <th>x1_1.0</th>\n",
       "      <th>x2_0.0</th>\n",
       "      <th>x2_1.0</th>\n",
       "      <th>x2_2.0</th>\n",
       "      <th>...</th>\n",
       "      <th>GarageArea</th>\n",
       "      <th>WoodDeckSF</th>\n",
       "      <th>OpenPorchSF</th>\n",
       "      <th>EnclosedPorch</th>\n",
       "      <th>3SsnPorch</th>\n",
       "      <th>ScreenPorch</th>\n",
       "      <th>PoolArea</th>\n",
       "      <th>MiscVal</th>\n",
       "      <th>MoSold</th>\n",
       "      <th>YrSold</th>\n",
       "    </tr>\n",
       "  </thead>\n",
       "  <tbody>\n",
       "    <tr>\n",
       "      <th>0</th>\n",
       "      <td>0.0</td>\n",
       "      <td>0.0</td>\n",
       "      <td>0.0</td>\n",
       "      <td>1.0</td>\n",
       "      <td>0.0</td>\n",
       "      <td>0.0</td>\n",
       "      <td>1.0</td>\n",
       "      <td>0.0</td>\n",
       "      <td>1.0</td>\n",
       "      <td>0.0</td>\n",
       "      <td>...</td>\n",
       "      <td>0.186178</td>\n",
       "      <td>0.093349</td>\n",
       "      <td>0.000000</td>\n",
       "      <td>0.000000</td>\n",
       "      <td>0.0</td>\n",
       "      <td>0.0</td>\n",
       "      <td>0.0</td>\n",
       "      <td>0.0</td>\n",
       "      <td>0.363636</td>\n",
       "      <td>1.00</td>\n",
       "    </tr>\n",
       "    <tr>\n",
       "      <th>1</th>\n",
       "      <td>0.0</td>\n",
       "      <td>0.0</td>\n",
       "      <td>0.0</td>\n",
       "      <td>1.0</td>\n",
       "      <td>0.0</td>\n",
       "      <td>0.0</td>\n",
       "      <td>1.0</td>\n",
       "      <td>0.0</td>\n",
       "      <td>1.0</td>\n",
       "      <td>0.0</td>\n",
       "      <td>...</td>\n",
       "      <td>0.592384</td>\n",
       "      <td>0.000000</td>\n",
       "      <td>0.065814</td>\n",
       "      <td>0.000000</td>\n",
       "      <td>0.0</td>\n",
       "      <td>0.0</td>\n",
       "      <td>0.0</td>\n",
       "      <td>0.0</td>\n",
       "      <td>0.363636</td>\n",
       "      <td>0.75</td>\n",
       "    </tr>\n",
       "    <tr>\n",
       "      <th>2</th>\n",
       "      <td>0.0</td>\n",
       "      <td>0.0</td>\n",
       "      <td>0.0</td>\n",
       "      <td>1.0</td>\n",
       "      <td>0.0</td>\n",
       "      <td>0.0</td>\n",
       "      <td>1.0</td>\n",
       "      <td>0.0</td>\n",
       "      <td>1.0</td>\n",
       "      <td>0.0</td>\n",
       "      <td>...</td>\n",
       "      <td>0.465444</td>\n",
       "      <td>0.116686</td>\n",
       "      <td>0.031079</td>\n",
       "      <td>0.000000</td>\n",
       "      <td>0.0</td>\n",
       "      <td>0.0</td>\n",
       "      <td>0.0</td>\n",
       "      <td>0.0</td>\n",
       "      <td>0.909091</td>\n",
       "      <td>0.00</td>\n",
       "    </tr>\n",
       "    <tr>\n",
       "      <th>3</th>\n",
       "      <td>0.0</td>\n",
       "      <td>0.0</td>\n",
       "      <td>0.0</td>\n",
       "      <td>1.0</td>\n",
       "      <td>0.0</td>\n",
       "      <td>0.0</td>\n",
       "      <td>1.0</td>\n",
       "      <td>0.0</td>\n",
       "      <td>1.0</td>\n",
       "      <td>0.0</td>\n",
       "      <td>...</td>\n",
       "      <td>0.468970</td>\n",
       "      <td>0.000000</td>\n",
       "      <td>0.131627</td>\n",
       "      <td>0.315217</td>\n",
       "      <td>0.0</td>\n",
       "      <td>0.0</td>\n",
       "      <td>0.0</td>\n",
       "      <td>0.0</td>\n",
       "      <td>0.363636</td>\n",
       "      <td>0.50</td>\n",
       "    </tr>\n",
       "    <tr>\n",
       "      <th>4</th>\n",
       "      <td>0.0</td>\n",
       "      <td>0.0</td>\n",
       "      <td>0.0</td>\n",
       "      <td>1.0</td>\n",
       "      <td>0.0</td>\n",
       "      <td>0.0</td>\n",
       "      <td>1.0</td>\n",
       "      <td>0.0</td>\n",
       "      <td>1.0</td>\n",
       "      <td>0.0</td>\n",
       "      <td>...</td>\n",
       "      <td>0.479549</td>\n",
       "      <td>0.000000</td>\n",
       "      <td>0.137112</td>\n",
       "      <td>0.000000</td>\n",
       "      <td>0.0</td>\n",
       "      <td>0.0</td>\n",
       "      <td>0.0</td>\n",
       "      <td>0.0</td>\n",
       "      <td>0.363636</td>\n",
       "      <td>1.00</td>\n",
       "    </tr>\n",
       "  </tbody>\n",
       "</table>\n",
       "<p>5 rows × 318 columns</p>\n",
       "</div>"
      ],
      "text/plain": [
       "   x0_0.0  x0_1.0  x0_2.0  x0_3.0  x0_4.0  x1_0.0  x1_1.0  x2_0.0  x2_1.0  \\\n",
       "0     0.0     0.0     0.0     1.0     0.0     0.0     1.0     0.0     1.0   \n",
       "1     0.0     0.0     0.0     1.0     0.0     0.0     1.0     0.0     1.0   \n",
       "2     0.0     0.0     0.0     1.0     0.0     0.0     1.0     0.0     1.0   \n",
       "3     0.0     0.0     0.0     1.0     0.0     0.0     1.0     0.0     1.0   \n",
       "4     0.0     0.0     0.0     1.0     0.0     0.0     1.0     0.0     1.0   \n",
       "\n",
       "   x2_2.0  ...  GarageArea  WoodDeckSF  OpenPorchSF  EnclosedPorch  3SsnPorch  \\\n",
       "0     0.0  ...    0.186178    0.093349     0.000000       0.000000        0.0   \n",
       "1     0.0  ...    0.592384    0.000000     0.065814       0.000000        0.0   \n",
       "2     0.0  ...    0.465444    0.116686     0.031079       0.000000        0.0   \n",
       "3     0.0  ...    0.468970    0.000000     0.131627       0.315217        0.0   \n",
       "4     0.0  ...    0.479549    0.000000     0.137112       0.000000        0.0   \n",
       "\n",
       "   ScreenPorch  PoolArea  MiscVal    MoSold  YrSold  \n",
       "0          0.0       0.0      0.0  0.363636    1.00  \n",
       "1          0.0       0.0      0.0  0.363636    0.75  \n",
       "2          0.0       0.0      0.0  0.909091    0.00  \n",
       "3          0.0       0.0      0.0  0.363636    0.50  \n",
       "4          0.0       0.0      0.0  0.363636    1.00  \n",
       "\n",
       "[5 rows x 318 columns]"
      ]
     },
     "execution_count": 23,
     "metadata": {},
     "output_type": "execute_result"
    }
   ],
   "source": [
    "X_train.head()"
   ]
  },
  {
   "cell_type": "markdown",
   "metadata": {},
   "source": [
    "### First Model"
   ]
  },
  {
   "cell_type": "code",
   "execution_count": 24,
   "metadata": {},
   "outputs": [
    {
     "name": "stdout",
     "output_type": "stream",
     "text": [
      "Fitting 4 folds for each of 10 candidates, totalling 40 fits\n"
     ]
    },
    {
     "name": "stderr",
     "output_type": "stream",
     "text": [
      "[Parallel(n_jobs=1)]: Using backend SequentialBackend with 1 concurrent workers.\n",
      "[Parallel(n_jobs=1)]: Done  40 out of  40 | elapsed:   58.4s finished\n"
     ]
    },
    {
     "name": "stdout",
     "output_type": "stream",
     "text": [
      "Best score:  0.7891578735200098\n",
      "Bset model:  XGBRegressor(base_score=0.5, booster='gbtree', colsample_bylevel=1,\n",
      "             colsample_bynode=1, colsample_bytree=1, gamma=0,\n",
      "             importance_type='gain', learning_rate=0.1, max_delta_step=0,\n",
      "             max_depth=5, min_child_weight=1, missing=None, n_estimators=250,\n",
      "             n_jobs=1, nthread=None, objective='reg:squarederror',\n",
      "             random_state=0, reg_alpha=0, reg_lambda=1, scale_pos_weight=1,\n",
      "             seed=None, silent=None, subsample=0.05, verbosity=1)\n"
     ]
    }
   ],
   "source": [
    "# First model, using grid search with xgboost-regressor\n",
    "\n",
    "search_grid1 = {\n",
    "    'learning_rate':np.arange(0.05,1,0.05),\n",
    "    'subsample':np.arange(0.05,1,0.05),\n",
    "    'max_depth':np.arange(3,10,1)\n",
    "}\n",
    "model1 = xgb.XGBRegressor(n_estimators=250,objective='reg:squarederror')\n",
    "\n",
    "random_search_r2 = RandomizedSearchCV(estimator=model1,\n",
    "                                      param_distributions=search_grid1,\n",
    "                                      scoring= 'r2',\n",
    "                                      cv=4,\n",
    "                                      n_iter=10,\n",
    "                                      verbose=1)\n",
    "random_search_r2.fit(X_train,y_train)\n",
    "print('Best score: ', random_search_r2.best_score_)\n",
    "print('Bset model: ', random_search_r2.best_estimator_)"
   ]
  },
  {
   "cell_type": "code",
   "execution_count": 27,
   "metadata": {},
   "outputs": [
    {
     "name": "stdout",
     "output_type": "stream",
     "text": [
      "r2:0.8170618282526447\n"
     ]
    }
   ],
   "source": [
    "#Verify modeling fitting using test data\n",
    "\n",
    "y_test_predict1 = random_search_r2.best_estimator_.predict(X_test)\n",
    "r2 = r2_score(y_test,y_test_predict1)\n",
    "\n",
    "print('r2:{}'.format(r2))\n"
   ]
  },
  {
   "cell_type": "code",
   "execution_count": 32,
   "metadata": {},
   "outputs": [],
   "source": [
    "# save model\n",
    "pickle.dump(random_search_r2.best_estimator_, open(\"xgb_model_r2.dat\", \"wb\"))"
   ]
  },
  {
   "cell_type": "markdown",
   "metadata": {},
   "source": [
    "### Second Model"
   ]
  },
  {
   "cell_type": "code",
   "execution_count": 33,
   "metadata": {},
   "outputs": [
    {
     "name": "stdout",
     "output_type": "stream",
     "text": [
      "Fitting 5 folds for each of 10 candidates, totalling 50 fits\n"
     ]
    },
    {
     "name": "stderr",
     "output_type": "stream",
     "text": [
      "[Parallel(n_jobs=1)]: Using backend SequentialBackend with 1 concurrent workers.\n",
      "[Parallel(n_jobs=1)]: Done  50 out of  50 | elapsed:  1.3min finished\n"
     ]
    },
    {
     "name": "stdout",
     "output_type": "stream",
     "text": [
      "Best score:  -0.0024141719787529035\n",
      "Bset model:  XGBRegressor(base_score=0.5, booster='gbtree', colsample_bylevel=1,\n",
      "             colsample_bynode=1, colsample_bytree=1, gamma=0,\n",
      "             importance_type='gain', learning_rate=0.4, max_delta_step=0,\n",
      "             max_depth=8, min_child_weight=1, missing=None, n_estimators=100,\n",
      "             n_jobs=1, nthread=None, objective='reg:squarederror',\n",
      "             random_state=0, reg_alpha=0, reg_lambda=1, scale_pos_weight=1,\n",
      "             seed=None, silent=None, subsample=0.8, verbosity=1)\n",
      "Best_RMSE:  0.049134224108587525\n"
     ]
    }
   ],
   "source": [
    "search_grid2 = {\n",
    "    'learning_rate':np.arange(0.05,1,0.05),\n",
    "    'n_estimators':np.arange(50,300,50),\n",
    "    'subsample':np.arange(0.05,1,0.05)\n",
    "}\n",
    "model2 = xgb.XGBRegressor(max_depth=8,objective='reg:squarederror')\n",
    "random_search_mse = RandomizedSearchCV(estimator=model2,\n",
    "                                       param_distributions=search_grid2,\n",
    "                                       scoring='neg_mean_squared_error',\n",
    "                                       cv=5,\n",
    "                                       n_iter=10,\n",
    "                                       verbose=1)\n",
    "random_search_mse.fit(X_train,y_train)\n",
    "print('Best score: ', random_search_mse.best_score_)\n",
    "print('Bset model: ', random_search_mse.best_estimator_)\n",
    "print('Best_RMSE: ',np.sqrt(np.abs(random_search_mse.best_score_)))"
   ]
  },
  {
   "cell_type": "code",
   "execution_count": 34,
   "metadata": {},
   "outputs": [
    {
     "name": "stdout",
     "output_type": "stream",
     "text": [
      "r2:0.8685148253706018\n"
     ]
    }
   ],
   "source": [
    "#Verify modeling fitting using test data\n",
    "\n",
    "y_test_predict2 = random_search_mse.best_estimator_.predict(X_test)\n",
    "mse_r2 = r2_score(y_test,y_test_predict2)\n",
    "\n",
    "print('r2:{}'.format(mse_r2))"
   ]
  },
  {
   "cell_type": "code",
   "execution_count": 35,
   "metadata": {},
   "outputs": [],
   "source": [
    "# save model\n",
    "pickle.dump(random_search_mse.best_estimator_, open(\"xgb_model_mse.dat\", \"wb\"))"
   ]
  },
  {
   "cell_type": "markdown",
   "metadata": {},
   "source": [
    "### Third Model"
   ]
  },
  {
   "cell_type": "code",
   "execution_count": 40,
   "metadata": {},
   "outputs": [
    {
     "name": "stdout",
     "output_type": "stream",
     "text": [
      "Fitting 5 folds for each of 10 candidates, totalling 50 fits\n"
     ]
    },
    {
     "name": "stderr",
     "output_type": "stream",
     "text": [
      "[Parallel(n_jobs=1)]: Using backend SequentialBackend with 1 concurrent workers.\n",
      "[Parallel(n_jobs=1)]: Done  50 out of  50 | elapsed:  1.1min finished\n"
     ]
    },
    {
     "name": "stdout",
     "output_type": "stream",
     "text": [
      "Best score:  0.8473978722167116\n",
      "Bset model:  XGBRegressor(base_score=0.5, booster='gbtree', colsample_bylevel=1,\n",
      "             colsample_bynode=1, colsample_bytree=1, gamma=0,\n",
      "             importance_type='gain', learning_rate=0.05, max_delta_step=0,\n",
      "             max_depth=8, min_child_weight=1, missing=None, n_estimators=100,\n",
      "             n_jobs=1, nthread=None, objective='reg:squarederror',\n",
      "             random_state=0, reg_alpha=0, reg_lambda=1, scale_pos_weight=1,\n",
      "             seed=None, silent=None, subsample=0.35000000000000003,\n",
      "             verbosity=1)\n"
     ]
    }
   ],
   "source": [
    "random_search3 = RandomizedSearchCV(estimator=model2,\n",
    "                                      param_distributions=search_grid2,\n",
    "                                      scoring= 'r2',\n",
    "                                      cv=5,\n",
    "                                      n_iter=10,\n",
    "                                      verbose=1)\n",
    "random_search3.fit(X_train,y_train)\n",
    "print('Best score: ', random_search3.best_score_)\n",
    "print('Bset model: ', random_search3.best_estimator_)"
   ]
  },
  {
   "cell_type": "code",
   "execution_count": 41,
   "metadata": {},
   "outputs": [
    {
     "name": "stdout",
     "output_type": "stream",
     "text": [
      "r2:0.8971400301127349\n"
     ]
    }
   ],
   "source": [
    "#Verify modeling fitting using test data\n",
    "\n",
    "y_test_predict3 = random_search3.best_estimator_.predict(X_test)\n",
    "r2_3 = r2_score(y_test,y_test_predict3)\n",
    "\n",
    "print('r2:{}'.format(r2_3))"
   ]
  },
  {
   "cell_type": "code",
   "execution_count": 43,
   "metadata": {},
   "outputs": [],
   "source": [
    "# save model\n",
    "pickle.dump(random_search3.best_estimator_, open(\"xgb_model_r2.dat\", \"wb\"))"
   ]
  },
  {
   "cell_type": "markdown",
   "metadata": {},
   "source": [
    "### Fourth Model"
   ]
  },
  {
   "cell_type": "code",
   "execution_count": 44,
   "metadata": {},
   "outputs": [
    {
     "name": "stdout",
     "output_type": "stream",
     "text": [
      "Fitting 10 folds for each of 10 candidates, totalling 100 fits\n"
     ]
    },
    {
     "name": "stderr",
     "output_type": "stream",
     "text": [
      "[Parallel(n_jobs=1)]: Using backend SequentialBackend with 1 concurrent workers.\n",
      "[Parallel(n_jobs=1)]: Done 100 out of 100 | elapsed:  2.5min finished\n"
     ]
    },
    {
     "name": "stdout",
     "output_type": "stream",
     "text": [
      "Best score:  -0.0016746565500231779\n",
      "Bset model:  XGBRegressor(base_score=0.5, booster='gbtree', colsample_bylevel=1,\n",
      "             colsample_bynode=1, colsample_bytree=1, gamma=0,\n",
      "             importance_type='gain', learning_rate=0.15000000000000002,\n",
      "             max_delta_step=0, max_depth=8, min_child_weight=1, missing=None,\n",
      "             n_estimators=250, n_jobs=1, nthread=None,\n",
      "             objective='reg:squarederror', random_state=0, reg_alpha=0,\n",
      "             reg_lambda=1, scale_pos_weight=1, seed=None, silent=None,\n",
      "             subsample=0.7500000000000001, verbosity=1)\n",
      "Best_RMSE:  0.040922567734969634\n"
     ]
    }
   ],
   "source": [
    "random_search_mse = RandomizedSearchCV(estimator=model2,\n",
    "                                       param_distributions=search_grid2,\n",
    "                                       scoring='neg_mean_squared_error',\n",
    "                                       cv=10,\n",
    "                                       n_iter=10,\n",
    "                                       verbose=1)\n",
    "random_search_mse.fit(X_train,y_train)\n",
    "print('Best score: ', random_search_mse.best_score_)\n",
    "print('Bset model: ', random_search_mse.best_estimator_)\n",
    "print('Best_RMSE: ',np.sqrt(np.abs(random_search_mse.best_score_)))"
   ]
  },
  {
   "cell_type": "code",
   "execution_count": 45,
   "metadata": {},
   "outputs": [
    {
     "name": "stdout",
     "output_type": "stream",
     "text": [
      "r2:0.8840670756806317\n"
     ]
    }
   ],
   "source": [
    "#Verify modeling fitting using test data\n",
    "\n",
    "y_test_predict4 = random_search_mse.best_estimator_.predict(X_test)\n",
    "mse2_r2 = r2_score(y_test,y_test_predict4)\n",
    "\n",
    "print('r2:{}'.format(mse2_r2))"
   ]
  },
  {
   "cell_type": "markdown",
   "metadata": {},
   "source": [
    "# testing accuracy is not better than model3, no need to save\n",
    "# Best model so far is model3:\"xgb_model_r2.dat\""
   ]
  }
 ],
 "metadata": {
  "kernelspec": {
   "display_name": "Python 3",
   "language": "python",
   "name": "python3"
  },
  "language_info": {
   "codemirror_mode": {
    "name": "ipython",
    "version": 3
   },
   "file_extension": ".py",
   "mimetype": "text/x-python",
   "name": "python",
   "nbconvert_exporter": "python",
   "pygments_lexer": "ipython3",
   "version": "3.7.3"
  }
 },
 "nbformat": 4,
 "nbformat_minor": 2
}
