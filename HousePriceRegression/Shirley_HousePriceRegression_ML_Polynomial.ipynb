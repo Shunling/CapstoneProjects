{
 "cells": [
  {
   "cell_type": "markdown",
   "metadata": {},
   "source": [
    "# Capstone project 1: House prices advanced regression\n",
    "\n",
    "## Machine Learning - Polynomial Model"
   ]
  },
  {
   "cell_type": "code",
   "execution_count": 1,
   "metadata": {},
   "outputs": [],
   "source": [
    "from sklearn.preprocessing import PolynomialFeatures\n",
    "from sklearn.linear_model import LinearRegression\n",
    "from sklearn.metrics import r2_score\n",
    "from sklearn.model_selection import KFold\n",
    "import pandas as pd\n",
    "import numpy as np"
   ]
  },
  {
   "cell_type": "code",
   "execution_count": 2,
   "metadata": {},
   "outputs": [],
   "source": [
    "# Load test and train data\n",
    "Xtrain = pd.read_csv('./dummy_data/X_train.csv',index_col = 'Id')\n",
    "Xtest = pd.read_csv('./dummy_data/X_test.csv',index_col = 'Id')\n",
    "ytrain = pd.read_csv('./dummy_data/y_train.csv',header=None,index_col=0)\n",
    "ytest = pd.read_csv('./dummy_data/y_test.csv',header=None,index_col=0)"
   ]
  },
  {
   "cell_type": "markdown",
   "metadata": {},
   "source": [
    "### Full model"
   ]
  },
  {
   "cell_type": "code",
   "execution_count": 3,
   "metadata": {},
   "outputs": [],
   "source": [
    "num_cols = Xtrain.columns[:36].drop('SoldTime')\n",
    "cat_cols = Xtrain.columns[36:]"
   ]
  },
  {
   "cell_type": "code",
   "execution_count": 4,
   "metadata": {},
   "outputs": [],
   "source": [
    "# transform to polynomial\n",
    "transPoly = PolynomialFeatures(2)"
   ]
  },
  {
   "cell_type": "code",
   "execution_count": 5,
   "metadata": {},
   "outputs": [],
   "source": [
    "# generate order=2 polynomial features for numerical columns \n",
    "Xtrain_cat = Xtrain[cat_cols]\n",
    "Xtrain_num = transPoly.fit_transform(Xtrain[num_cols])\n",
    "Xtest_cat = Xtest[cat_cols]\n",
    "Xtest_num = transPoly.transform(Xtest[num_cols])"
   ]
  },
  {
   "cell_type": "code",
   "execution_count": 6,
   "metadata": {},
   "outputs": [
    {
     "data": {
      "text/plain": [
       "((1022, 283), (1022, 666))"
      ]
     },
     "execution_count": 6,
     "metadata": {},
     "output_type": "execute_result"
    }
   ],
   "source": [
    "Xtrain_cat.shape,Xtrain_num.shape"
   ]
  },
  {
   "cell_type": "code",
   "execution_count": 7,
   "metadata": {},
   "outputs": [
    {
     "data": {
      "text/plain": [
       "((438, 283), (438, 666))"
      ]
     },
     "execution_count": 7,
     "metadata": {},
     "output_type": "execute_result"
    }
   ],
   "source": [
    "Xtest_cat.shape,Xtest_num.shape"
   ]
  },
  {
   "cell_type": "code",
   "execution_count": 8,
   "metadata": {},
   "outputs": [],
   "source": [
    "# combine numerical and categorical data together\n",
    "X_train = [list(Xtrain_cat.iloc[i].values) + list(Xtrain_num[i]) for i in range(1022)]\n"
   ]
  },
  {
   "cell_type": "code",
   "execution_count": 9,
   "metadata": {},
   "outputs": [],
   "source": [
    "X_test = [list(Xtest_cat.iloc[i].values) + list(Xtest_num[i]) for i in range(438)]"
   ]
  },
  {
   "cell_type": "code",
   "execution_count": 10,
   "metadata": {},
   "outputs": [],
   "source": [
    "# linear regression\n",
    "reg = LinearRegression().fit(X_train, ytrain)"
   ]
  },
  {
   "cell_type": "code",
   "execution_count": 25,
   "metadata": {},
   "outputs": [
    {
     "data": {
      "text/plain": [
       "((1022, 105), (1022, 1))"
      ]
     },
     "execution_count": 25,
     "metadata": {},
     "output_type": "execute_result"
    }
   ],
   "source": [
    "X_train.shape,ytrain.shape"
   ]
  },
  {
   "cell_type": "code",
   "execution_count": 11,
   "metadata": {},
   "outputs": [],
   "source": [
    "# predicting testing results\n",
    "predict = reg.predict(X_test)"
   ]
  },
  {
   "cell_type": "code",
   "execution_count": 12,
   "metadata": {},
   "outputs": [
    {
     "data": {
      "text/plain": [
       "((438, 1), (438, 1))"
      ]
     },
     "execution_count": 12,
     "metadata": {},
     "output_type": "execute_result"
    }
   ],
   "source": [
    "predict.shape,ytest.shape"
   ]
  },
  {
   "cell_type": "code",
   "execution_count": 13,
   "metadata": {},
   "outputs": [
    {
     "data": {
      "text/plain": [
       "-0.0020996226672027607"
      ]
     },
     "execution_count": 13,
     "metadata": {},
     "output_type": "execute_result"
    }
   ],
   "source": [
    "# testing score\n",
    "r2_score(predict,ytest) "
   ]
  },
  {
   "cell_type": "code",
   "execution_count": 14,
   "metadata": {},
   "outputs": [
    {
     "data": {
      "text/plain": [
       "0.9891409875982647"
      ]
     },
     "execution_count": 14,
     "metadata": {},
     "output_type": "execute_result"
    }
   ],
   "source": [
    "# training score\n",
    "r2_score(reg.predict(X_train),ytrain) "
   ]
  },
  {
   "cell_type": "markdown",
   "metadata": {},
   "source": [
    "### Selected features"
   ]
  },
  {
   "cell_type": "code",
   "execution_count": 15,
   "metadata": {},
   "outputs": [],
   "source": [
    "# According to feature EDA, sellect only the interesting features\n",
    "\n",
    "interesting_columns = ['RoofMatl', 'Exterior1st','Neighborhood','LotFrontage', 'LotArea','OverallQual', \\\n",
    "                     'OverallCond', 'YearBuilt', 'YearRemodAdd','BsmtFinSF1','ExterCond','BsmtQual',\\\n",
    "                     'HeatingQC','CentralAir','KitchenQual','FireplaceQu','SaleType', 'SaleCondition', \\\n",
    "                     'MSSubClass','TotalBsmtSF', '1stFlrSF','2ndFlrSF','GrLivArea','GarageCars', 'GarageArea']"
   ]
  },
  {
   "cell_type": "code",
   "execution_count": 16,
   "metadata": {},
   "outputs": [],
   "source": [
    "Features = []"
   ]
  },
  {
   "cell_type": "code",
   "execution_count": 17,
   "metadata": {},
   "outputs": [],
   "source": [
    "# choose the columns that is in training data \n",
    "#(which is only numerical because categorical collumns are transformed to dummy tables with different column names)\n",
    "for col in interesting_columns:\n",
    "    if col in Xtrain.columns:\n",
    "        Features.append(col)"
   ]
  },
  {
   "cell_type": "code",
   "execution_count": 18,
   "metadata": {},
   "outputs": [
    {
     "name": "stdout",
     "output_type": "stream",
     "text": [
      "['LotFrontage', 'LotArea', 'OverallQual', 'OverallCond', 'YearBuilt', 'YearRemodAdd', 'BsmtFinSF1', 'TotalBsmtSF', '1stFlrSF', '2ndFlrSF', 'GrLivArea', 'GarageCars', 'GarageArea']\n"
     ]
    }
   ],
   "source": [
    "print(Features)"
   ]
  },
  {
   "cell_type": "code",
   "execution_count": 19,
   "metadata": {},
   "outputs": [],
   "source": [
    "Xtrain = Xtrain[Features]\n",
    "Xtest = Xtest[Features]"
   ]
  },
  {
   "cell_type": "code",
   "execution_count": 20,
   "metadata": {},
   "outputs": [],
   "source": [
    "# transform those numerical collumns to polynomial features\n",
    "X_train = transPoly.fit_transform(Xtrain[Features])\n",
    "\n",
    "X_test = transPoly.transform(Xtest[Features])"
   ]
  },
  {
   "cell_type": "code",
   "execution_count": 26,
   "metadata": {},
   "outputs": [
    {
     "data": {
      "text/plain": [
       "((1022, 105), (438, 105), (1022, 1), (438, 1))"
      ]
     },
     "execution_count": 26,
     "metadata": {},
     "output_type": "execute_result"
    }
   ],
   "source": [
    "X_train.shape,X_test.shape,ytrain.shape,ytest.shape"
   ]
  },
  {
   "cell_type": "code",
   "execution_count": 27,
   "metadata": {},
   "outputs": [],
   "source": [
    "# 4-fold cross validation\n",
    "cv = []\n",
    "model = []\n",
    "kf = KFold(n_splits=4)\n",
    "for train_index, test_index in kf.split(X_train):\n",
    "    Xtrain, Xtest = X_train[train_index], X_train[test_index]\n",
    "    ytr, yte = ytrain.values[train_index], ytrain.values[test_index]\n",
    "    reg = LinearRegression().fit(Xtrain, ytr) \n",
    "    model.append(reg)\n",
    "    cv.append(r2_score(reg.predict(Xtest),yte))"
   ]
  },
  {
   "cell_type": "code",
   "execution_count": 28,
   "metadata": {},
   "outputs": [
    {
     "data": {
      "text/plain": [
       "[0.2903768396325155,\n",
       " 0.42388878466125146,\n",
       " 0.8367384990692768,\n",
       " 0.8412627027026077]"
      ]
     },
     "execution_count": 28,
     "metadata": {},
     "output_type": "execute_result"
    }
   ],
   "source": [
    "cv"
   ]
  },
  {
   "cell_type": "code",
   "execution_count": 30,
   "metadata": {},
   "outputs": [],
   "source": [
    "predict3 = model[3].predict(X_test) # predict testing data"
   ]
  },
  {
   "cell_type": "code",
   "execution_count": 31,
   "metadata": {},
   "outputs": [
    {
     "data": {
      "text/plain": [
       "0.7263420274193868"
      ]
     },
     "execution_count": 31,
     "metadata": {},
     "output_type": "execute_result"
    }
   ],
   "source": [
    "r2_score(predict3,ytest) # testing score of model3"
   ]
  },
  {
   "cell_type": "code",
   "execution_count": 32,
   "metadata": {},
   "outputs": [
    {
     "data": {
      "text/plain": [
       "0.7645308566369952"
      ]
     },
     "execution_count": 32,
     "metadata": {},
     "output_type": "execute_result"
    }
   ],
   "source": [
    "predict2 = model[2].predict(X_test)# testing score of model2\n",
    "r2_score(predict2,ytest)"
   ]
  },
  {
   "cell_type": "code",
   "execution_count": 33,
   "metadata": {},
   "outputs": [
    {
     "data": {
      "text/plain": [
       "0.4149995140497805"
      ]
     },
     "execution_count": 33,
     "metadata": {},
     "output_type": "execute_result"
    }
   ],
   "source": [
    "predict1 = model[1].predict(X_test)# testing score of model1\n",
    "r2_score(predict1,ytest)"
   ]
  },
  {
   "cell_type": "code",
   "execution_count": 34,
   "metadata": {},
   "outputs": [
    {
     "data": {
      "text/plain": [
       "0.18856306567728798"
      ]
     },
     "execution_count": 34,
     "metadata": {},
     "output_type": "execute_result"
    }
   ],
   "source": [
    "predict = model[0].predict(X_test)# testing score of model0\n",
    "r2_score(predict,ytest)"
   ]
  }
 ],
 "metadata": {
  "kernelspec": {
   "display_name": "Python 3",
   "language": "python",
   "name": "python3"
  },
  "language_info": {
   "codemirror_mode": {
    "name": "ipython",
    "version": 3
   },
   "file_extension": ".py",
   "mimetype": "text/x-python",
   "name": "python",
   "nbconvert_exporter": "python",
   "pygments_lexer": "ipython3",
   "version": "3.7.4"
  }
 },
 "nbformat": 4,
 "nbformat_minor": 2
}
