{
 "cells": [
  {
   "cell_type": "code",
   "execution_count": 60,
   "metadata": {},
   "outputs": [],
   "source": [
    "import pandas as pd\n",
    "from bs4 import BeautifulSoup\n",
    "import re"
   ]
  },
  {
   "cell_type": "code",
   "execution_count": null,
   "metadata": {},
   "outputs": [],
   "source": [
    "#import s3fs\n",
    "#df1 = pd.read_csv('s3://shirley001/chunk78k.csv') if dat is public from aws bucket"
   ]
  },
  {
   "cell_type": "markdown",
   "metadata": {},
   "source": [
    "## Load data and check data format"
   ]
  },
  {
   "cell_type": "code",
   "execution_count": 2,
   "metadata": {},
   "outputs": [
    {
     "name": "stderr",
     "output_type": "stream",
     "text": [
      "//anaconda3/lib/python3.7/site-packages/IPython/core/interactiveshell.py:3057: DtypeWarning: Columns (9) have mixed types. Specify dtype option on import or set low_memory=False.\n",
      "  interactivity=interactivity, compiler=compiler, result=result)\n"
     ]
    }
   ],
   "source": [
    "df1 = pd.read_csv('78k.csv')\n",
    "df2 = pd.read_csv('78_150k.csv')\n",
    "df3 = pd.read_csv('150_240k.csv')\n",
    "df4 = pd.read_csv('240_320k.csv')\n"
   ]
  },
  {
   "cell_type": "code",
   "execution_count": 3,
   "metadata": {},
   "outputs": [],
   "source": [
    "dfs = pd.concat([df1,df2,df3,df4])"
   ]
  },
  {
   "cell_type": "code",
   "execution_count": 4,
   "metadata": {},
   "outputs": [
    {
     "data": {
      "text/plain": [
       "(324059, 10)"
      ]
     },
     "execution_count": 4,
     "metadata": {},
     "output_type": "execute_result"
    }
   ],
   "source": [
    "dfs.shape"
   ]
  },
  {
   "cell_type": "code",
   "execution_count": 5,
   "metadata": {},
   "outputs": [
    {
     "name": "stdout",
     "output_type": "stream",
     "text": [
      "<class 'pandas.core.frame.DataFrame'>\n",
      "Int64Index: 324059 entries, 0 to 84122\n",
      "Data columns (total 10 columns):\n",
      "Id             324059 non-null int64\n",
      "abstract       296782 non-null object\n",
      "title          323870 non-null object\n",
      "authors        323871 non-null object\n",
      "journal        324059 non-null object\n",
      "journal_abv    324059 non-null object\n",
      "date           116545 non-null object\n",
      "affiliation    323922 non-null object\n",
      "records        323647 non-null object\n",
      "keywords       37883 non-null object\n",
      "dtypes: int64(1), object(9)\n",
      "memory usage: 27.2+ MB\n"
     ]
    }
   ],
   "source": [
    "dfs.info()"
   ]
  },
  {
   "cell_type": "code",
   "execution_count": 29,
   "metadata": {},
   "outputs": [
    {
     "data": {
      "text/plain": [
       "'<div class=\"abstr\">\\n <h3>\\n  Abstract\\n </h3>\\n <div class=\"\">\\n  <p>\\n   Patients suffering from cholestasis, the slowing or stoppage of bile flow, commonly report experiencing an intense, chronic itch. Numerous pruritogens are up-regulated in cholestatic patient sera, including bile acids (BAs). Acute injection of BAs results in itch in both mice and humans, and BA-modulating therapy is effective in controlling patient itch. Here, we present evidence that human sensory neuron-expressed Mas-related G protein-coupled receptor X4 (MRGPRX4), an orphan member of the\\n   <i>\\n    Mrgpr\\n   </i>\\n   family of GPCRs, is a BA receptor. Using Ca\\n   <sup>\\n    2+\\n   </sup>\\n   imaging, we determined that pathophysiologically relevant levels of numerous BAs activated MRGPRX4. No mouse Mrgpr orthologs were activated by BAs. To assess the in vivo relevance of BA activation of MRGPRX4, we generated a humanized mouse with targeted expression of MRGPRX4 in itch-encoding sensory neurons. BAs activated MRGPRX4\\n   <sup>\\n    +\\n   </sup>\\n   sensory neurons at higher levels compared with WT neurons. Compared with control animals, MRGPRX4\\n   <sup>\\n    +\\n   </sup>\\n   mice scratched more upon acute injection of BAs and in a model of cholestatic itch. Overall, these data suggest that targeting MRGPRX4 is a promising strategy for alleviating cholestatic itch.\\n  </p>\\n </div>\\n</div>\\n'"
      ]
     },
     "execution_count": 29,
     "metadata": {},
     "output_type": "execute_result"
    }
   ],
   "source": [
    "dfs['abstract'].iloc[2]\n"
   ]
  },
  {
   "cell_type": "code",
   "execution_count": 7,
   "metadata": {},
   "outputs": [
    {
     "data": {
      "text/plain": [
       "'<h1>\\n What we know and do not know about the cannabinoid receptor 2 (CB2).\\n</h1>\\n'"
      ]
     },
     "execution_count": 7,
     "metadata": {},
     "output_type": "execute_result"
    }
   ],
   "source": [
    "dfs['title'].iloc[0]"
   ]
  },
  {
   "cell_type": "markdown",
   "metadata": {},
   "source": [
    "## Strip html tags and refill date to clean data"
   ]
  },
  {
   "cell_type": "code",
   "execution_count": 10,
   "metadata": {},
   "outputs": [],
   "source": [
    "df = dfs.copy()"
   ]
  },
  {
   "cell_type": "code",
   "execution_count": 50,
   "metadata": {},
   "outputs": [],
   "source": [
    "# remove html tags\n",
    "def strip_html_tags(text):\n",
    "    if type(text) != str:\n",
    "        return 'NA'\n",
    "    soup = BeautifulSoup(text, \"html.parser\")\n",
    "    stripped_text = soup.get_text()\n",
    "    return stripped_text.replace('\\n','')"
   ]
  },
  {
   "cell_type": "code",
   "execution_count": 53,
   "metadata": {},
   "outputs": [
    {
     "name": "stdout",
     "output_type": "stream",
     "text": [
      "CPU times: user 1min 37s, sys: 878 ms, total: 1min 38s\n",
      "Wall time: 1min 38s\n"
     ]
    }
   ],
   "source": [
    "%%time\n",
    "df.abstract = df.abstract.apply(lambda x: strip_html_tags(x))"
   ]
  },
  {
   "cell_type": "code",
   "execution_count": 56,
   "metadata": {},
   "outputs": [
    {
     "name": "stdout",
     "output_type": "stream",
     "text": [
      "CPU times: user 32.6 s, sys: 187 ms, total: 32.8 s\n",
      "Wall time: 33.1 s\n"
     ]
    }
   ],
   "source": [
    "%%time\n",
    "df.title = df.title.apply(lambda x: strip_html_tags(x))"
   ]
  },
  {
   "cell_type": "code",
   "execution_count": 123,
   "metadata": {},
   "outputs": [
    {
     "name": "stdout",
     "output_type": "stream",
     "text": [
      "CPU times: user 7.57 s, sys: 156 ms, total: 7.73 s\n",
      "Wall time: 7.8 s\n"
     ]
    }
   ],
   "source": [
    "%%time\n",
    "\n",
    "df.keywords = df.keywords.apply(lambda x: strip_html_tags(x))\n"
   ]
  },
  {
   "cell_type": "code",
   "execution_count": 58,
   "metadata": {},
   "outputs": [
    {
     "data": {
      "text/plain": [
       "'<div class=\"cit\">\\n <a abstractlink=\"yes\" alsec=\"jour\" alterm=\"Trends Pharmacol Sci.\" href=\"#\" title=\"Trends in pharmacological sciences.\">\\n  Trends Pharmacol Sci.\\n </a>\\n 2006 Sep;27(9):475-81. Epub  2006 Aug 4.\\n</div>\\n'"
      ]
     },
     "execution_count": 58,
     "metadata": {},
     "output_type": "execute_result"
    }
   ],
   "source": [
    "df.records.iloc[1]"
   ]
  },
  {
   "cell_type": "code",
   "execution_count": 73,
   "metadata": {},
   "outputs": [
    {
     "data": {
      "text/plain": [
       "(float, str)"
      ]
     },
     "execution_count": 73,
     "metadata": {},
     "output_type": "execute_result"
    }
   ],
   "source": [
    "type(df.date.iloc[1]),type(df.date.iloc[0])\n"
   ]
  },
  {
   "cell_type": "code",
   "execution_count": 75,
   "metadata": {},
   "outputs": [],
   "source": [
    "# get date and year information\n",
    "def get_date(record): # get date from record\n",
    "    date = re.findall(r'</a>\\n(.*)\\n</div>',record)[0]\n",
    "    return date"
   ]
  },
  {
   "cell_type": "code",
   "execution_count": 87,
   "metadata": {},
   "outputs": [
    {
     "name": "stdout",
     "output_type": "stream",
     "text": [
      "CPU times: user 1h 15min 33s, sys: 10.3 s, total: 1h 15min 43s\n",
      "Wall time: 1h 16min 12s\n"
     ]
    }
   ],
   "source": [
    "%%time\n",
    "for i in range(211742,324059):\n",
    "    if type(df.date.iloc[i]) != str and type(df.records.iloc[i]) == str:\n",
    "        df.date.iloc[i] = get_date(df.records.iloc[i])"
   ]
  },
  {
   "cell_type": "markdown",
   "metadata": {},
   "source": [
    "## Check clean data and save "
   ]
  },
  {
   "cell_type": "code",
   "execution_count": 132,
   "metadata": {},
   "outputs": [
    {
     "name": "stdout",
     "output_type": "stream",
     "text": [
      "<class 'pandas.core.frame.DataFrame'>\n",
      "Int64Index: 324059 entries, 0 to 84122\n",
      "Data columns (total 10 columns):\n",
      "Id             324059 non-null int64\n",
      "abstract       324059 non-null object\n",
      "title          324059 non-null object\n",
      "authors        323871 non-null object\n",
      "journal        324059 non-null object\n",
      "journal_abv    324059 non-null object\n",
      "date           323775 non-null object\n",
      "affiliation    323922 non-null object\n",
      "records        323647 non-null object\n",
      "keywords       324059 non-null object\n",
      "dtypes: int64(1), object(9)\n",
      "memory usage: 37.2+ MB\n"
     ]
    }
   ],
   "source": [
    "df.info()"
   ]
  },
  {
   "cell_type": "code",
   "execution_count": 134,
   "metadata": {},
   "outputs": [],
   "source": [
    "df.iloc[:100000].to_csv('clean1.csv')"
   ]
  },
  {
   "cell_type": "code",
   "execution_count": null,
   "metadata": {},
   "outputs": [],
   "source": [
    "df.iloc[100000:200000].to_csv('clean2.csv')\n"
   ]
  },
  {
   "cell_type": "code",
   "execution_count": 136,
   "metadata": {},
   "outputs": [],
   "source": [
    "df.iloc[200000:].to_csv('clean3.csv')"
   ]
  },
  {
   "cell_type": "code",
   "execution_count": 137,
   "metadata": {},
   "outputs": [
    {
     "data": {
      "text/html": [
       "<div>\n",
       "<style scoped>\n",
       "    .dataframe tbody tr th:only-of-type {\n",
       "        vertical-align: middle;\n",
       "    }\n",
       "\n",
       "    .dataframe tbody tr th {\n",
       "        vertical-align: top;\n",
       "    }\n",
       "\n",
       "    .dataframe thead th {\n",
       "        text-align: right;\n",
       "    }\n",
       "</style>\n",
       "<table border=\"1\" class=\"dataframe\">\n",
       "  <thead>\n",
       "    <tr style=\"text-align: right;\">\n",
       "      <th></th>\n",
       "      <th>Id</th>\n",
       "      <th>abstract</th>\n",
       "      <th>title</th>\n",
       "      <th>authors</th>\n",
       "      <th>journal</th>\n",
       "      <th>journal_abv</th>\n",
       "      <th>date</th>\n",
       "      <th>affiliation</th>\n",
       "      <th>records</th>\n",
       "      <th>keywords</th>\n",
       "    </tr>\n",
       "  </thead>\n",
       "  <tbody>\n",
       "    <tr>\n",
       "      <th>0</th>\n",
       "      <td>24877594</td>\n",
       "      <td>Abstract    It has been well appreciated tha...</td>\n",
       "      <td>What we know and do not know about the cannab...</td>\n",
       "      <td>['Malfitano AM', 'Basu S', 'Maresz K', 'Bifulc...</td>\n",
       "      <td>Seminars in immunology.</td>\n",
       "      <td>Semin Immunol</td>\n",
       "      <td>2014 Oct;26(5):369-79.</td>\n",
       "      <td>\\n Dipartimento di Medicina e Chirurgia, Unive...</td>\n",
       "      <td>&lt;div class=\"cit\"&gt;\\n &lt;a abstractlink=\"yes\" alse...</td>\n",
       "      <td>KEYWORDS:   Cannabinoid receptor 2; Endocann...</td>\n",
       "    </tr>\n",
       "    <tr>\n",
       "      <th>1</th>\n",
       "      <td>16889837</td>\n",
       "      <td>Abstract    Approximately 1% of the genome o...</td>\n",
       "      <td>Allosteric agonists of 7TM receptors: expandi...</td>\n",
       "      <td>['Langmead CJ', 'Christopoulos A']</td>\n",
       "      <td>Trends in pharmacological sciences.</td>\n",
       "      <td>Trends Pharmacol Sci</td>\n",
       "      <td>2006 Sep;27(9):475-81. Epub  2006 Aug 4.</td>\n",
       "      <td>\\n Psychiatry Centre of Excellence for Drug Di...</td>\n",
       "      <td>&lt;div class=\"cit\"&gt;\\n &lt;a abstractlink=\"yes\" alse...</td>\n",
       "      <td>NA</td>\n",
       "    </tr>\n",
       "    <tr>\n",
       "      <th>2</th>\n",
       "      <td>31068464</td>\n",
       "      <td>Abstract    Patients suffering from cholesta...</td>\n",
       "      <td>MRGPRX4 is a G protein-coupled receptor activ...</td>\n",
       "      <td>['Meixiong J', 'Vasavda C', 'Snyder SH', 'Dong...</td>\n",
       "      <td>Proceedings of the National Academy of Science...</td>\n",
       "      <td>Proc Natl Acad Sci U S A</td>\n",
       "      <td>2019 May 21;116(21):10525-10530.</td>\n",
       "      <td>\\n Solomon H. Snyder Department of Neuroscienc...</td>\n",
       "      <td>&lt;div class=\"cit\"&gt;\\n &lt;a abstractlink=\"yes\" alse...</td>\n",
       "      <td>KEYWORDS:   MRGPRX4; bile acids; cholestasis...</td>\n",
       "    </tr>\n",
       "    <tr>\n",
       "      <th>3</th>\n",
       "      <td>30610192</td>\n",
       "      <td>Abstract    Alcohol use disorder (AUD) is a ...</td>\n",
       "      <td>Modulation of Gpr39, a G-protein coupled rece...</td>\n",
       "      <td>['Cuzon Carlson VC', 'Ford MM', 'Carlson TL', ...</td>\n",
       "      <td>Neuropsychopharmacology : official publication...</td>\n",
       "      <td>Neuropsychopharmacology</td>\n",
       "      <td>2019 May;44(6):1103-1113.</td>\n",
       "      <td>\\n Division of Neuroscience, Oregon National P...</td>\n",
       "      <td>&lt;div class=\"cit\"&gt;\\n &lt;a abstractlink=\"yes\" alse...</td>\n",
       "      <td>NA</td>\n",
       "    </tr>\n",
       "    <tr>\n",
       "      <th>4</th>\n",
       "      <td>30289386</td>\n",
       "      <td>Abstract    Activation of heterotrimeric G p...</td>\n",
       "      <td>Simulation of spontaneous G protein activatio...</td>\n",
       "      <td>['Sun X', 'Singh S', 'Blumer KJ', 'Bowman GR']</td>\n",
       "      <td>eLife.</td>\n",
       "      <td>Elife</td>\n",
       "      <td>2018 Oct 5;7. pii: e38465.</td>\n",
       "      <td>\\n Department of Biochemistry and Molecular Bi...</td>\n",
       "      <td>&lt;div class=\"cit\"&gt;\\n &lt;a abstractlink=\"yes\" alse...</td>\n",
       "      <td>KEYWORDS:   G proteins; Markov state models;...</td>\n",
       "    </tr>\n",
       "  </tbody>\n",
       "</table>\n",
       "</div>"
      ],
      "text/plain": [
       "         Id                                           abstract  \\\n",
       "0  24877594    Abstract    It has been well appreciated tha...   \n",
       "1  16889837    Abstract    Approximately 1% of the genome o...   \n",
       "2  31068464    Abstract    Patients suffering from cholesta...   \n",
       "3  30610192    Abstract    Alcohol use disorder (AUD) is a ...   \n",
       "4  30289386    Abstract    Activation of heterotrimeric G p...   \n",
       "\n",
       "                                               title  \\\n",
       "0   What we know and do not know about the cannab...   \n",
       "1   Allosteric agonists of 7TM receptors: expandi...   \n",
       "2   MRGPRX4 is a G protein-coupled receptor activ...   \n",
       "3   Modulation of Gpr39, a G-protein coupled rece...   \n",
       "4   Simulation of spontaneous G protein activatio...   \n",
       "\n",
       "                                             authors  \\\n",
       "0  ['Malfitano AM', 'Basu S', 'Maresz K', 'Bifulc...   \n",
       "1                 ['Langmead CJ', 'Christopoulos A']   \n",
       "2  ['Meixiong J', 'Vasavda C', 'Snyder SH', 'Dong...   \n",
       "3  ['Cuzon Carlson VC', 'Ford MM', 'Carlson TL', ...   \n",
       "4     ['Sun X', 'Singh S', 'Blumer KJ', 'Bowman GR']   \n",
       "\n",
       "                                             journal  \\\n",
       "0                            Seminars in immunology.   \n",
       "1                Trends in pharmacological sciences.   \n",
       "2  Proceedings of the National Academy of Science...   \n",
       "3  Neuropsychopharmacology : official publication...   \n",
       "4                                             eLife.   \n",
       "\n",
       "                journal_abv                                       date  \\\n",
       "0             Semin Immunol                     2014 Oct;26(5):369-79.   \n",
       "1      Trends Pharmacol Sci   2006 Sep;27(9):475-81. Epub  2006 Aug 4.   \n",
       "2  Proc Natl Acad Sci U S A           2019 May 21;116(21):10525-10530.   \n",
       "3   Neuropsychopharmacology                  2019 May;44(6):1103-1113.   \n",
       "4                     Elife                 2018 Oct 5;7. pii: e38465.   \n",
       "\n",
       "                                         affiliation  \\\n",
       "0  \\n Dipartimento di Medicina e Chirurgia, Unive...   \n",
       "1  \\n Psychiatry Centre of Excellence for Drug Di...   \n",
       "2  \\n Solomon H. Snyder Department of Neuroscienc...   \n",
       "3  \\n Division of Neuroscience, Oregon National P...   \n",
       "4  \\n Department of Biochemistry and Molecular Bi...   \n",
       "\n",
       "                                             records  \\\n",
       "0  <div class=\"cit\">\\n <a abstractlink=\"yes\" alse...   \n",
       "1  <div class=\"cit\">\\n <a abstractlink=\"yes\" alse...   \n",
       "2  <div class=\"cit\">\\n <a abstractlink=\"yes\" alse...   \n",
       "3  <div class=\"cit\">\\n <a abstractlink=\"yes\" alse...   \n",
       "4  <div class=\"cit\">\\n <a abstractlink=\"yes\" alse...   \n",
       "\n",
       "                                            keywords  \n",
       "0    KEYWORDS:   Cannabinoid receptor 2; Endocann...  \n",
       "1                                                 NA  \n",
       "2    KEYWORDS:   MRGPRX4; bile acids; cholestasis...  \n",
       "3                                                 NA  \n",
       "4    KEYWORDS:   G proteins; Markov state models;...  "
      ]
     },
     "execution_count": 137,
     "metadata": {},
     "output_type": "execute_result"
    }
   ],
   "source": [
    "df.head()"
   ]
  },
  {
   "cell_type": "code",
   "execution_count": null,
   "metadata": {},
   "outputs": [],
   "source": []
  }
 ],
 "metadata": {
  "kernelspec": {
   "display_name": "Python 3",
   "language": "python",
   "name": "python3"
  },
  "language_info": {
   "codemirror_mode": {
    "name": "ipython",
    "version": 3
   },
   "file_extension": ".py",
   "mimetype": "text/x-python",
   "name": "python",
   "nbconvert_exporter": "python",
   "pygments_lexer": "ipython3",
   "version": "3.7.3"
  }
 },
 "nbformat": 4,
 "nbformat_minor": 2
}
