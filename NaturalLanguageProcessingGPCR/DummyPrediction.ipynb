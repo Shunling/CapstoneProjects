{
 "cells": [
  {
   "cell_type": "code",
   "execution_count": 1,
   "metadata": {},
   "outputs": [
    {
     "data": {
      "text/html": [
       "<div>\n",
       "<style scoped>\n",
       "    .dataframe tbody tr th:only-of-type {\n",
       "        vertical-align: middle;\n",
       "    }\n",
       "\n",
       "    .dataframe tbody tr th {\n",
       "        vertical-align: top;\n",
       "    }\n",
       "\n",
       "    .dataframe thead th {\n",
       "        text-align: right;\n",
       "    }\n",
       "</style>\n",
       "<table border=\"1\" class=\"dataframe\">\n",
       "  <thead>\n",
       "    <tr style=\"text-align: right;\">\n",
       "      <th></th>\n",
       "      <th>Unnamed: 0</th>\n",
       "      <th>Id</th>\n",
       "      <th>topics_text</th>\n",
       "      <th>topics_keyword</th>\n",
       "      <th>score</th>\n",
       "    </tr>\n",
       "  </thead>\n",
       "  <tbody>\n",
       "    <tr>\n",
       "      <td>0</td>\n",
       "      <td>0</td>\n",
       "      <td>24877594</td>\n",
       "      <td>[22, 16, 11, 10]</td>\n",
       "      <td>[22, 21]</td>\n",
       "      <td>0.5</td>\n",
       "    </tr>\n",
       "    <tr>\n",
       "      <td>1</td>\n",
       "      <td>1</td>\n",
       "      <td>31068464</td>\n",
       "      <td>[22, 19, 5, 7, 20, 24, 3, 31]</td>\n",
       "      <td>[24, 5, 19, 3]</td>\n",
       "      <td>1.0</td>\n",
       "    </tr>\n",
       "    <tr>\n",
       "      <td>2</td>\n",
       "      <td>2</td>\n",
       "      <td>30289386</td>\n",
       "      <td>[22, 17, 14, 29, 4, 0, 15, 20]</td>\n",
       "      <td>[17, 14]</td>\n",
       "      <td>1.0</td>\n",
       "    </tr>\n",
       "    <tr>\n",
       "      <td>3</td>\n",
       "      <td>3</td>\n",
       "      <td>28768658</td>\n",
       "      <td>[28, 7, 22, 17, 29, 4, 20, 5]</td>\n",
       "      <td>[28, 22]</td>\n",
       "      <td>1.0</td>\n",
       "    </tr>\n",
       "    <tr>\n",
       "      <td>4</td>\n",
       "      <td>4</td>\n",
       "      <td>31219669</td>\n",
       "      <td>[22, 13, 12, 28, 9, 17, 5, 0]</td>\n",
       "      <td>[22, 13]</td>\n",
       "      <td>1.0</td>\n",
       "    </tr>\n",
       "  </tbody>\n",
       "</table>\n",
       "</div>"
      ],
      "text/plain": [
       "   Unnamed: 0        Id                     topics_text  topics_keyword  score\n",
       "0           0  24877594                [22, 16, 11, 10]        [22, 21]    0.5\n",
       "1           1  31068464   [22, 19, 5, 7, 20, 24, 3, 31]  [24, 5, 19, 3]    1.0\n",
       "2           2  30289386  [22, 17, 14, 29, 4, 0, 15, 20]        [17, 14]    1.0\n",
       "3           3  28768658   [28, 7, 22, 17, 29, 4, 20, 5]        [28, 22]    1.0\n",
       "4           4  31219669   [22, 13, 12, 28, 9, 17, 5, 0]        [22, 13]    1.0"
      ]
     },
     "execution_count": 1,
     "metadata": {},
     "output_type": "execute_result"
    }
   ],
   "source": [
    "import pandas as pd\n",
    "import numpy as np\n",
    "\n",
    "scores = pd.read_csv('./topic_modeling/model_saved/content_keywords_topics_score.csv')\n",
    "scores.head()"
   ]
  },
  {
   "cell_type": "code",
   "execution_count": 2,
   "metadata": {},
   "outputs": [],
   "source": [
    "keywords = scores['topics_keyword'].apply(lambda x: x[1:-1].split(','))"
   ]
  },
  {
   "cell_type": "code",
   "execution_count": 3,
   "metadata": {},
   "outputs": [
    {
     "name": "stderr",
     "output_type": "stream",
     "text": [
      "100%|██████████| 37845/37845 [00:01<00:00, 19360.51it/s]\n"
     ]
    }
   ],
   "source": [
    "import random\n",
    "from tqdm import tqdm\n",
    "\n",
    "dummy_score = []\n",
    "\n",
    "for i in tqdm(range(scores.shape[0])):\n",
    "    pos = 0 # positive hit\n",
    "    n = [] # to hold all predicted topics\n",
    "    \n",
    "    topics = list(range(35)) # the topic pool\n",
    "    topics.remove(18)\n",
    "    topics.remove(25)\n",
    "    \n",
    "    for j in range(8):\n",
    "        k = random.choice(topics) # random choice of a topic from the topic pool\n",
    "        topics.remove(k) # remove the one which is already predicted\n",
    "        n.append(k) # put the prediction into the list\n",
    "        \n",
    "    for key in keywords[i]: # check each keyword topic\n",
    "        if len(key): # if key is not None\n",
    "            if int(key) in n: # if the topic in prediction\n",
    "                pos += 1 # add count\n",
    "    dummy_score.append(pos/len(keywords[i])) # append the accuracy into dummy_score list"
   ]
  },
  {
   "cell_type": "code",
   "execution_count": 4,
   "metadata": {},
   "outputs": [
    {
     "data": {
      "text/plain": [
       "0.23775138566457815"
      ]
     },
     "execution_count": 4,
     "metadata": {},
     "output_type": "execute_result"
    }
   ],
   "source": [
    "sum(dummy_score)/len(dummy_score) # avarage dummy score"
   ]
  },
  {
   "cell_type": "code",
   "execution_count": null,
   "metadata": {},
   "outputs": [],
   "source": []
  }
 ],
 "metadata": {
  "kernelspec": {
   "display_name": "Python 3",
   "language": "python",
   "name": "python3"
  },
  "language_info": {
   "codemirror_mode": {
    "name": "ipython",
    "version": 3
   },
   "file_extension": ".py",
   "mimetype": "text/x-python",
   "name": "python",
   "nbconvert_exporter": "python",
   "pygments_lexer": "ipython3",
   "version": "3.7.4"
  }
 },
 "nbformat": 4,
 "nbformat_minor": 2
}
