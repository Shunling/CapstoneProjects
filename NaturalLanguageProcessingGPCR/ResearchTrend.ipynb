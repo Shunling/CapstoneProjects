{
 "cells": [
  {
   "cell_type": "markdown",
   "metadata": {},
   "source": [
    "# Capstone Project 2: GPCR research trend\n",
    "## Natural Language Processing of a domain specific literature"
   ]
  },
  {
   "cell_type": "code",
   "execution_count": 1,
   "metadata": {},
   "outputs": [],
   "source": [
    "import numpy as np\n",
    "import pandas as pd\n",
    "from tqdm import tqdm\n",
    "from collections import Counter\n",
    "from collections import defaultdict\n",
    "import matplotlib.pyplot as plt\n",
    "from collections import OrderedDict"
   ]
  },
  {
   "cell_type": "code",
   "execution_count": 2,
   "metadata": {},
   "outputs": [
    {
     "data": {
      "text/html": [
       "<div>\n",
       "<style scoped>\n",
       "    .dataframe tbody tr th:only-of-type {\n",
       "        vertical-align: middle;\n",
       "    }\n",
       "\n",
       "    .dataframe tbody tr th {\n",
       "        vertical-align: top;\n",
       "    }\n",
       "\n",
       "    .dataframe thead th {\n",
       "        text-align: right;\n",
       "    }\n",
       "</style>\n",
       "<table border=\"1\" class=\"dataframe\">\n",
       "  <thead>\n",
       "    <tr style=\"text-align: right;\">\n",
       "      <th></th>\n",
       "      <th>Id</th>\n",
       "      <th>fourgram</th>\n",
       "      <th>topics</th>\n",
       "    </tr>\n",
       "  </thead>\n",
       "  <tbody>\n",
       "    <tr>\n",
       "      <td>0</td>\n",
       "      <td>24877594</td>\n",
       "      <td>what we know and do_not know_about the cannabi...</td>\n",
       "      <td>[22, 16, 11, 10]</td>\n",
       "    </tr>\n",
       "    <tr>\n",
       "      <td>1</td>\n",
       "      <td>16889837</td>\n",
       "      <td>allosteric agonist of 7tm receptor expand the ...</td>\n",
       "      <td>[22, 14, 4, 17, 12, 10, 3, 20]</td>\n",
       "    </tr>\n",
       "  </tbody>\n",
       "</table>\n",
       "</div>"
      ],
      "text/plain": [
       "         Id                                           fourgram  \\\n",
       "0  24877594  what we know and do_not know_about the cannabi...   \n",
       "1  16889837  allosteric agonist of 7tm receptor expand the ...   \n",
       "\n",
       "                           topics  \n",
       "0                [22, 16, 11, 10]  \n",
       "1  [22, 14, 4, 17, 12, 10, 3, 20]  "
      ]
     },
     "execution_count": 2,
     "metadata": {},
     "output_type": "execute_result"
    }
   ],
   "source": [
    "# data with Id, text as fourgram, topic numbers\n",
    "text_topics = pd.read_csv('./topic_modeling/model_saved/Id_fourgram_topics.csv',index_col=0)\n",
    "text_topics.head(2)"
   ]
  },
  {
   "cell_type": "code",
   "execution_count": 3,
   "metadata": {},
   "outputs": [
    {
     "data": {
      "text/html": [
       "<div>\n",
       "<style scoped>\n",
       "    .dataframe tbody tr th:only-of-type {\n",
       "        vertical-align: middle;\n",
       "    }\n",
       "\n",
       "    .dataframe tbody tr th {\n",
       "        vertical-align: top;\n",
       "    }\n",
       "\n",
       "    .dataframe thead th {\n",
       "        text-align: right;\n",
       "    }\n",
       "</style>\n",
       "<table border=\"1\" class=\"dataframe\">\n",
       "  <thead>\n",
       "    <tr style=\"text-align: right;\">\n",
       "      <th></th>\n",
       "      <th>topic</th>\n",
       "      <th>term</th>\n",
       "    </tr>\n",
       "  </thead>\n",
       "  <tbody>\n",
       "    <tr>\n",
       "      <td>0</td>\n",
       "      <td>0</td>\n",
       "      <td>proliferation</td>\n",
       "    </tr>\n",
       "    <tr>\n",
       "      <td>1</td>\n",
       "      <td>1</td>\n",
       "      <td>imaging</td>\n",
       "    </tr>\n",
       "  </tbody>\n",
       "</table>\n",
       "</div>"
      ],
      "text/plain": [
       "   topic           term\n",
       "0      0  proliferation\n",
       "1      1        imaging"
      ]
     },
     "execution_count": 3,
     "metadata": {},
     "output_type": "execute_result"
    }
   ],
   "source": [
    "# topic term relation\n",
    "topic_terms = pd.read_csv('./topic_modeling/model_saved/topic35.csv',index_col=0)\n",
    "topic_terms.head(2)"
   ]
  },
  {
   "cell_type": "code",
   "execution_count": 4,
   "metadata": {},
   "outputs": [
    {
     "name": "stderr",
     "output_type": "stream",
     "text": [
      "/Users/shunling/opt/anaconda3/lib/python3.7/site-packages/IPython/core/interactiveshell.py:3058: DtypeWarning: Columns (4) have mixed types. Specify dtype option on import or set low_memory=False.\n",
      "  interactivity=interactivity, compiler=compiler, result=result)\n"
     ]
    },
    {
     "data": {
      "text/html": [
       "<div>\n",
       "<style scoped>\n",
       "    .dataframe tbody tr th:only-of-type {\n",
       "        vertical-align: middle;\n",
       "    }\n",
       "\n",
       "    .dataframe tbody tr th {\n",
       "        vertical-align: top;\n",
       "    }\n",
       "\n",
       "    .dataframe thead th {\n",
       "        text-align: right;\n",
       "    }\n",
       "</style>\n",
       "<table border=\"1\" class=\"dataframe\">\n",
       "  <thead>\n",
       "    <tr style=\"text-align: right;\">\n",
       "      <th></th>\n",
       "      <th>Id</th>\n",
       "      <th>year</th>\n",
       "      <th>affiliation</th>\n",
       "    </tr>\n",
       "  </thead>\n",
       "  <tbody>\n",
       "    <tr>\n",
       "      <td>0</td>\n",
       "      <td>24877594</td>\n",
       "      <td>2014.0</td>\n",
       "      <td>[]</td>\n",
       "    </tr>\n",
       "    <tr>\n",
       "      <td>1</td>\n",
       "      <td>16889837</td>\n",
       "      <td>2006.0</td>\n",
       "      <td>glaxosmithkline</td>\n",
       "    </tr>\n",
       "  </tbody>\n",
       "</table>\n",
       "</div>"
      ],
      "text/plain": [
       "         Id    year      affiliation\n",
       "0  24877594  2014.0               []\n",
       "1  16889837  2006.0  glaxosmithkline"
      ]
     },
     "execution_count": 4,
     "metadata": {},
     "output_type": "execute_result"
    }
   ],
   "source": [
    "# data with Id, year, affiliation\n",
    "df_year_text_affilation = pd.read_csv('./Processed_data/year_text_keywords_affiliation.csv',index_col=0)\n",
    "df_year_affilation = df_year_text_affilation[['Id','year','affiliation']]\n",
    "df_year_affilation.head(2)"
   ]
  },
  {
   "cell_type": "code",
   "execution_count": 5,
   "metadata": {},
   "outputs": [
    {
     "name": "stdout",
     "output_type": "stream",
     "text": [
      "<class 'pandas.core.frame.DataFrame'>\n",
      "Int64Index: 323546 entries, 0 to 323645\n",
      "Data columns (total 5 columns):\n",
      "Id             323546 non-null int64\n",
      "year           323546 non-null float64\n",
      "affiliation    323546 non-null object\n",
      "fourgram       323546 non-null object\n",
      "topics         323546 non-null object\n",
      "dtypes: float64(1), int64(1), object(3)\n",
      "memory usage: 14.8+ MB\n"
     ]
    }
   ],
   "source": [
    "# publication trend for all papers\n",
    "alldata = df_year_affilation.merge(text_topics,\n",
    "                                  left_on = 'Id',\n",
    "                                  right_on = 'Id',\n",
    "                                  how = 'left').dropna(subset=['year'])\n",
    "alldata.info()"
   ]
  },
  {
   "cell_type": "code",
   "execution_count": 6,
   "metadata": {},
   "outputs": [
    {
     "data": {
      "text/plain": [
       "[<matplotlib.lines.Line2D at 0x11e028c90>]"
      ]
     },
     "execution_count": 6,
     "metadata": {},
     "output_type": "execute_result"
    },
    {
     "data": {
      "image/png": "[encoded data removed]",
      "text/plain": [
       "<Figure size 432x288 with 1 Axes>"
      ]
     },
     "metadata": {
      "needs_background": "light"
     },
     "output_type": "display_data"
    }
   ],
   "source": [
    "# trend for all publication\n",
    "year_ct = Counter()\n",
    "for y in alldata.year:\n",
    "    year_ct[y] += 1\n",
    "\n",
    "# sorted by key(year), ordered_year would be a global variable to normalize publication rates\n",
    "ordered_year = OrderedDict(sorted(year_ct.items(), key=lambda t: t[0]))\n",
    "totalx = list(ordered_year.keys()) \n",
    "totaly = list(ordered_year.values())\n",
    "plt.plot(totalx,totaly)"
   ]
  },
  {
   "cell_type": "markdown",
   "metadata": {},
   "source": [
    "### Topic trend"
   ]
  },
  {
   "cell_type": "code",
   "execution_count": 8,
   "metadata": {},
   "outputs": [
    {
     "data": {
      "text/plain": [
       "((323646, 3), (323646, 3))"
      ]
     },
     "execution_count": 8,
     "metadata": {},
     "output_type": "execute_result"
    }
   ],
   "source": [
    "df_year_affilation.shape,text_topics.shape"
   ]
  },
  {
   "cell_type": "code",
   "execution_count": 7,
   "metadata": {},
   "outputs": [],
   "source": [
    "# convert topic_term to dictionary\n",
    "topic_dic = {}\n",
    "for i in range(topic_terms.shape[0]):\n",
    "    topic_dic[topic_terms.iloc[i].topic] = topic_terms.iloc[i].term\n"
   ]
  },
  {
   "cell_type": "code",
   "execution_count": 8,
   "metadata": {},
   "outputs": [],
   "source": [
    "def convert_topic_terms(topics):\n",
    "\n",
    "    topic_list = topics[1:-1].split(',')\n",
    "    if topic_list[0] == '':\n",
    "        return\n",
    "    term_list = []\n",
    "    for topic in topic_list:\n",
    "        term_list.append(topic_dic[int(topic)])\n",
    "    return term_list"
   ]
  },
  {
   "cell_type": "code",
   "execution_count": 9,
   "metadata": {},
   "outputs": [
    {
     "name": "stderr",
     "output_type": "stream",
     "text": [
      "100%|██████████| 323646/323646 [08:21<00:00, 644.83it/s] \n"
     ]
    }
   ],
   "source": [
    "# count topic year\n",
    "term_year_count = {}\n",
    "# initiate term_year_count dictionary\n",
    "for term in topic_dic.values():\n",
    "    term_year_count[term] = Counter()\n",
    "    \n",
    "for i in tqdm(range(text_topics.shape[0])):\n",
    "    topics = text_topics.iloc[i]['topics']\n",
    "    term_list = convert_topic_terms(topics)\n",
    "    \n",
    "    if term_list:\n",
    "        for term in term_list:\n",
    "            term_year_count[term][df_year_affilation.iloc[i]['year']] += 1\n",
    "        "
   ]
  },
  {
   "cell_type": "code",
   "execution_count": 10,
   "metadata": {},
   "outputs": [],
   "source": [
    "import json\n",
    "with open('./ResearchTrend/topic_treand.json','w') as outfile:\n",
    "    json.dump(term_year_count,outfile)"
   ]
  },
  {
   "cell_type": "code",
   "execution_count": 63,
   "metadata": {},
   "outputs": [],
   "source": [
    "def plot_topic_trend(topic):\n",
    "    \"\"\"\n",
    "    plot publication number per year normalized to total paper publicated that year\n",
    "    use term_year_count as global variable to rechieve topic term from topic number\n",
    "    use ordered_year as global variable to rechieve total paper number that year\n",
    "    \"\"\"\n",
    "    # remove none type key\n",
    "    cleandict = {k: v for k, v in term_year_count[topic].items() if v > 1}\n",
    "\n",
    "    ordered_dict = OrderedDict(sorted(cleandict.items(), key=lambda t: t[0]))\n",
    "    for k,v in ordered_dict.items():\n",
    "        ordered_dict[k] = v/ordered_year[k]\n",
    "    \n",
    "    x = ordered_dict.keys()\n",
    "    y = ordered_dict.values()\n",
    "\n",
    "    plt.plot(list(x),list(y))\n",
    "    plt.title(topic)\n",
    "    plt.xlabel('publication year')\n",
    "    plt.ylabel('normalized publication')"
   ]
  },
  {
   "cell_type": "code",
   "execution_count": 64,
   "metadata": {},
   "outputs": [
    {
     "data": {
      "image/png": "[encoded data removed]",
      "text/plain": [
       "<Figure size 432x288 with 1 Axes>"
      ]
     },
     "metadata": {
      "needs_background": "light"
     },
     "output_type": "display_data"
    }
   ],
   "source": [
    "plot_topic_trend(topic_terms.iloc[0].term)"
   ]
  },
  {
   "cell_type": "code",
   "execution_count": 65,
   "metadata": {},
   "outputs": [
    {
     "data": {
      "image/png": "[encoded data removed]",
      "text/plain": [
       "<Figure size 432x288 with 1 Axes>"
      ]
     },
     "metadata": {
      "needs_background": "light"
     },
     "output_type": "display_data"
    }
   ],
   "source": [
    "plot_topic_trend(topic_terms.iloc[1].term)"
   ]
  },
  {
   "cell_type": "markdown",
   "metadata": {},
   "source": [
    "### Receptor research trend"
   ]
  },
  {
   "cell_type": "code",
   "execution_count": 11,
   "metadata": {},
   "outputs": [
    {
     "data": {
      "text/html": [
       "<div>\n",
       "<style scoped>\n",
       "    .dataframe tbody tr th:only-of-type {\n",
       "        vertical-align: middle;\n",
       "    }\n",
       "\n",
       "    .dataframe tbody tr th {\n",
       "        vertical-align: top;\n",
       "    }\n",
       "\n",
       "    .dataframe thead th {\n",
       "        text-align: right;\n",
       "    }\n",
       "</style>\n",
       "<table border=\"1\" class=\"dataframe\">\n",
       "  <thead>\n",
       "    <tr style=\"text-align: right;\">\n",
       "      <th></th>\n",
       "      <th>tax_id</th>\n",
       "      <th>Org_name</th>\n",
       "      <th>GeneID</th>\n",
       "      <th>CurrentID</th>\n",
       "      <th>Status</th>\n",
       "      <th>Symbol</th>\n",
       "      <th>Aliases</th>\n",
       "      <th>description</th>\n",
       "      <th>other_designations</th>\n",
       "      <th>map_location</th>\n",
       "      <th>chromosome</th>\n",
       "      <th>genomic_nucleotide_accession.version</th>\n",
       "      <th>start_position_on_the_genomic_accession</th>\n",
       "      <th>end_position_on_the_genomic_accession</th>\n",
       "      <th>orientation</th>\n",
       "      <th>exon_count</th>\n",
       "      <th>OMIM</th>\n",
       "      <th>Unnamed: 17</th>\n",
       "    </tr>\n",
       "  </thead>\n",
       "  <tbody>\n",
       "    <tr>\n",
       "      <td>0</td>\n",
       "      <td>9606</td>\n",
       "      <td>Homo sapiens</td>\n",
       "      <td>3356</td>\n",
       "      <td>0</td>\n",
       "      <td>live</td>\n",
       "      <td>HTR2A</td>\n",
       "      <td>5-HT2A, HTR2</td>\n",
       "      <td>5-hydroxytryptamine receptor 2A</td>\n",
       "      <td>; 5-hydroxytryptamine receptor 2A|5-HT2 recept...</td>\n",
       "      <td>13q14.2</td>\n",
       "      <td>13</td>\n",
       "      <td>NC_000013.11</td>\n",
       "      <td>46831542.0</td>\n",
       "      <td>46897076.0</td>\n",
       "      <td>minus</td>\n",
       "      <td>4.0</td>\n",
       "      <td>182135.0</td>\n",
       "      <td>NaN</td>\n",
       "    </tr>\n",
       "    <tr>\n",
       "      <td>1</td>\n",
       "      <td>9606</td>\n",
       "      <td>Homo sapiens</td>\n",
       "      <td>3358</td>\n",
       "      <td>0</td>\n",
       "      <td>live</td>\n",
       "      <td>HTR2C</td>\n",
       "      <td>5-HT1C, 5-HT2C, 5-HTR2C, 5HTR2C, HTR1C</td>\n",
       "      <td>5-hydroxytryptamine receptor 2C</td>\n",
       "      <td>; 5-hydroxytryptamine receptor 2C|5-hydroxytry...</td>\n",
       "      <td>Xq23</td>\n",
       "      <td>X</td>\n",
       "      <td>NC_000023.11</td>\n",
       "      <td>114584078.0</td>\n",
       "      <td>114910061.0</td>\n",
       "      <td>plus</td>\n",
       "      <td>7.0</td>\n",
       "      <td>312861.0</td>\n",
       "      <td>NaN</td>\n",
       "    </tr>\n",
       "  </tbody>\n",
       "</table>\n",
       "</div>"
      ],
      "text/plain": [
       "   tax_id      Org_name  GeneID  CurrentID Status Symbol  \\\n",
       "0    9606  Homo sapiens    3356          0   live  HTR2A   \n",
       "1    9606  Homo sapiens    3358          0   live  HTR2C   \n",
       "\n",
       "                                  Aliases                      description  \\\n",
       "0                            5-HT2A, HTR2  5-hydroxytryptamine receptor 2A   \n",
       "1  5-HT1C, 5-HT2C, 5-HTR2C, 5HTR2C, HTR1C  5-hydroxytryptamine receptor 2C   \n",
       "\n",
       "                                  other_designations map_location chromosome  \\\n",
       "0  ; 5-hydroxytryptamine receptor 2A|5-HT2 recept...      13q14.2         13   \n",
       "1  ; 5-hydroxytryptamine receptor 2C|5-hydroxytry...         Xq23          X   \n",
       "\n",
       "  genomic_nucleotide_accession.version  \\\n",
       "0                         NC_000013.11   \n",
       "1                         NC_000023.11   \n",
       "\n",
       "   start_position_on_the_genomic_accession  \\\n",
       "0                               46831542.0   \n",
       "1                              114584078.0   \n",
       "\n",
       "   end_position_on_the_genomic_accession orientation  exon_count      OMIM  \\\n",
       "0                             46897076.0       minus         4.0  182135.0   \n",
       "1                            114910061.0        plus         7.0  312861.0   \n",
       "\n",
       "   Unnamed: 17  \n",
       "0          NaN  \n",
       "1          NaN  "
      ]
     },
     "execution_count": 11,
     "metadata": {},
     "output_type": "execute_result"
    }
   ],
   "source": [
    "# load all GPCR receptors queried from NCBI\n",
    "GPCRs = pd.read_csv('./drug_discovery/GPCR_genes.csv',index_col=0)\n",
    "GPCRs.head(2)"
   ]
  },
  {
   "cell_type": "code",
   "execution_count": 12,
   "metadata": {},
   "outputs": [],
   "source": [
    "GPCRs = GPCRs[['GeneID','Symbol','Aliases']].fillna('')"
   ]
  },
  {
   "cell_type": "code",
   "execution_count": 13,
   "metadata": {},
   "outputs": [
    {
     "name": "stdout",
     "output_type": "stream",
     "text": [
      "<class 'pandas.core.frame.DataFrame'>\n",
      "Int64Index: 790 entries, 0 to 1231\n",
      "Data columns (total 4 columns):\n",
      "GeneID     790 non-null int64\n",
      "Symbol     790 non-null object\n",
      "Aliases    790 non-null object\n",
      "Names      790 non-null object\n",
      "dtypes: int64(1), object(3)\n",
      "memory usage: 30.9+ KB\n"
     ]
    }
   ],
   "source": [
    "GPCRs['Names'] = GPCRs['Symbol'] + ',' + GPCRs['Aliases']\n",
    "GPCRs.info()"
   ]
  },
  {
   "cell_type": "code",
   "execution_count": 14,
   "metadata": {},
   "outputs": [
    {
     "data": {
      "text/html": [
       "<div>\n",
       "<style scoped>\n",
       "    .dataframe tbody tr th:only-of-type {\n",
       "        vertical-align: middle;\n",
       "    }\n",
       "\n",
       "    .dataframe tbody tr th {\n",
       "        vertical-align: top;\n",
       "    }\n",
       "\n",
       "    .dataframe thead th {\n",
       "        text-align: right;\n",
       "    }\n",
       "</style>\n",
       "<table border=\"1\" class=\"dataframe\">\n",
       "  <thead>\n",
       "    <tr style=\"text-align: right;\">\n",
       "      <th></th>\n",
       "      <th>GeneID</th>\n",
       "      <th>Names</th>\n",
       "    </tr>\n",
       "  </thead>\n",
       "  <tbody>\n",
       "    <tr>\n",
       "      <td>0</td>\n",
       "      <td>3356</td>\n",
       "      <td>HTR2A,5-HT2A, HTR2</td>\n",
       "    </tr>\n",
       "    <tr>\n",
       "      <td>1</td>\n",
       "      <td>3358</td>\n",
       "      <td>HTR2C,5-HT1C, 5-HT2C, 5-HTR2C, 5HTR2C, HTR1C</td>\n",
       "    </tr>\n",
       "  </tbody>\n",
       "</table>\n",
       "</div>"
      ],
      "text/plain": [
       "   GeneID                                         Names\n",
       "0    3356                            HTR2A,5-HT2A, HTR2\n",
       "1    3358  HTR2C,5-HT1C, 5-HT2C, 5-HTR2C, 5HTR2C, HTR1C"
      ]
     },
     "execution_count": 14,
     "metadata": {},
     "output_type": "execute_result"
    }
   ],
   "source": [
    "GPCRs = GPCRs.drop(['Symbol','Aliases'],axis=1)\n",
    "GPCRs.head(2)"
   ]
  },
  {
   "cell_type": "code",
   "execution_count": 16,
   "metadata": {},
   "outputs": [],
   "source": [
    "# process gene names by lowercase and replace '-'\n",
    "GPCRs['Names'] = GPCRs['Names'].apply(lambda x: x.lower())\n",
    "GPCRs['Names'] = GPCRs['Names'].apply(lambda x: x.replace('-',''))"
   ]
  },
  {
   "cell_type": "code",
   "execution_count": 33,
   "metadata": {},
   "outputs": [],
   "source": [
    "def get_ref_year(names): # use row id as input\n",
    "    \"\"\"\n",
    "    get references and years from year reference Id from alldata\n",
    "    use alldata as global variable\n",
    "    \"\"\"\n",
    "    name_list = names.replace(' ','').split(',')\n",
    "\n",
    "    years = []\n",
    "    \n",
    "    for i in range(alldata.shape[0]):\n",
    "        for name in name_list:\n",
    "            if name in alldata['fourgram'].iloc[i]:\n",
    "\n",
    "                years.append(str(int(alldata['year'].iloc[i])))\n",
    "                break\n",
    "\n",
    "    return years              "
   ]
  },
  {
   "cell_type": "code",
   "execution_count": 37,
   "metadata": {},
   "outputs": [
    {
     "name": "stdout",
     "output_type": "stream",
     "text": [
      "2019-11-08 08:10:07.295111\n",
      "2019-11-08 08:40:56.279984\n",
      "2019-11-08 09:13:07.341397\n",
      "2019-11-08 09:37:34.700352\n",
      "2019-11-08 10:06:09.600620\n",
      "2019-11-08 10:29:45.752269\n",
      "2019-11-08 10:52:01.044536\n",
      "2019-11-08 11:10:08.362652\n",
      "CPU times: user 3h 9min 41s, sys: 58 s, total: 3h 10min 39s\n",
      "Wall time: 3h 16min 44s\n"
     ]
    }
   ],
   "source": [
    "%%time\n",
    "from datetime import datetime\n",
    "years = open('./ResearchTrend/GPCRtreand.txt','w')\n",
    "for i in range(GPCRs.shape[0]):\n",
    "    year = get_ref_year(GPCRs['Names'].iloc[i])\n",
    "    if i % 100 == 0:\n",
    "        print(datetime.now())\n",
    "    years.write(' '.join(year))\n",
    "    years.write('\\n')\n",
    "years.close()"
   ]
  },
  {
   "cell_type": "code",
   "execution_count": 34,
   "metadata": {},
   "outputs": [],
   "source": [
    "GPCR_trends = {}\n",
    "with open('./ResearchTrend/GPCRtreand.txt','r') as geneTrends:\n",
    "    for i, line in tqdm(enumerate(geneTrends.readlines())):\n",
    "        GPCR_trends[GPCRs['GeneID'].iloc[i]] = line.split()"
   ]
  },
  {
   "cell_type": "code",
   "execution_count": 38,
   "metadata": {},
   "outputs": [
    {
     "data": {
      "text/html": [
       "<div>\n",
       "<style scoped>\n",
       "    .dataframe tbody tr th:only-of-type {\n",
       "        vertical-align: middle;\n",
       "    }\n",
       "\n",
       "    .dataframe tbody tr th {\n",
       "        vertical-align: top;\n",
       "    }\n",
       "\n",
       "    .dataframe thead th {\n",
       "        text-align: right;\n",
       "    }\n",
       "</style>\n",
       "<table border=\"1\" class=\"dataframe\">\n",
       "  <thead>\n",
       "    <tr style=\"text-align: right;\">\n",
       "      <th></th>\n",
       "      <th>GeneID</th>\n",
       "      <th>Names</th>\n",
       "    </tr>\n",
       "  </thead>\n",
       "  <tbody>\n",
       "    <tr>\n",
       "      <td>0</td>\n",
       "      <td>3356</td>\n",
       "      <td>htr2a,5ht2a, htr2</td>\n",
       "    </tr>\n",
       "    <tr>\n",
       "      <td>1</td>\n",
       "      <td>3358</td>\n",
       "      <td>htr2c,5ht1c, 5ht2c, 5htr2c, 5htr2c, htr1c</td>\n",
       "    </tr>\n",
       "    <tr>\n",
       "      <td>2</td>\n",
       "      <td>2150</td>\n",
       "      <td>f2rl1,gpr11, par2</td>\n",
       "    </tr>\n",
       "    <tr>\n",
       "      <td>3</td>\n",
       "      <td>3351</td>\n",
       "      <td>htr1b,5ht1b, 5ht1dbeta, 5ht1b, 5ht1db, htr1d2,...</td>\n",
       "    </tr>\n",
       "    <tr>\n",
       "      <td>4</td>\n",
       "      <td>3350</td>\n",
       "      <td>htr1a,5ht1a, 5ht1a, 5ht1a, adrb2rl1, adrbrl1, ...</td>\n",
       "    </tr>\n",
       "  </tbody>\n",
       "</table>\n",
       "</div>"
      ],
      "text/plain": [
       "   GeneID                                              Names\n",
       "0    3356                                  htr2a,5ht2a, htr2\n",
       "1    3358          htr2c,5ht1c, 5ht2c, 5htr2c, 5htr2c, htr1c\n",
       "2    2150                                  f2rl1,gpr11, par2\n",
       "3    3351  htr1b,5ht1b, 5ht1dbeta, 5ht1b, 5ht1db, htr1d2,...\n",
       "4    3350  htr1a,5ht1a, 5ht1a, 5ht1a, adrb2rl1, adrbrl1, ..."
      ]
     },
     "execution_count": 38,
     "metadata": {},
     "output_type": "execute_result"
    }
   ],
   "source": [
    "GPCRs"
   ]
  },
  {
   "cell_type": "code",
   "execution_count": null,
   "metadata": {},
   "outputs": [],
   "source": []
  },
  {
   "cell_type": "code",
   "execution_count": null,
   "metadata": {},
   "outputs": [],
   "source": []
  },
  {
   "cell_type": "code",
   "execution_count": null,
   "metadata": {},
   "outputs": [],
   "source": []
  },
  {
   "cell_type": "code",
   "execution_count": null,
   "metadata": {},
   "outputs": [],
   "source": []
  }
 ],
 "metadata": {
  "kernelspec": {
   "display_name": "Python 3",
   "language": "python",
   "name": "python3"
  },
  "language_info": {
   "codemirror_mode": {
    "name": "ipython",
    "version": 3
   },
   "file_extension": ".py",
   "mimetype": "text/x-python",
   "name": "python",
   "nbconvert_exporter": "python",
   "pygments_lexer": "ipython3",
   "version": "3.7.4"
  }
 },
 "nbformat": 4,
 "nbformat_minor": 2
}
