{
 "cells": [
  {
   "cell_type": "markdown",
   "metadata": {},
   "source": [
    "# Capstone Project 2: GPCR research trend\n",
    "## Natural Language Processing of a domain specific literature"
   ]
  },
  {
   "cell_type": "code",
   "execution_count": 2,
   "metadata": {},
   "outputs": [],
   "source": [
    "import pandas as pd\n",
    "from bs4 import BeautifulSoup\n",
    "import re"
   ]
  },
  {
   "cell_type": "markdown",
   "metadata": {},
   "source": [
    "## Integrate all data"
   ]
  },
  {
   "cell_type": "code",
   "execution_count": 3,
   "metadata": {},
   "outputs": [
    {
     "name": "stderr",
     "output_type": "stream",
     "text": [
      "/Users/shunling/opt/anaconda3/lib/python3.7/site-packages/IPython/core/interactiveshell.py:3058: DtypeWarning: Columns (9) have mixed types. Specify dtype option on import or set low_memory=False.\n",
      "  interactivity=interactivity, compiler=compiler, result=result)\n"
     ]
    },
    {
     "name": "stdout",
     "output_type": "stream",
     "text": [
      "<class 'pandas.core.frame.DataFrame'>\n",
      "Int64Index: 324059 entries, 0 to 84122\n",
      "Data columns (total 10 columns):\n",
      "Id             324059 non-null int64\n",
      "abstract       296782 non-null object\n",
      "title          323870 non-null object\n",
      "authors        323871 non-null object\n",
      "journal        324059 non-null object\n",
      "journal_abv    324059 non-null object\n",
      "date           116545 non-null object\n",
      "affiliation    323922 non-null object\n",
      "records        323647 non-null object\n",
      "keywords       37883 non-null object\n",
      "dtypes: int64(1), object(9)\n",
      "memory usage: 27.2+ MB\n"
     ]
    }
   ],
   "source": [
    "df1 = pd.read_csv('./rawdata/78k.csv')\n",
    "df2 = pd.read_csv('./rawdata/78_150k.csv')\n",
    "df3 = pd.read_csv('./rawdata/150_240k.csv')\n",
    "df4 = pd.read_csv('./rawdata/240_320k.csv')\n",
    "dfs = pd.concat([df1,df2,df3,df4])\n",
    "dfs.info()"
   ]
  },
  {
   "cell_type": "code",
   "execution_count": 5,
   "metadata": {},
   "outputs": [
    {
     "data": {
      "text/html": [
       "<div>\n",
       "<style scoped>\n",
       "    .dataframe tbody tr th:only-of-type {\n",
       "        vertical-align: middle;\n",
       "    }\n",
       "\n",
       "    .dataframe tbody tr th {\n",
       "        vertical-align: top;\n",
       "    }\n",
       "\n",
       "    .dataframe thead th {\n",
       "        text-align: right;\n",
       "    }\n",
       "</style>\n",
       "<table border=\"1\" class=\"dataframe\">\n",
       "  <thead>\n",
       "    <tr style=\"text-align: right;\">\n",
       "      <th></th>\n",
       "      <th>Id</th>\n",
       "      <th>abstract</th>\n",
       "      <th>title</th>\n",
       "      <th>authors</th>\n",
       "      <th>journal</th>\n",
       "      <th>journal_abv</th>\n",
       "      <th>date</th>\n",
       "      <th>affiliation</th>\n",
       "      <th>records</th>\n",
       "      <th>keywords</th>\n",
       "    </tr>\n",
       "  </thead>\n",
       "  <tbody>\n",
       "    <tr>\n",
       "      <td>0</td>\n",
       "      <td>24877594</td>\n",
       "      <td>&lt;div class=\"abstr\"&gt;\\n &lt;h3&gt;\\n  Abstract\\n &lt;/h3&gt;...</td>\n",
       "      <td>&lt;h1&gt;\\n What we know and do not know about the ...</td>\n",
       "      <td>['Malfitano AM', 'Basu S', 'Maresz K', 'Bifulc...</td>\n",
       "      <td>Seminars in immunology.</td>\n",
       "      <td>Semin Immunol</td>\n",
       "      <td>2014 Oct;26(5):369-79.</td>\n",
       "      <td>\\n Dipartimento di Medicina e Chirurgia, Unive...</td>\n",
       "      <td>&lt;div class=\"cit\"&gt;\\n &lt;a abstractlink=\"yes\" alse...</td>\n",
       "      <td>&lt;div class=\"keywords\"&gt;\\n &lt;h4&gt;\\n  KEYWORDS:\\n &lt;...</td>\n",
       "    </tr>\n",
       "    <tr>\n",
       "      <td>1</td>\n",
       "      <td>16889837</td>\n",
       "      <td>&lt;div class=\"abstr\"&gt;\\n &lt;h3&gt;\\n  Abstract\\n &lt;/h3&gt;...</td>\n",
       "      <td>&lt;h1&gt;\\n Allosteric agonists of 7TM receptors: e...</td>\n",
       "      <td>['Langmead CJ', 'Christopoulos A']</td>\n",
       "      <td>Trends in pharmacological sciences.</td>\n",
       "      <td>Trends Pharmacol Sci</td>\n",
       "      <td>NaN</td>\n",
       "      <td>\\n Psychiatry Centre of Excellence for Drug Di...</td>\n",
       "      <td>&lt;div class=\"cit\"&gt;\\n &lt;a abstractlink=\"yes\" alse...</td>\n",
       "      <td>NaN</td>\n",
       "    </tr>\n",
       "    <tr>\n",
       "      <td>2</td>\n",
       "      <td>31068464</td>\n",
       "      <td>&lt;div class=\"abstr\"&gt;\\n &lt;h3&gt;\\n  Abstract\\n &lt;/h3&gt;...</td>\n",
       "      <td>&lt;h1&gt;\\n MRGPRX4 is a G protein-coupled receptor...</td>\n",
       "      <td>['Meixiong J', 'Vasavda C', 'Snyder SH', 'Dong...</td>\n",
       "      <td>Proceedings of the National Academy of Science...</td>\n",
       "      <td>Proc Natl Acad Sci U S A</td>\n",
       "      <td>2019 May 21;116(21):10525-10530.</td>\n",
       "      <td>\\n Solomon H. Snyder Department of Neuroscienc...</td>\n",
       "      <td>&lt;div class=\"cit\"&gt;\\n &lt;a abstractlink=\"yes\" alse...</td>\n",
       "      <td>&lt;div class=\"keywords\"&gt;\\n &lt;h4&gt;\\n  KEYWORDS:\\n &lt;...</td>\n",
       "    </tr>\n",
       "  </tbody>\n",
       "</table>\n",
       "</div>"
      ],
      "text/plain": [
       "         Id                                           abstract  \\\n",
       "0  24877594  <div class=\"abstr\">\\n <h3>\\n  Abstract\\n </h3>...   \n",
       "1  16889837  <div class=\"abstr\">\\n <h3>\\n  Abstract\\n </h3>...   \n",
       "2  31068464  <div class=\"abstr\">\\n <h3>\\n  Abstract\\n </h3>...   \n",
       "\n",
       "                                               title  \\\n",
       "0  <h1>\\n What we know and do not know about the ...   \n",
       "1  <h1>\\n Allosteric agonists of 7TM receptors: e...   \n",
       "2  <h1>\\n MRGPRX4 is a G protein-coupled receptor...   \n",
       "\n",
       "                                             authors  \\\n",
       "0  ['Malfitano AM', 'Basu S', 'Maresz K', 'Bifulc...   \n",
       "1                 ['Langmead CJ', 'Christopoulos A']   \n",
       "2  ['Meixiong J', 'Vasavda C', 'Snyder SH', 'Dong...   \n",
       "\n",
       "                                             journal  \\\n",
       "0                            Seminars in immunology.   \n",
       "1                Trends in pharmacological sciences.   \n",
       "2  Proceedings of the National Academy of Science...   \n",
       "\n",
       "                journal_abv                              date  \\\n",
       "0             Semin Immunol            2014 Oct;26(5):369-79.   \n",
       "1      Trends Pharmacol Sci                               NaN   \n",
       "2  Proc Natl Acad Sci U S A  2019 May 21;116(21):10525-10530.   \n",
       "\n",
       "                                         affiliation  \\\n",
       "0  \\n Dipartimento di Medicina e Chirurgia, Unive...   \n",
       "1  \\n Psychiatry Centre of Excellence for Drug Di...   \n",
       "2  \\n Solomon H. Snyder Department of Neuroscienc...   \n",
       "\n",
       "                                             records  \\\n",
       "0  <div class=\"cit\">\\n <a abstractlink=\"yes\" alse...   \n",
       "1  <div class=\"cit\">\\n <a abstractlink=\"yes\" alse...   \n",
       "2  <div class=\"cit\">\\n <a abstractlink=\"yes\" alse...   \n",
       "\n",
       "                                            keywords  \n",
       "0  <div class=\"keywords\">\\n <h4>\\n  KEYWORDS:\\n <...  \n",
       "1                                                NaN  \n",
       "2  <div class=\"keywords\">\\n <h4>\\n  KEYWORDS:\\n <...  "
      ]
     },
     "execution_count": 5,
     "metadata": {},
     "output_type": "execute_result"
    }
   ],
   "source": [
    "dfs.head(3)"
   ]
  },
  {
   "cell_type": "markdown",
   "metadata": {},
   "source": [
    "## Data Cleaning:"
   ]
  },
  {
   "cell_type": "code",
   "execution_count": 4,
   "metadata": {},
   "outputs": [
    {
     "name": "stdout",
     "output_type": "stream",
     "text": [
      "<class 'pandas.core.frame.DataFrame'>\n",
      "Int64Index: 323646 entries, 0 to 84122\n",
      "Data columns (total 10 columns):\n",
      "Id             323646 non-null int64\n",
      "abstract       296557 non-null object\n",
      "title          323646 non-null object\n",
      "authors        323646 non-null object\n",
      "journal        323646 non-null object\n",
      "journal_abv    323646 non-null object\n",
      "date           116416 non-null object\n",
      "affiliation    323646 non-null object\n",
      "records        323646 non-null object\n",
      "keywords       37845 non-null object\n",
      "dtypes: int64(1), object(9)\n",
      "memory usage: 27.2+ MB\n"
     ]
    }
   ],
   "source": [
    "# drop rows with no record or title information\n",
    "df = dfs.dropna(subset=['records','title'])\n",
    "df.info()"
   ]
  },
  {
   "cell_type": "code",
   "execution_count": 47,
   "metadata": {},
   "outputs": [],
   "source": [
    "\"\"\"\n",
    "Cleaning procedure: \n",
    "    strip html tags\n",
    "    get year from record\n",
    "    \n",
    "\"\"\"\n",
    "\n",
    "def strip_html_tags(text):\n",
    "    if type(text) != str:\n",
    "        return # if no content, deal with NaN\n",
    "    \n",
    "    soup = BeautifulSoup(text, \"html.parser\")\n",
    "    stripped_text = soup.get_text()\n",
    "    return stripped_text.replace('\\n','')\n",
    "\n",
    "def get_year_record(record):\n",
    "    \"\"\"\n",
    "    get publication missing date from record\n",
    "    this will change record column to publication date\n",
    "    there's no NaN record\n",
    "    \"\"\"\n",
    "    try:\n",
    "        date = date = re.findall(r'</a>\\n (.*) doi', records)[0]\n",
    "    except:\n",
    "        date = re.findall(r'</a>\\n(.*)\\n</div>',record)[0]\n",
    "    \n",
    "    if len(date) > 3:\n",
    "        dates = date.split(';')\n",
    "        for x in dates[0].split():\n",
    "            try:\n",
    "                year = str(int(x))\n",
    "                return year\n",
    "            except:\n",
    "                continue\n",
    "    \n",
    "    \n"
   ]
  },
  {
   "cell_type": "code",
   "execution_count": 6,
   "metadata": {},
   "outputs": [
    {
     "name": "stderr",
     "output_type": "stream",
     "text": [
      "/Users/shunling/opt/anaconda3/lib/python3.7/site-packages/pandas/core/generic.py:5208: SettingWithCopyWarning: \n",
      "A value is trying to be set on a copy of a slice from a DataFrame.\n",
      "Try using .loc[row_indexer,col_indexer] = value instead\n",
      "\n",
      "See the caveats in the documentation: http://pandas.pydata.org/pandas-docs/stable/user_guide/indexing.html#returning-a-view-versus-a-copy\n",
      "  self[name] = value\n"
     ]
    },
    {
     "name": "stdout",
     "output_type": "stream",
     "text": [
      "CPU times: user 2min 20s, sys: 764 ms, total: 2min 21s\n",
      "Wall time: 2min 21s\n"
     ]
    }
   ],
   "source": [
    "%%time\n",
    "# strip html tags\n",
    "df.abstract = df.abstract.apply(strip_html_tags)\n",
    "df.title = df.title.apply(strip_html_tags)\n",
    "df.keywords = df.keywords.apply(strip_html_tags)"
   ]
  },
  {
   "cell_type": "code",
   "execution_count": 54,
   "metadata": {},
   "outputs": [],
   "source": [
    "# get year data from record and create another column called 'year'\n",
    "records = df.records.apply(get_year_record)"
   ]
  },
  {
   "cell_type": "code",
   "execution_count": 56,
   "metadata": {},
   "outputs": [
    {
     "name": "stderr",
     "output_type": "stream",
     "text": [
      "/Users/shunling/opt/anaconda3/lib/python3.7/site-packages/ipykernel_launcher.py:1: SettingWithCopyWarning: \n",
      "A value is trying to be set on a copy of a slice from a DataFrame.\n",
      "Try using .loc[row_indexer,col_indexer] = value instead\n",
      "\n",
      "See the caveats in the documentation: http://pandas.pydata.org/pandas-docs/stable/user_guide/indexing.html#returning-a-view-versus-a-copy\n",
      "  \"\"\"Entry point for launching an IPython kernel.\n"
     ]
    },
    {
     "name": "stdout",
     "output_type": "stream",
     "text": [
      "<class 'pandas.core.frame.DataFrame'>\n",
      "Int64Index: 323646 entries, 0 to 84122\n",
      "Data columns (total 11 columns):\n",
      "Id             323646 non-null int64\n",
      "abstract       296557 non-null object\n",
      "title          323646 non-null object\n",
      "authors        323646 non-null object\n",
      "journal        323646 non-null object\n",
      "journal_abv    323646 non-null object\n",
      "date           116416 non-null object\n",
      "affiliation    323646 non-null object\n",
      "records        323646 non-null object\n",
      "keywords       37845 non-null object\n",
      "year           323546 non-null object\n",
      "dtypes: int64(1), object(10)\n",
      "memory usage: 29.6+ MB\n"
     ]
    }
   ],
   "source": [
    "df['year'] = records\n",
    "df.info()"
   ]
  },
  {
   "cell_type": "code",
   "execution_count": 58,
   "metadata": {},
   "outputs": [],
   "source": [
    "df = df.drop(['date','records'],axis=1)"
   ]
  },
  {
   "cell_type": "code",
   "execution_count": 59,
   "metadata": {},
   "outputs": [],
   "source": [
    "df.to_csv('./Clean_data/clean_pub.csv')"
   ]
  },
  {
   "cell_type": "markdown",
   "metadata": {},
   "source": [
    "### Check outcome after cleaning"
   ]
  },
  {
   "cell_type": "code",
   "execution_count": 61,
   "metadata": {},
   "outputs": [
    {
     "data": {
      "text/plain": [
       "('1946', '2019')"
      ]
     },
     "execution_count": 61,
     "metadata": {},
     "output_type": "execute_result"
    }
   ],
   "source": [
    "year = df.year.dropna()\n",
    "year.min(),year.max()"
   ]
  },
  {
   "cell_type": "code",
   "execution_count": 62,
   "metadata": {},
   "outputs": [
    {
     "data": {
      "text/html": [
       "<div>\n",
       "<style scoped>\n",
       "    .dataframe tbody tr th:only-of-type {\n",
       "        vertical-align: middle;\n",
       "    }\n",
       "\n",
       "    .dataframe tbody tr th {\n",
       "        vertical-align: top;\n",
       "    }\n",
       "\n",
       "    .dataframe thead th {\n",
       "        text-align: right;\n",
       "    }\n",
       "</style>\n",
       "<table border=\"1\" class=\"dataframe\">\n",
       "  <thead>\n",
       "    <tr style=\"text-align: right;\">\n",
       "      <th></th>\n",
       "      <th>Id</th>\n",
       "      <th>abstract</th>\n",
       "      <th>title</th>\n",
       "      <th>authors</th>\n",
       "      <th>journal</th>\n",
       "      <th>journal_abv</th>\n",
       "      <th>affiliation</th>\n",
       "      <th>keywords</th>\n",
       "      <th>year</th>\n",
       "    </tr>\n",
       "  </thead>\n",
       "  <tbody>\n",
       "    <tr>\n",
       "      <td>0</td>\n",
       "      <td>24877594</td>\n",
       "      <td>Abstract    It has been well appreciated tha...</td>\n",
       "      <td>What we know and do not know about the cannab...</td>\n",
       "      <td>['Malfitano AM', 'Basu S', 'Maresz K', 'Bifulc...</td>\n",
       "      <td>Seminars in immunology.</td>\n",
       "      <td>Semin Immunol</td>\n",
       "      <td>\\n Dipartimento di Medicina e Chirurgia, Unive...</td>\n",
       "      <td>KEYWORDS:   Cannabinoid receptor 2; Endocann...</td>\n",
       "      <td>2014</td>\n",
       "    </tr>\n",
       "    <tr>\n",
       "      <td>1</td>\n",
       "      <td>16889837</td>\n",
       "      <td>Abstract    Approximately 1% of the genome o...</td>\n",
       "      <td>Allosteric agonists of 7TM receptors: expandi...</td>\n",
       "      <td>['Langmead CJ', 'Christopoulos A']</td>\n",
       "      <td>Trends in pharmacological sciences.</td>\n",
       "      <td>Trends Pharmacol Sci</td>\n",
       "      <td>\\n Psychiatry Centre of Excellence for Drug Di...</td>\n",
       "      <td>None</td>\n",
       "      <td>2006</td>\n",
       "    </tr>\n",
       "  </tbody>\n",
       "</table>\n",
       "</div>"
      ],
      "text/plain": [
       "         Id                                           abstract  \\\n",
       "0  24877594    Abstract    It has been well appreciated tha...   \n",
       "1  16889837    Abstract    Approximately 1% of the genome o...   \n",
       "\n",
       "                                               title  \\\n",
       "0   What we know and do not know about the cannab...   \n",
       "1   Allosteric agonists of 7TM receptors: expandi...   \n",
       "\n",
       "                                             authors  \\\n",
       "0  ['Malfitano AM', 'Basu S', 'Maresz K', 'Bifulc...   \n",
       "1                 ['Langmead CJ', 'Christopoulos A']   \n",
       "\n",
       "                               journal           journal_abv  \\\n",
       "0              Seminars in immunology.         Semin Immunol   \n",
       "1  Trends in pharmacological sciences.  Trends Pharmacol Sci   \n",
       "\n",
       "                                         affiliation  \\\n",
       "0  \\n Dipartimento di Medicina e Chirurgia, Unive...   \n",
       "1  \\n Psychiatry Centre of Excellence for Drug Di...   \n",
       "\n",
       "                                            keywords  year  \n",
       "0    KEYWORDS:   Cannabinoid receptor 2; Endocann...  2014  \n",
       "1                                               None  2006  "
      ]
     },
     "execution_count": 62,
     "metadata": {},
     "output_type": "execute_result"
    }
   ],
   "source": [
    "df.head(2)"
   ]
  }
 ],
 "metadata": {
  "kernelspec": {
   "display_name": "Python 3",
   "language": "python",
   "name": "python3"
  },
  "language_info": {
   "codemirror_mode": {
    "name": "ipython",
    "version": 3
   },
   "file_extension": ".py",
   "mimetype": "text/x-python",
   "name": "python",
   "nbconvert_exporter": "python",
   "pygments_lexer": "ipython3",
   "version": "3.7.4"
  }
 },
 "nbformat": 4,
 "nbformat_minor": 2
}
