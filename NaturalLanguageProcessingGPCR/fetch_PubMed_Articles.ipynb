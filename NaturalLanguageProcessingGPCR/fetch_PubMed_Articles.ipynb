{
 "cells": [
  {
   "cell_type": "code",
   "execution_count": 1,
   "metadata": {},
   "outputs": [],
   "source": [
    "import json\n",
    "import pandas as pd\n",
    "from datetime import datetime\n",
    "import requests, sys, webbrowser, bs4\n",
    "import re\n",
    "from Bio import Entrez"
   ]
  },
  {
   "cell_type": "code",
   "execution_count": 2,
   "metadata": {},
   "outputs": [],
   "source": [
    "results = pd.read_json('GPCR_pubmed.json')"
   ]
  },
  {
   "cell_type": "code",
   "execution_count": 3,
   "metadata": {},
   "outputs": [],
   "source": [
    "ID_list = results.loc['idlist','esearchresult']"
   ]
  },
  {
   "cell_type": "code",
   "execution_count": 4,
   "metadata": {},
   "outputs": [
    {
     "data": {
      "text/plain": [
       "(324128, '2424463')"
      ]
     },
     "execution_count": 4,
     "metadata": {},
     "output_type": "execute_result"
    }
   ],
   "source": [
    "len(ID_list),ID_list[310000]"
   ]
  },
  {
   "cell_type": "code",
   "execution_count": 5,
   "metadata": {},
   "outputs": [],
   "source": [
    "f = open('bad_IDs.txt','w')\n",
    "Entrez.email = 'shirley.shunling@gmail.com'#should get own API Key to ensure"
   ]
  },
  {
   "cell_type": "code",
   "execution_count": 7,
   "metadata": {},
   "outputs": [],
   "source": [
    "df = {'Id':[],\n",
    "              \n",
    "              'keywords':[]\n",
    "        }"
   ]
  },
  {
   "cell_type": "code",
   "execution_count": 8,
   "metadata": {},
   "outputs": [
    {
     "name": "stdout",
     "output_type": "stream",
     "text": [
      "2019-10-19 09:18:37.251687\n",
      "2019-10-19 11:44:37.202189\n",
      "2019-10-19 14:09:55.858173\n",
      "2019-10-19 16:33:05.886323\n",
      "2019-10-19 18:54:49.995959\n",
      "2019-10-19 21:21:29.669206\n",
      "2019-10-19 23:48:30.820799\n",
      "2019-10-20 02:18:30.419318\n"
     ]
    }
   ],
   "source": [
    "url_stem = 'https://www.ncbi.nlm.nih.gov/pubmed/'\n",
    "\n",
    "for i in range(0,78000):\n",
    "    if i % 10000 == 0:\n",
    "        print(datetime.now())\n",
    "        \n",
    "        pd.DataFrame(df).to_csv('keyword'+str(i)+'.csv')\n",
    "            \n",
    "        df = {'Id':[],\n",
    "              \n",
    "              'keywords':[]\n",
    "        }\n",
    "    try:\n",
    "        url = url_stem + str(ID_list[i])\n",
    "        r = requests.get(url)\n",
    "        df['Id'].append(ID_list[i])\n",
    "    except:\n",
    "        f.write(str(ID_list[i]))\n",
    "        f.write('\\n')\n",
    "        continue\n",
    "        \n",
    "   \n",
    "    try:\n",
    "        keyword = bs4.BeautifulSoup(r.content).select('div.keywords')[0].prettify()\n",
    "        df['keywords'].append(keyword)\n",
    "    except:\n",
    "        df['keywords'].append('NA')\n",
    "        \n",
    "    \n",
    "    "
   ]
  },
  {
   "cell_type": "code",
   "execution_count": 9,
   "metadata": {},
   "outputs": [],
   "source": [
    "pd.DataFrame(df).to_csv('keyword'+str(i)+'.csv')"
   ]
  },
  {
   "cell_type": "code",
   "execution_count": null,
   "metadata": {},
   "outputs": [
    {
     "name": "stdout",
     "output_type": "stream",
     "text": [
      "2019-10-19 09:15:31.696289\n"
     ]
    }
   ],
   "source": [
    "url_stem = 'https://www.ncbi.nlm.nih.gov/pubmed/'\n",
    "\n",
    "for i in range(78000,len(ID_list)):\n",
    "    if i % 10000 == 0:\n",
    "        print(datetime.now())\n",
    "        \n",
    "        pd.DataFrame(df).to_csv('chunk'+str(i)+'.csv')\n",
    "            \n",
    "        df = {'Id':[],\n",
    "              'abstract':[],\n",
    "              'title':[],\n",
    "              'authors':[],\n",
    "              'journal':[],\n",
    "              'journal_abv':[],\n",
    "              'date':[],\n",
    "              'affiliation':[],\n",
    "              'records':[],\n",
    "              'keywords':[]\n",
    "        }\n",
    "    try:\n",
    "        url = url_stem + str(ID_list[i])\n",
    "        r = requests.get(url)\n",
    "        df['Id'].append(ID_list[i])\n",
    "    except:\n",
    "        f.write(str(ID_list[i]))\n",
    "        f.write('\\n')\n",
    "        continue\n",
    "        \n",
    "    try:\n",
    "        title = bs4.BeautifulSoup(r.content).select('h1')[1].prettify()\n",
    "        df['title'].append(title)\n",
    "    except:\n",
    "        df['title'].append('NA')\n",
    "    \n",
    "    try:\n",
    "        abstract_record = bs4.BeautifulSoup(r.content).select('div.abstr')[0].prettify()\n",
    "        df['abstract'].append(abstract_record)\n",
    "    except:\n",
    "        df['abstract'].append('NA')\n",
    "    \n",
    "    try:\n",
    "        keyword = bs4.BeautifulSoup(r.content).select('div.keywords')[0].prettify()\n",
    "        df['keywords'].append(keyword)\n",
    "    except:\n",
    "        df['keywords'].append('NA')\n",
    "        \n",
    "    try:\n",
    "        author_record = bs4.BeautifulSoup(r.content).select('div.auths')[0].prettify()\n",
    "        authors_raw = re.sub(r'%20', ' ', author_record)\n",
    "        authors = re.findall(r'term=(.*)%5BAuthor',authors_raw)\n",
    "        df['authors'].append(authors)\n",
    "    except:\n",
    "        df['authors'].append('NA')\n",
    "    \n",
    "    try:\n",
    "        records = bs4.BeautifulSoup(r.content).select('div.cit')[0].prettify()\n",
    "        df['records'].append(records)\n",
    "    except:\n",
    "        df['records'].append('NA')\n",
    "    \n",
    "    try:\n",
    "        journal = re.findall(r'title=\"(.*)\"',records)[0]\n",
    "        df['journal'].append(journal)\n",
    "    except:\n",
    "        df['journal'].append('NA')\n",
    "    try:\n",
    "        journal_abv = re.findall(r'alterm=\"(.*).\" href',records)[0]\n",
    "        df['journal_abv'].append(journal_abv)\n",
    "    except:\n",
    "        df['journal_abv'].append('NA')\n",
    "    try:\n",
    "        date = re.findall(r'</a>\\n (.*) doi', records)[0]\n",
    "        df['date'].append(date)\n",
    "    except:\n",
    "        df['date'].append('NA')\n",
    "        \n",
    "    try:\n",
    "        affiliation = bs4.BeautifulSoup(r.content).select('dd')[0].prettify()[4:-5]\n",
    "        df['affiliation'].append(affiliation)\n",
    "    except:\n",
    "        df['affiliation'].append('NA')\n",
    "        \n",
    "    \n"
   ]
  },
  {
   "cell_type": "code",
   "execution_count": 8,
   "metadata": {},
   "outputs": [],
   "source": [
    "pd.DataFrame(df).to_csv('chunk'+str(i)+'.csv')"
   ]
  },
  {
   "cell_type": "code",
   "execution_count": null,
   "metadata": {},
   "outputs": [],
   "source": []
  },
  {
   "cell_type": "code",
   "execution_count": null,
   "metadata": {},
   "outputs": [],
   "source": [
    "i"
   ]
  },
  {
   "cell_type": "code",
   "execution_count": 136,
   "metadata": {},
   "outputs": [],
   "source": [
    "pd.DataFrame(df).to_csv('chunk'+str(6000)+'.csv')"
   ]
  },
  {
   "cell_type": "code",
   "execution_count": 134,
   "metadata": {},
   "outputs": [],
   "source": [
    "for i in range(2998,3001):\n",
    "    df['journal_abv'].append('NA')\n",
    "    df['affiliation'].append('NA')\n",
    "    df['abstract'].append('NA')"
   ]
  },
  {
   "cell_type": "code",
   "execution_count": null,
   "metadata": {},
   "outputs": [],
   "source": []
  },
  {
   "cell_type": "code",
   "execution_count": null,
   "metadata": {},
   "outputs": [],
   "source": []
  },
  {
   "cell_type": "code",
   "execution_count": null,
   "metadata": {},
   "outputs": [],
   "source": []
  },
  {
   "cell_type": "code",
   "execution_count": null,
   "metadata": {},
   "outputs": [],
   "source": []
  },
  {
   "cell_type": "code",
   "execution_count": null,
   "metadata": {},
   "outputs": [],
   "source": []
  },
  {
   "cell_type": "code",
   "execution_count": null,
   "metadata": {},
   "outputs": [],
   "source": []
  },
  {
   "cell_type": "code",
   "execution_count": null,
   "metadata": {},
   "outputs": [],
   "source": []
  },
  {
   "cell_type": "code",
   "execution_count": null,
   "metadata": {},
   "outputs": [],
   "source": []
  },
  {
   "cell_type": "code",
   "execution_count": 117,
   "metadata": {},
   "outputs": [],
   "source": [
    "pd.DataFrame(df).to_csv('chunk'+str(i)+'.csv')"
   ]
  },
  {
   "cell_type": "code",
   "execution_count": 115,
   "metadata": {},
   "outputs": [
    {
     "data": {
      "text/plain": [
       "('18634199',\n",
       " 'NA',\n",
       " ['Civelli O', 'Zhou QY'],\n",
       " '<h1>\\n Orphan G protein-coupled receptors and novel neuropeptides. Introduction.\\n</h1>\\n')"
      ]
     },
     "execution_count": 115,
     "metadata": {},
     "output_type": "execute_result"
    }
   ],
   "source": [
    "df['Id'].pop(),df['abstract'].pop(),df['authors'].pop(),df['title'].pop()"
   ]
  },
  {
   "cell_type": "code",
   "execution_count": 90,
   "metadata": {},
   "outputs": [],
   "source": [
    "df['records'].append('NA')\n",
    "affiliation = bs4.BeautifulSoup(r.content).select('dd')[0].prettify()[4:-5]\n",
    "df['affiliation'].append(affiliation)"
   ]
  },
  {
   "cell_type": "code",
   "execution_count": 94,
   "metadata": {},
   "outputs": [
    {
     "data": {
      "text/plain": [
       "['18829842', '18539757', '18278482', '17663142', '16920721', '30085508']"
      ]
     },
     "execution_count": 94,
     "metadata": {},
     "output_type": "execute_result"
    }
   ],
   "source": [
    "df['Id']"
   ]
  },
  {
   "cell_type": "code",
   "execution_count": 98,
   "metadata": {},
   "outputs": [
    {
     "data": {
      "text/plain": [
       "'30085508'"
      ]
     },
     "execution_count": 98,
     "metadata": {},
     "output_type": "execute_result"
    }
   ],
   "source": [
    "ID_list[i]"
   ]
  },
  {
   "cell_type": "code",
   "execution_count": null,
   "metadata": {},
   "outputs": [],
   "source": []
  },
  {
   "cell_type": "code",
   "execution_count": 50,
   "metadata": {},
   "outputs": [
    {
     "data": {
      "text/plain": [
       "'<div class=\"abstr\">\\n <h3>\\n  Abstract\\n </h3>\\n <div class=\"\">\\n  <p>\\n   There is significant evidence that internal pools of G protein-coupled receptors (GPCRs) exist and may be affected by both endogenous signaling molecules and hydrophobic pharmaceutical ligands, once assumed to only affect cell surface versions of these receptors. Here, we discuss evidence that the biology of nuclear GPCRs in particular is complex, rich, and highly interactive with GPCR signaling from the cell surface. Caging existing GPCR ligands may be an excellent means of further stratifying the phenotypic effects of known pharmacophores such as β-adrenergic, angiotensin II, and type B endothelin receptor ligands in the cardiovascular system. We describe some synthetic strategies we have used to design ligands to go from in cellulo to in vivo experiments. We also consider how surface and intracellular GPCR signaling might be integrated and ways to dissect this. If they could be selectively targeted, nuclear GPCRs and their associated nucleoligands would represent a completely novel area for exploration by Pharma.\\n  </p>\\n </div>\\n</div>\\n'"
      ]
     },
     "execution_count": 50,
     "metadata": {},
     "output_type": "execute_result"
    }
   ],
   "source": [
    "abstract_record"
   ]
  },
  {
   "cell_type": "code",
   "execution_count": 55,
   "metadata": {},
   "outputs": [
    {
     "data": {
      "text/plain": [
       "[]"
      ]
     },
     "execution_count": 55,
     "metadata": {},
     "output_type": "execute_result"
    }
   ],
   "source": [
    "abstract = re.findall(r'<p>\\n *(.*)</p>', abstract_record)\n",
    "abstract"
   ]
  },
  {
   "cell_type": "code",
   "execution_count": null,
   "metadata": {},
   "outputs": [],
   "source": [
    "\"\"\"\n",
    "from Bio import Entrez\n",
    "def search(query):\n",
    "    Entrez.email = 'your.email@example.com'#should get own API Key to ensure\n",
    "    handle = Entrez.esearch(db='pubmed', \n",
    "                            sort='relevance', \n",
    "                            retmax='20',\n",
    "                            retmode='xml', \n",
    "                            term=query)\n",
    "    results = Entrez.read(handle)\n",
    "    return results \n",
    "\"\"\"\n",
    "\n",
    "\"\"\"\n",
    "url = 'https://eutils.ncbi.nlm.nih.gov/entrez/eutils/esearch.fcgi?\\\n",
    "db=pubmed&retmode=json&retmax=324128&sort=relevance&term=G%20protein%20coupled%20receptor'\n",
    "\"\"\""
   ]
  }
 ],
 "metadata": {
  "kernelspec": {
   "display_name": "Python 3",
   "language": "python",
   "name": "python3"
  },
  "language_info": {
   "codemirror_mode": {
    "name": "ipython",
    "version": 3
   },
   "file_extension": ".py",
   "mimetype": "text/x-python",
   "name": "python",
   "nbconvert_exporter": "python",
   "pygments_lexer": "ipython3",
   "version": "3.7.0"
  }
 },
 "nbformat": 4,
 "nbformat_minor": 2
}
