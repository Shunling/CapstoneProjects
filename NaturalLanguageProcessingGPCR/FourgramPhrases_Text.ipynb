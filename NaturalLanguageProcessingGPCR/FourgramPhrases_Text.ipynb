{
 "cells": [
  {
   "cell_type": "code",
   "execution_count": 11,
   "metadata": {},
   "outputs": [],
   "source": [
    "import pandas as pd\n",
    "from tqdm import tqdm\n",
    "from gensim.models.phrases import Phrases, Phraser\n",
    "from gensim.models.word2vec import LineSentence\n",
    "import itertools as it\n",
    "import os"
   ]
  },
  {
   "cell_type": "code",
   "execution_count": 2,
   "metadata": {},
   "outputs": [
    {
     "name": "stderr",
     "output_type": "stream",
     "text": [
      "/Users/shunling/opt/anaconda3/lib/python3.7/site-packages/IPython/core/interactiveshell.py:3058: DtypeWarning: Columns (4) have mixed types. Specify dtype option on import or set low_memory=False.\n",
      "  interactivity=interactivity, compiler=compiler, result=result)\n"
     ]
    }
   ],
   "source": [
    "# table with id,year,text,keyword columns\n",
    "df = pd.read_csv('./Processed_data/year_text_keywords_affiliation.csv').drop('Unnamed: 0',axis=1)"
   ]
  },
  {
   "cell_type": "code",
   "execution_count": 3,
   "metadata": {},
   "outputs": [
    {
     "data": {
      "text/html": [
       "<div>\n",
       "<style scoped>\n",
       "    .dataframe tbody tr th:only-of-type {\n",
       "        vertical-align: middle;\n",
       "    }\n",
       "\n",
       "    .dataframe tbody tr th {\n",
       "        vertical-align: top;\n",
       "    }\n",
       "\n",
       "    .dataframe thead th {\n",
       "        text-align: right;\n",
       "    }\n",
       "</style>\n",
       "<table border=\"1\" class=\"dataframe\">\n",
       "  <thead>\n",
       "    <tr style=\"text-align: right;\">\n",
       "      <th></th>\n",
       "      <th>Id</th>\n",
       "      <th>year</th>\n",
       "      <th>text</th>\n",
       "      <th>keywords</th>\n",
       "      <th>affiliation</th>\n",
       "    </tr>\n",
       "  </thead>\n",
       "  <tbody>\n",
       "    <tr>\n",
       "      <td>0</td>\n",
       "      <td>24877594</td>\n",
       "      <td>2014.0</td>\n",
       "      <td>what we know and do not know about the canna...</td>\n",
       "      <td>cannabinoid receptor 2 ; endocannabinoid ; i...</td>\n",
       "      <td>[]</td>\n",
       "    </tr>\n",
       "    <tr>\n",
       "      <td>1</td>\n",
       "      <td>16889837</td>\n",
       "      <td>2006.0</td>\n",
       "      <td>allosteric agonist of 7tm receptor expand th...</td>\n",
       "      <td>NaN</td>\n",
       "      <td>glaxosmithkline</td>\n",
       "    </tr>\n",
       "    <tr>\n",
       "      <td>2</td>\n",
       "      <td>31068464</td>\n",
       "      <td>2019.0</td>\n",
       "      <td>mrgprx4 be a g protein - couple receptor act...</td>\n",
       "      <td>mrgprx4 ; bile acid ; cholestasis ; itch ; p...</td>\n",
       "      <td>[' the johns hopkins university']</td>\n",
       "    </tr>\n",
       "    <tr>\n",
       "      <td>3</td>\n",
       "      <td>30610192</td>\n",
       "      <td>2019.0</td>\n",
       "      <td>modulation of gpr39 a g - protein couple rec...</td>\n",
       "      <td>NaN</td>\n",
       "      <td>[' oregon national primate research center, or...</td>\n",
       "    </tr>\n",
       "    <tr>\n",
       "      <td>4</td>\n",
       "      <td>30289386</td>\n",
       "      <td>2018.0</td>\n",
       "      <td>simulation of spontaneous g protein activati...</td>\n",
       "      <td>g protein ; markov state model ; allostery ;...</td>\n",
       "      <td>[' washington university']</td>\n",
       "    </tr>\n",
       "  </tbody>\n",
       "</table>\n",
       "</div>"
      ],
      "text/plain": [
       "         Id    year                                               text  \\\n",
       "0  24877594  2014.0    what we know and do not know about the canna...   \n",
       "1  16889837  2006.0    allosteric agonist of 7tm receptor expand th...   \n",
       "2  31068464  2019.0    mrgprx4 be a g protein - couple receptor act...   \n",
       "3  30610192  2019.0    modulation of gpr39 a g - protein couple rec...   \n",
       "4  30289386  2018.0    simulation of spontaneous g protein activati...   \n",
       "\n",
       "                                            keywords  \\\n",
       "0    cannabinoid receptor 2 ; endocannabinoid ; i...   \n",
       "1                                                NaN   \n",
       "2    mrgprx4 ; bile acid ; cholestasis ; itch ; p...   \n",
       "3                                                NaN   \n",
       "4    g protein ; markov state model ; allostery ;...   \n",
       "\n",
       "                                         affiliation  \n",
       "0                                                 []  \n",
       "1                                    glaxosmithkline  \n",
       "2                  [' the johns hopkins university']  \n",
       "3  [' oregon national primate research center, or...  \n",
       "4                         [' washington university']  "
      ]
     },
     "execution_count": 3,
     "metadata": {},
     "output_type": "execute_result"
    }
   ],
   "source": [
    "df.head()"
   ]
  },
  {
   "cell_type": "code",
   "execution_count": 9,
   "metadata": {},
   "outputs": [
    {
     "name": "stdout",
     "output_type": "stream",
     "text": [
      "CPU times: user 1.02 s, sys: 300 ms, total: 1.32 s\n",
      "Wall time: 1.59 s\n"
     ]
    }
   ],
   "source": [
    "%%time\n",
    "df['text'] = df['text'].apply(lambda x: x.replace('-',''))"
   ]
  },
  {
   "cell_type": "code",
   "execution_count": 10,
   "metadata": {},
   "outputs": [
    {
     "name": "stderr",
     "output_type": "stream",
     "text": [
      "100%|██████████| 323646/323646 [01:06<00:00, 4902.79it/s]\n"
     ]
    }
   ],
   "source": [
    "with open('./phrases/singlegram.txt','w') as f:\n",
    "    for i in tqdm(range(df.shape[0])):\n",
    "        f.write(df.iloc[i].text)\n",
    "        f.write('\\n')"
   ]
  },
  {
   "cell_type": "code",
   "execution_count": 17,
   "metadata": {},
   "outputs": [
    {
     "name": "stderr",
     "output_type": "stream",
     "text": [
      "323646it [03:07, 1725.19it/s]\n",
      "323646it [02:51, 1892.36it/s]\n",
      "323646it [02:53, 1865.31it/s]\n"
     ]
    }
   ],
   "source": [
    "# from unigram to digram\n",
    "unigrams = LineSentence('./phrases/singlegram.txt')\n",
    "bigram_phrases = Phrases(unigrams) # train model\n",
    "bigram_model = Phraser(bigram_phrases) # build model\n",
    "with open('./phrases/bigrams.txt','w') as f:\n",
    "    for sent in tqdm(unigrams):\n",
    "        bigram_sent = ' '.join(bigram_model[sent]) # apply model\n",
    "        f.write(bigram_sent)\n",
    "        f.write('\\n')\n",
    "        \n",
    "# from bigram to trigram\n",
    "bigrams = LineSentence('./phrases/bigrams.txt')\n",
    "trigram_phrases = Phrases(bigrams)\n",
    "trigram_model = Phraser(trigram_phrases)\n",
    "with open('./phrases/trigrams.txt','w') as f:\n",
    "    for sent in tqdm(bigrams):\n",
    "        tri_sent = ' '.join(trigram_model[sent])\n",
    "        f.write(tri_sent)\n",
    "        f.write('\\n')\n",
    "        \n",
    "# from trigram to fourgram\n",
    "trigrams = LineSentence('./phrases/trigrams.txt')\n",
    "fourgram_phrases = Phrases(trigrams)\n",
    "fourgram_model = Phraser(fourgram_phrases)\n",
    "with open('./phrases/fourgrams.txt','w') as f:\n",
    "    for sent in tqdm(trigrams):\n",
    "        four_sent = ' '.join(fourgram_model[sent])\n",
    "        f.write(four_sent)\n",
    "        f.write('\\n')"
   ]
  },
  {
   "cell_type": "code",
   "execution_count": 20,
   "metadata": {},
   "outputs": [
    {
     "name": "stderr",
     "output_type": "stream",
     "text": [
      "100%|██████████| 323646/323646 [00:00<00:00, 1867364.90it/s]\n"
     ]
    }
   ],
   "source": [
    "text = []\n",
    "f = open('./phrases/fourgrams.txt','r')\n",
    "for line in tqdm(f.readlines()):\n",
    "    text.append(line)"
   ]
  },
  {
   "cell_type": "code",
   "execution_count": 22,
   "metadata": {},
   "outputs": [],
   "source": [
    "df['fourgram'] = text"
   ]
  },
  {
   "cell_type": "code",
   "execution_count": 23,
   "metadata": {},
   "outputs": [
    {
     "data": {
      "text/html": [
       "<div>\n",
       "<style scoped>\n",
       "    .dataframe tbody tr th:only-of-type {\n",
       "        vertical-align: middle;\n",
       "    }\n",
       "\n",
       "    .dataframe tbody tr th {\n",
       "        vertical-align: top;\n",
       "    }\n",
       "\n",
       "    .dataframe thead th {\n",
       "        text-align: right;\n",
       "    }\n",
       "</style>\n",
       "<table border=\"1\" class=\"dataframe\">\n",
       "  <thead>\n",
       "    <tr style=\"text-align: right;\">\n",
       "      <th></th>\n",
       "      <th>Id</th>\n",
       "      <th>year</th>\n",
       "      <th>text</th>\n",
       "      <th>keywords</th>\n",
       "      <th>affiliation</th>\n",
       "      <th>fourgram</th>\n",
       "    </tr>\n",
       "  </thead>\n",
       "  <tbody>\n",
       "    <tr>\n",
       "      <td>0</td>\n",
       "      <td>24877594</td>\n",
       "      <td>2014.0</td>\n",
       "      <td>what we know and do not know about the canna...</td>\n",
       "      <td>cannabinoid receptor 2 ; endocannabinoid ; i...</td>\n",
       "      <td>[]</td>\n",
       "      <td>what we know and do_not know_about the cannabi...</td>\n",
       "    </tr>\n",
       "    <tr>\n",
       "      <td>1</td>\n",
       "      <td>16889837</td>\n",
       "      <td>2006.0</td>\n",
       "      <td>allosteric agonist of 7tm receptor expand th...</td>\n",
       "      <td>NaN</td>\n",
       "      <td>glaxosmithkline</td>\n",
       "      <td>allosteric agonist of 7tm receptor expand the ...</td>\n",
       "    </tr>\n",
       "    <tr>\n",
       "      <td>2</td>\n",
       "      <td>31068464</td>\n",
       "      <td>2019.0</td>\n",
       "      <td>mrgprx4 be a g protein  couple receptor acti...</td>\n",
       "      <td>mrgprx4 ; bile acid ; cholestasis ; itch ; p...</td>\n",
       "      <td>[' the johns hopkins university']</td>\n",
       "      <td>mrgprx4 be a g_protein_couple receptor activat...</td>\n",
       "    </tr>\n",
       "    <tr>\n",
       "      <td>3</td>\n",
       "      <td>30610192</td>\n",
       "      <td>2019.0</td>\n",
       "      <td>modulation of gpr39 a g  protein couple rece...</td>\n",
       "      <td>NaN</td>\n",
       "      <td>[' oregon national primate research center, or...</td>\n",
       "      <td>modulation of gpr39 a g_protein_couple recepto...</td>\n",
       "    </tr>\n",
       "    <tr>\n",
       "      <td>4</td>\n",
       "      <td>30289386</td>\n",
       "      <td>2018.0</td>\n",
       "      <td>simulation of spontaneous g protein activati...</td>\n",
       "      <td>g protein ; markov state model ; allostery ;...</td>\n",
       "      <td>[' washington university']</td>\n",
       "      <td>simulation of spontaneous g_protein activation...</td>\n",
       "    </tr>\n",
       "  </tbody>\n",
       "</table>\n",
       "</div>"
      ],
      "text/plain": [
       "         Id    year                                               text  \\\n",
       "0  24877594  2014.0    what we know and do not know about the canna...   \n",
       "1  16889837  2006.0    allosteric agonist of 7tm receptor expand th...   \n",
       "2  31068464  2019.0    mrgprx4 be a g protein  couple receptor acti...   \n",
       "3  30610192  2019.0    modulation of gpr39 a g  protein couple rece...   \n",
       "4  30289386  2018.0    simulation of spontaneous g protein activati...   \n",
       "\n",
       "                                            keywords  \\\n",
       "0    cannabinoid receptor 2 ; endocannabinoid ; i...   \n",
       "1                                                NaN   \n",
       "2    mrgprx4 ; bile acid ; cholestasis ; itch ; p...   \n",
       "3                                                NaN   \n",
       "4    g protein ; markov state model ; allostery ;...   \n",
       "\n",
       "                                         affiliation  \\\n",
       "0                                                 []   \n",
       "1                                    glaxosmithkline   \n",
       "2                  [' the johns hopkins university']   \n",
       "3  [' oregon national primate research center, or...   \n",
       "4                         [' washington university']   \n",
       "\n",
       "                                            fourgram  \n",
       "0  what we know and do_not know_about the cannabi...  \n",
       "1  allosteric agonist of 7tm receptor expand the ...  \n",
       "2  mrgprx4 be a g_protein_couple receptor activat...  \n",
       "3  modulation of gpr39 a g_protein_couple recepto...  \n",
       "4  simulation of spontaneous g_protein activation...  "
      ]
     },
     "execution_count": 23,
     "metadata": {},
     "output_type": "execute_result"
    }
   ],
   "source": [
    "df.head()"
   ]
  },
  {
   "cell_type": "code",
   "execution_count": 24,
   "metadata": {},
   "outputs": [],
   "source": [
    "df[['Id','fourgram']].to_csv('./Processed_data/Id_fourgram.csv')"
   ]
  },
  {
   "cell_type": "code",
   "execution_count": null,
   "metadata": {},
   "outputs": [],
   "source": []
  }
 ],
 "metadata": {
  "kernelspec": {
   "display_name": "Python 3",
   "language": "python",
   "name": "python3"
  },
  "language_info": {
   "codemirror_mode": {
    "name": "ipython",
    "version": 3
   },
   "file_extension": ".py",
   "mimetype": "text/x-python",
   "name": "python",
   "nbconvert_exporter": "python",
   "pygments_lexer": "ipython3",
   "version": "3.7.4"
  }
 },
 "nbformat": 4,
 "nbformat_minor": 2
}
