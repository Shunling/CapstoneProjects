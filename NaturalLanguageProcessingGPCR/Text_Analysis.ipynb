{
 "cells": [
  {
   "cell_type": "markdown",
   "metadata": {},
   "source": [
    "# Load data"
   ]
  },
  {
   "cell_type": "code",
   "execution_count": 34,
   "metadata": {},
   "outputs": [],
   "source": [
    "import pandas as pd\n",
    "import numpy as np"
   ]
  },
  {
   "cell_type": "code",
   "execution_count": 53,
   "metadata": {},
   "outputs": [
    {
     "data": {
      "text/html": [
       "<div>\n",
       "<style scoped>\n",
       "    .dataframe tbody tr th:only-of-type {\n",
       "        vertical-align: middle;\n",
       "    }\n",
       "\n",
       "    .dataframe tbody tr th {\n",
       "        vertical-align: top;\n",
       "    }\n",
       "\n",
       "    .dataframe thead th {\n",
       "        text-align: right;\n",
       "    }\n",
       "</style>\n",
       "<table border=\"1\" class=\"dataframe\">\n",
       "  <thead>\n",
       "    <tr style=\"text-align: right;\">\n",
       "      <th></th>\n",
       "      <th>Id</th>\n",
       "      <th>year</th>\n",
       "      <th>text</th>\n",
       "      <th>keywords</th>\n",
       "    </tr>\n",
       "  </thead>\n",
       "  <tbody>\n",
       "    <tr>\n",
       "      <th>0</th>\n",
       "      <td>24877594</td>\n",
       "      <td>2014.0</td>\n",
       "      <td>What we know and do not know about the cannab...</td>\n",
       "      <td>['cannabinoid receptor 2', 'endocannabinoid', ...</td>\n",
       "    </tr>\n",
       "    <tr>\n",
       "      <th>1</th>\n",
       "      <td>16889837</td>\n",
       "      <td>2006.0</td>\n",
       "      <td>Allosteric agonists of 7TM receptors: expandi...</td>\n",
       "      <td>NaN</td>\n",
       "    </tr>\n",
       "    <tr>\n",
       "      <th>2</th>\n",
       "      <td>31068464</td>\n",
       "      <td>2019.0</td>\n",
       "      <td>MRGPRX4 is a G protein-coupled receptor activ...</td>\n",
       "      <td>['mrgprx4', 'bile acids', 'cholestasis', 'itch...</td>\n",
       "    </tr>\n",
       "    <tr>\n",
       "      <th>3</th>\n",
       "      <td>30610192</td>\n",
       "      <td>2019.0</td>\n",
       "      <td>Modulation of Gpr39, a G-protein coupled rece...</td>\n",
       "      <td>NaN</td>\n",
       "    </tr>\n",
       "    <tr>\n",
       "      <th>4</th>\n",
       "      <td>30289386</td>\n",
       "      <td>2018.0</td>\n",
       "      <td>Simulation of spontaneous G protein activatio...</td>\n",
       "      <td>['g proteins', 'markov state models', 'alloste...</td>\n",
       "    </tr>\n",
       "  </tbody>\n",
       "</table>\n",
       "</div>"
      ],
      "text/plain": [
       "         Id    year                                               text  \\\n",
       "0  24877594  2014.0   What we know and do not know about the cannab...   \n",
       "1  16889837  2006.0   Allosteric agonists of 7TM receptors: expandi...   \n",
       "2  31068464  2019.0   MRGPRX4 is a G protein-coupled receptor activ...   \n",
       "3  30610192  2019.0   Modulation of Gpr39, a G-protein coupled rece...   \n",
       "4  30289386  2018.0   Simulation of spontaneous G protein activatio...   \n",
       "\n",
       "                                            keywords  \n",
       "0  ['cannabinoid receptor 2', 'endocannabinoid', ...  \n",
       "1                                                NaN  \n",
       "2  ['mrgprx4', 'bile acids', 'cholestasis', 'itch...  \n",
       "3                                                NaN  \n",
       "4  ['g proteins', 'markov state models', 'alloste...  "
      ]
     },
     "execution_count": 53,
     "metadata": {},
     "output_type": "execute_result"
    }
   ],
   "source": [
    "df = pd.read_csv('clean_year_text_keywords.csv')\n",
    "df.head()"
   ]
  },
  {
   "cell_type": "code",
   "execution_count": 9,
   "metadata": {},
   "outputs": [
    {
     "name": "stdout",
     "output_type": "stream",
     "text": [
      "<class 'pandas.core.frame.DataFrame'>\n",
      "RangeIndex: 323870 entries, 0 to 323869\n",
      "Data columns (total 4 columns):\n",
      "Id          323870 non-null int64\n",
      "year        323603 non-null float64\n",
      "text        323870 non-null object\n",
      "keywords    37845 non-null object\n",
      "dtypes: float64(1), int64(1), object(2)\n",
      "memory usage: 9.9+ MB\n"
     ]
    }
   ],
   "source": [
    "df.info()"
   ]
  },
  {
   "cell_type": "markdown",
   "metadata": {},
   "source": [
    "# Build vocabulary"
   ]
  },
  {
   "cell_type": "markdown",
   "metadata": {},
   "source": [
    "## normalize text"
   ]
  },
  {
   "cell_type": "code",
   "execution_count": 54,
   "metadata": {},
   "outputs": [],
   "source": [
    "import spacy\n",
    "import nltk\n",
    "import re\n",
    "import unicodedata\n",
    "\n",
    "nlp = spacy.load('en_core_web_sm', parse=True, tag=True, entity=True)"
   ]
  },
  {
   "cell_type": "code",
   "execution_count": 55,
   "metadata": {},
   "outputs": [
    {
     "data": {
      "text/plain": [
       "'My system keep crash ! his crashed yesterday , ours crash daily'"
      ]
     },
     "execution_count": 55,
     "metadata": {},
     "output_type": "execute_result"
    }
   ],
   "source": [
    "def lemmatize_text(text): # normalize word variant forms to the same word\n",
    "    text = nlp(text)\n",
    "    text = ' '.join([word.lemma_ if word.lemma_ != '-PRON-' else word.text for word in text])\n",
    "    return text\n",
    "\n",
    "lemmatize_text(\"My system keeps crashing! his crashed yesterday, ours crashes daily\")"
   ]
  },
  {
   "cell_type": "code",
   "execution_count": 56,
   "metadata": {},
   "outputs": [],
   "source": [
    "df.text = df.text.apply(lambda x: x.lower())"
   ]
  },
  {
   "cell_type": "code",
   "execution_count": 57,
   "metadata": {},
   "outputs": [
    {
     "name": "stdout",
     "output_type": "stream",
     "text": [
      "CPU times: user 4h 10min 17s, sys: 13min 48s, total: 4h 24min 6s\n",
      "Wall time: 5h 37min 31s\n"
     ]
    }
   ],
   "source": [
    "%%time\n",
    "df.text = df.text.apply(lemmatize_text) # normalize word variants"
   ]
  },
  {
   "cell_type": "code",
   "execution_count": 58,
   "metadata": {},
   "outputs": [],
   "source": [
    "df.text = df.text.apply(lambda x: re.sub(r' +',' ',x)) # remove excessive space"
   ]
  },
  {
   "cell_type": "code",
   "execution_count": 59,
   "metadata": {},
   "outputs": [],
   "source": [
    "def remove_puncta(text):\n",
    "    pattern = r'[^a-z0-9\\s\\.]'\n",
    "    text = re.sub(pattern, '', text)\n",
    "    return text"
   ]
  },
  {
   "cell_type": "code",
   "execution_count": 60,
   "metadata": {},
   "outputs": [],
   "source": [
    "df.text = df.text.apply(remove_puncta) # remove puncta"
   ]
  },
  {
   "cell_type": "code",
   "execution_count": 61,
   "metadata": {},
   "outputs": [],
   "source": [
    "df.to_csv('norm_df.csv')"
   ]
  },
  {
   "cell_type": "markdown",
   "metadata": {},
   "source": [
    "## Tokenize to sentence to create corpus"
   ]
  },
  {
   "cell_type": "code",
   "execution_count": 90,
   "metadata": {},
   "outputs": [],
   "source": [
    "corpus = []\n",
    "for i in range(df.text.shape[0]):\n",
    "    corpus += df.text.iloc[i].strip().split('.')"
   ]
  },
  {
   "cell_type": "code",
   "execution_count": 91,
   "metadata": {},
   "outputs": [],
   "source": [
    "with open('corpus.txt','w') as f:\n",
    "    for i in range(len(corpus)):\n",
    "        f.write(corpus[i])\n",
    "        f.write('.')\n",
    "        f.write('\\n')"
   ]
  },
  {
   "cell_type": "markdown",
   "metadata": {},
   "source": [
    "## Phrase modeling"
   ]
  },
  {
   "cell_type": "code",
   "execution_count": 3,
   "metadata": {},
   "outputs": [],
   "source": [
    "from gensim.models.phrases import Phrases, Phraser\n",
    "from gensim.models.word2vec import LineSentence\n",
    "import itertools as it\n",
    "import os"
   ]
  },
  {
   "cell_type": "code",
   "execution_count": 4,
   "metadata": {},
   "outputs": [
    {
     "data": {
      "text/plain": [
       "'/Users/shunling/Desktop/CapstoneProjects/NaturalLanguageProcessingGPCR/corpus.txt'"
      ]
     },
     "execution_count": 4,
     "metadata": {},
     "output_type": "execute_result"
    }
   ],
   "source": [
    "currentdir = os.getcwd()\n",
    "def datadir(file):\n",
    "    return currentdir+'/'+file\n",
    "datadir('corpus.txt')"
   ]
  },
  {
   "cell_type": "markdown",
   "metadata": {},
   "source": [
    "### from unigram to bigram"
   ]
  },
  {
   "cell_type": "code",
   "execution_count": 92,
   "metadata": {},
   "outputs": [
    {
     "name": "stdout",
     "output_type": "stream",
     "text": [
      "allosteric agonist of 7tm receptor expand the pharmacological toolbox .\n",
      "\n",
      "abstract approximately 1 of the genome of high organism encode seven transmembrane 7tm g protein couple receptor which control an extensive range of physiological process and represent drug target for nearly half of all drug that be prescribe currently .\n",
      "\n",
      "['what', 'we', 'know', 'and', 'do', 'not', 'know', 'about', 'the', 'cannabinoid', 'receptor', '2', 'cb2', '.']\n"
     ]
    }
   ],
   "source": [
    "unigrams = LineSentence(datadir('corpus.txt'))\n",
    "for s in it.islice(unigrams, 10,12):\n",
    "    print(' '.join(s))\n",
    "    print('')\n",
    "for sentence in unigrams:\n",
    "    print(sentence)\n",
    "    break"
   ]
  },
  {
   "cell_type": "code",
   "execution_count": 93,
   "metadata": {},
   "outputs": [
    {
     "name": "stdout",
     "output_type": "stream",
     "text": [
      "CPU times: user 3min 40s, sys: 4.13 s, total: 3min 44s\n",
      "Wall time: 3min 48s\n"
     ]
    }
   ],
   "source": [
    "%%time\n",
    "bigram_phrases = Phrases(unigrams) # train model\n",
    "bigram_model = Phraser(bigram_phrases) # build model"
   ]
  },
  {
   "cell_type": "code",
   "execution_count": 94,
   "metadata": {},
   "outputs": [
    {
     "name": "stdout",
     "output_type": "stream",
     "text": [
      "allosteric agonist of 7tm receptor expand the pharmacological toolbox .\n",
      "\n",
      "abstract approximately 1 of the genome of high organism encode seven_transmembrane 7tm g_protein couple receptor which control an extensive range of physiological_process and represent drug target for nearly_half of all drug that be prescribe currently .\n",
      "\n"
     ]
    }
   ],
   "source": [
    "for s in it.islice(unigrams, 10,12):\n",
    "    print(' '.join(bigram_model[s]))\n",
    "    print('')"
   ]
  },
  {
   "cell_type": "code",
   "execution_count": 98,
   "metadata": {},
   "outputs": [
    {
     "name": "stdout",
     "output_type": "stream",
     "text": [
      "CPU times: user 3min 37s, sys: 1.71 s, total: 3min 39s\n",
      "Wall time: 3min 40s\n"
     ]
    }
   ],
   "source": [
    "%%time\n",
    "with open('bigrams.txt','w') as f:\n",
    "    for sent in unigrams:\n",
    "        bigram_sent = ' '.join(bigram_model[sent]) # apply model\n",
    "        f.write(bigram_sent)\n",
    "        f.write('\\n')"
   ]
  },
  {
   "cell_type": "markdown",
   "metadata": {},
   "source": [
    "### from bigram to trigram"
   ]
  },
  {
   "cell_type": "code",
   "execution_count": 102,
   "metadata": {},
   "outputs": [
    {
     "name": "stdout",
     "output_type": "stream",
     "text": [
      "CPU times: user 7min 38s, sys: 4.04 s, total: 7min 42s\n",
      "Wall time: 7min 46s\n"
     ]
    }
   ],
   "source": [
    "%%time\n",
    "bigrams = LineSentence(datadir('bigrams.txt'))\n",
    "trigram_phrases = Phrases(bigrams)\n",
    "trigram_model = Phraser(trigram_phrases)\n",
    "with open('trigrams.txt','w') as f:\n",
    "    for sent in bigrams:\n",
    "        tri_sent = ' '.join(trigram_model[sent])\n",
    "        f.write(tri_sent)\n",
    "        f.write('\\n')"
   ]
  },
  {
   "cell_type": "markdown",
   "metadata": {},
   "source": [
    "### from trigram to fourgram"
   ]
  },
  {
   "cell_type": "code",
   "execution_count": 106,
   "metadata": {},
   "outputs": [
    {
     "name": "stdout",
     "output_type": "stream",
     "text": [
      "CPU times: user 8min 1s, sys: 4.67 s, total: 8min 5s\n",
      "Wall time: 8min 10s\n"
     ]
    }
   ],
   "source": [
    "%%time\n",
    "trigrams = LineSentence(datadir('trigrams.txt'))\n",
    "fourgram_phrases = Phrases(trigrams)\n",
    "fourgram_model = Phraser(fourgram_phrases)\n",
    "with open('fourgrams.txt','w') as f:\n",
    "    for sent in trigrams:\n",
    "        four_sent = ' '.join(fourgram_model[sent])\n",
    "        f.write(four_sent)\n",
    "        f.write('\\n')"
   ]
  },
  {
   "cell_type": "markdown",
   "metadata": {},
   "source": [
    "# Topic modeling with LDA with BOW"
   ]
  },
  {
   "cell_type": "code",
   "execution_count": 111,
   "metadata": {},
   "outputs": [],
   "source": [
    "from gensim.corpora import Dictionary, MmCorpus\n",
    "from gensim.models.ldamulticore import LdaMulticore\n",
    "\n",
    "import pyLDAvis\n",
    "import pyLDAvis.gensim\n",
    "import warnings\n",
    "import pickle \n",
    "warnings.simplefilter(\"ignore\")"
   ]
  },
  {
   "cell_type": "code",
   "execution_count": 110,
   "metadata": {},
   "outputs": [
    {
     "name": "stdout",
     "output_type": "stream",
     "text": [
      "CPU times: user 2min 36s, sys: 3.2 s, total: 2min 39s\n",
      "Wall time: 2min 52s\n"
     ]
    }
   ],
   "source": [
    "%%time\n",
    "text = LineSentence(datadir('fourgrams.txt'))\n",
    "dictionary = Dictionary(text)# bag of word, Id2word"
   ]
  },
  {
   "cell_type": "code",
   "execution_count": 113,
   "metadata": {},
   "outputs": [],
   "source": [
    "dictionary.filter_extremes(no_above=0.4) \n",
    "dictionary.compactify()\n",
    "dictionary.save(datadir('fourgram_dict_all.dict'))"
   ]
  },
  {
   "cell_type": "code",
   "execution_count": 114,
   "metadata": {},
   "outputs": [],
   "source": [
    "def bow_generator(file):\n",
    "    for text in LineSentence(file):\n",
    "        yield dictionary.doc2bow(text)"
   ]
  },
  {
   "cell_type": "code",
   "execution_count": 117,
   "metadata": {},
   "outputs": [],
   "source": [
    "MmCorpus.serialize(datadir('bow_corpus_all.mm'),bow_generator(datadir('fourgrams.txt')))"
   ]
  },
  {
   "cell_type": "code",
   "execution_count": 118,
   "metadata": {},
   "outputs": [],
   "source": [
    "bow_corpus = MmCorpus(datadir('bow_corpus_all.mm')) # word count vectorizer"
   ]
  },
  {
   "cell_type": "code",
   "execution_count": 119,
   "metadata": {},
   "outputs": [
    {
     "name": "stdout",
     "output_type": "stream",
     "text": [
      "CPU times: user 29min 6s, sys: 13min 32s, total: 42min 39s\n",
      "Wall time: 36min 34s\n"
     ]
    }
   ],
   "source": [
    "%%time\n",
    "lda = LdaMulticore(bow_corpus,\n",
    "                  num_topics = 50,\n",
    "                  id2word = dictionary,\n",
    "                  workers = 3)\n",
    "lda.save(datadir('lda50'))"
   ]
  },
  {
   "cell_type": "code",
   "execution_count": 131,
   "metadata": {},
   "outputs": [],
   "source": [
    "def explore_topic(topic_n, topn=25):\n",
    "    print('{:30} {}'.format('term','frequency') + '\\n')\n",
    "    \n",
    "    for term, frequency in lda.show_topic(topic_n, topn=25):\n",
    "        print('{:30} {:.3f}'.format(term, round(frequency, 3)))"
   ]
  },
  {
   "cell_type": "code",
   "execution_count": 158,
   "metadata": {},
   "outputs": [
    {
     "name": "stdout",
     "output_type": "stream",
     "text": [
      "term                           frequency\n",
      "\n",
      "e.                             0.053\n",
      "regulate                       0.050\n",
      "mean                           0.041\n",
      "neuronal                       0.040\n",
      "cell                           0.040\n",
      "endothelin                     0.038\n",
      "ca2i                           0.037\n",
      "growth                         0.037\n",
      "cellular                       0.035\n",
      "factor                         0.034\n",
      "directly                       0.027\n",
      "andor                          0.024\n",
      "by                             0.024\n",
      "angiotensin                    0.019\n",
      "differentiation                0.016\n",
      "generation                     0.016\n",
      "26                             0.015\n",
      "ca                             0.015\n",
      "second_messenger               0.011\n",
      "be                             0.010\n",
      "function                       0.009\n",
      "uterus                         0.009\n",
      "fibroblast                     0.009\n",
      "output                         0.009\n",
      "that                           0.008\n"
     ]
    }
   ],
   "source": [
    "explore_topic(29)"
   ]
  },
  {
   "cell_type": "code",
   "execution_count": 159,
   "metadata": {},
   "outputs": [],
   "source": [
    "topics = {18:'neuroscience',19:'antidepressant',1:'beta receptor',7:'opioid',12:'pharmacology'}"
   ]
  },
  {
   "cell_type": "code",
   "execution_count": 160,
   "metadata": {},
   "outputs": [
    {
     "name": "stdout",
     "output_type": "stream",
     "text": [
      "CPU times: user 13min 47s, sys: 3min 10s, total: 16min 58s\n",
      "Wall time: 17min 52s\n"
     ]
    }
   ],
   "source": [
    "%%time\n",
    "lda = LdaMulticore(bow_corpus,\n",
    "                  num_topics = 10,\n",
    "                  id2word = dictionary,\n",
    "                  workers = 3)\n",
    "lda.save(datadir('lda10'))"
   ]
  },
  {
   "cell_type": "code",
   "execution_count": 173,
   "metadata": {},
   "outputs": [
    {
     "name": "stdout",
     "output_type": "stream",
     "text": [
      "term                           frequency\n",
      "\n",
      "0.                             0.082\n",
      "1                              0.062\n",
      "2                              0.050\n",
      "3                              0.041\n",
      "5                              0.037\n",
      "4                              0.032\n",
      "6                              0.020\n",
      "nm                             0.020\n",
      "day                            0.019\n",
      "respectively                   0.016\n",
      "7                              0.016\n",
      "2.                             0.016\n",
      "8                              0.014\n",
      "for                            0.013\n",
      "at                             0.012\n",
      "p_0.                           0.010\n",
      "be                             0.010\n",
      "0                              0.010\n",
      "01                             0.009\n",
      "3.                             0.009\n",
      "cell                           0.008\n",
      "n                              0.008\n",
      "10                             0.008\n",
      "bmax                           0.007\n",
      "microm                         0.007\n"
     ]
    }
   ],
   "source": [
    "explore_topic(9)"
   ]
  },
  {
   "cell_type": "markdown",
   "metadata": {},
   "source": [
    "## Neural Network Vectorization (Word2Vec)"
   ]
  },
  {
   "cell_type": "code",
   "execution_count": 2,
   "metadata": {},
   "outputs": [],
   "source": [
    "import gensim\n",
    "from gensim.models import Word2Vec\n",
    "from gensim.models.callbacks import CallbackAny2Vec\n",
    "import warnings \n",
    "\n",
    "warnings.filterwarnings(action = 'ignore') "
   ]
  },
  {
   "cell_type": "code",
   "execution_count": 5,
   "metadata": {},
   "outputs": [
    {
     "name": "stdout",
     "output_type": "stream",
     "text": [
      "['what', 'we', 'know', 'and', 'do_not', 'know_about', 'the', 'cannabinoid', 'receptor', '2', 'cb2']\n",
      "['abstract', 'it', 'have', 'be', 'well_appreciate', 'that', 'the', 'endocannabinoid_system', 'can', 'regulate', 'immune_response', 'via', 'the', 'cannabinoid', 'receptor', '2', 'cb2', 'which', 'be', 'primarily', 'express', 'by', 'cell', 'of', 'the', 'hematopoietic', 'system']\n",
      "['the', 'endocannabinoid_system', 'be', 'compose', 'of', 'receptor', 'ligand', 'and', 'enzyme', 'control', 'the', 'synthesis', 'and', 'degradation', 'of', 'endocannabinoid']\n",
      "['along', 'with', 'endocannabinoid', 'both', 'plant_derive', 'and', 'synthetic_cannabinoid', 'have', 'be', 'show', 'to', 'bind', 'to', 'and', 'signal', 'through', 'cb2', 'via', 'g_protein', 'lead', 'to', 'both', 'inhibitory', 'and', 'stimulatory', 'signal', 'depend_on', 'the', 'biological_process']\n",
      "['because', 'no', 'cannabinoid', 'ligand', 'have', 'be', 'identify', 'that', 'only', 'bind', 'to', 'cb2', 'the', 'generation', 'of', 'mouse_deficient', 'in', 'cb2', 'have', 'greatly_expand', 'our_knowledge', 'of', 'how', 'cb2', 'contribute', 'to', 'immune', 'cell', 'development', 'and', 'function', 'in', 'health', 'and', 'disease']\n"
     ]
    }
   ],
   "source": [
    "text = LineSentence(datadir('fourgrams.txt'))\n",
    "for s in it.islice(text, 0,5):\n",
    "    print(s[:-1])"
   ]
  },
  {
   "cell_type": "code",
   "execution_count": 6,
   "metadata": {},
   "outputs": [],
   "source": [
    "def sentenize(doc): #treat each abstract as sentence unit\n",
    "    new_doc = []\n",
    "    abstract = []\n",
    "    for sent in doc:\n",
    "        \n",
    "        if sent != ['.']:\n",
    "            if sent[0] == 'abstract':\n",
    "                abstract += sent[1:-1]\n",
    "            else:\n",
    "                abstract += sent[:-1]\n",
    "        else:\n",
    "            new_doc.append(abstract)\n",
    "            abstract = []\n",
    "\n",
    "    return new_doc"
   ]
  },
  {
   "cell_type": "code",
   "execution_count": 7,
   "metadata": {},
   "outputs": [
    {
     "name": "stdout",
     "output_type": "stream",
     "text": [
      "CPU times: user 23.3 s, sys: 5.03 s, total: 28.3 s\n",
      "Wall time: 32.9 s\n"
     ]
    }
   ],
   "source": [
    "%%time\n",
    "abstracts = sentenize(text)"
   ]
  },
  {
   "cell_type": "code",
   "execution_count": 8,
   "metadata": {},
   "outputs": [
    {
     "name": "stdout",
     "output_type": "stream",
     "text": [
      "325620\n",
      "[['what', 'we', 'know', 'and', 'do_not', 'know_about', 'the', 'cannabinoid', 'receptor', '2', 'cb2', 'it', 'have', 'be', 'well_appreciate', 'that', 'the', 'endocannabinoid_system', 'can', 'regulate', 'immune_response', 'via', 'the', 'cannabinoid', 'receptor', '2', 'cb2', 'which', 'be', 'primarily', 'express', 'by', 'cell', 'of', 'the', 'hematopoietic', 'system', 'the', 'endocannabinoid_system', 'be', 'compose', 'of', 'receptor', 'ligand', 'and', 'enzyme', 'control', 'the', 'synthesis', 'and', 'degradation', 'of', 'endocannabinoid', 'along', 'with', 'endocannabinoid', 'both', 'plant_derive', 'and', 'synthetic_cannabinoid', 'have', 'be', 'show', 'to', 'bind', 'to', 'and', 'signal', 'through', 'cb2', 'via', 'g_protein', 'lead', 'to', 'both', 'inhibitory', 'and', 'stimulatory', 'signal', 'depend_on', 'the', 'biological_process', 'because', 'no', 'cannabinoid', 'ligand', 'have', 'be', 'identify', 'that', 'only', 'bind', 'to', 'cb2', 'the', 'generation', 'of', 'mouse_deficient', 'in', 'cb2', 'have', 'greatly_expand', 'our_knowledge', 'of', 'how', 'cb2', 'contribute', 'to', 'immune', 'cell', 'development', 'and', 'function', 'in', 'health', 'and', 'disease', 'in', 'regard', 'to', 'human', 'genetic', 'study', 'have', 'associate', 'cb2', 'with', 'a', 'variety', 'of', 'human', 'disease', 'here_we_review', 'the', 'endocannabinoid_system', 'with_an_emphasis_on', 'cb2', 'and', 'its', 'role', 'in', 'the', 'immune_system', 'copyright_2014', 'publish_by_elsevi_ltd']]\n"
     ]
    }
   ],
   "source": [
    "print(len(abstracts))\n",
    "print(abstracts[0:1])"
   ]
  },
  {
   "cell_type": "code",
   "execution_count": 9,
   "metadata": {},
   "outputs": [],
   "source": [
    "class callback(CallbackAny2Vec):\n",
    "    def __init__(self):\n",
    "        self.epoch = 0\n",
    "        self.loss_s = 0\n",
    "        \n",
    "    def on_epoch_end(self,model):\n",
    "            \n",
    "        if self.epoch % 5 == 0:\n",
    "            loss_e = int(model.get_latest_training_loss())\n",
    "            loss = loss_e - self.loss_s\n",
    "            self.loss_s = loss_e\n",
    "            print('Loss after epoch {}: {}'.format(self.epoch, loss))\n",
    "        self.epoch += 1     "
   ]
  },
  {
   "cell_type": "code",
   "execution_count": 10,
   "metadata": {},
   "outputs": [
    {
     "name": "stdout",
     "output_type": "stream",
     "text": [
      "Loss after epoch 0: 130424536\n",
      "Loss after epoch 5: 3793192\n",
      "Loss after epoch 10: 0\n",
      "Loss after epoch 15: 0\n",
      "CPU times: user 1d 9h 53min 53s, sys: 9min 42s, total: 1d 10h 3min 35s\n",
      "Wall time: 11h 51min 39s\n"
     ]
    }
   ],
   "source": [
    "%%time\n",
    "feature_size = 300 # word vector dimensionality\n",
    "window_context = 50 # context window size\n",
    "min_word_count = 5 # minimum word count\n",
    "sample = 1e-3 # Downsample setting for frequent words\n",
    "model1 = Word2Vec(abstracts, #fourgrams abstract list tokenized in words\n",
    "                 size = feature_size,\n",
    "                 window = window_context,\n",
    "                 min_count = min_word_count,\n",
    "                 sample = sample,\n",
    "                 sg=1,\n",
    "                 compute_loss = True,\n",
    "                 iter = 20,\n",
    "                 workers = 3,\n",
    "                 callbacks=[callback()]\n",
    "                 )"
   ]
  },
  {
   "cell_type": "code",
   "execution_count": 15,
   "metadata": {},
   "outputs": [],
   "source": [
    "model1.save('m300_50_5_3.model')"
   ]
  },
  {
   "cell_type": "code",
   "execution_count": 38,
   "metadata": {},
   "outputs": [
    {
     "data": {
      "text/plain": [
       "{'dopamine': ['dopaminergic',\n",
       "  'd2',\n",
       "  'da',\n",
       "  'd1',\n",
       "  'apomorphine',\n",
       "  'dopamine_da',\n",
       "  'sulpiride',\n",
       "  'd2_dopamine',\n",
       "  'haloperidol',\n",
       "  'dopamine_d2'],\n",
       " 'mu': ['opioid',\n",
       "  'delta',\n",
       "  'kappa',\n",
       "  'mu_opioid',\n",
       "  'delta_opioid',\n",
       "  'mu_delta',\n",
       "  'kappa_opioid',\n",
       "  'kappa_agonist',\n",
       "  'dago',\n",
       "  'morphine'],\n",
       " 'a2a': ['adenosine_a2a',\n",
       "  'a2a_adenosine',\n",
       "  'a2b',\n",
       "  'a1',\n",
       "  'cgs_21680',\n",
       "  'agonist_cgs21680',\n",
       "  'a3',\n",
       "  'cgs21680',\n",
       "  'agonist_cgs_21680',\n",
       "  'antagonist_zm241385'],\n",
       " 'gpr68': ['proton_sense',\n",
       "  'proton_sense_gpcr',\n",
       "  'ogr1',\n",
       "  'proton_sense_g_protein_couple',\n",
       "  'acidic_microenvironment',\n",
       "  'bex1',\n",
       "  'isx',\n",
       "  'ph_sense_g_protein_couple',\n",
       "  'proton_sense_gpcrs',\n",
       "  'tdag8'],\n",
       " 'glp1': ['glucagon_like_peptide1_glp1',\n",
       "  'glp1r',\n",
       "  'glucagon_like_peptide_1',\n",
       "  'glucagon_like_peptide1',\n",
       "  'exendin4',\n",
       "  'incretin',\n",
       "  'native_glp1',\n",
       "  'incretin_hormone',\n",
       "  'glp1_analogue',\n",
       "  'glp1_analog']}"
      ]
     },
     "execution_count": 38,
     "metadata": {},
     "output_type": "execute_result"
    }
   ],
   "source": [
    "# view similar words based on gensim's model\n",
    "def search_similar_words(search_terms,topn=10):\n",
    "    similar_words = {search_term: [item[0] for item in model1.wv.most_similar([search_term], topn=topn)]\n",
    "                  for search_term in search_terms}\n",
    "    return similar_words\n",
    "similar_words = search_similar_words(['dopamine','mu','a2a','gpr68','glp1'])\n",
    "similar_words"
   ]
  },
  {
   "cell_type": "code",
   "execution_count": 39,
   "metadata": {},
   "outputs": [
    {
     "data": {
      "image/png": "[encoded data removed]",
      "text/plain": [
       "<Figure size 1008x576 with 1 Axes>"
      ]
     },
     "metadata": {
      "needs_background": "light"
     },
     "output_type": "display_data"
    }
   ],
   "source": [
    "# visualizing similarity\n",
    "from sklearn.manifold import TSNE\n",
    "import matplotlib.pyplot as plt\n",
    "\n",
    "words = sum([[k] + v for k, v in similar_words.items()], [])\n",
    "wvs = model1.wv[words]\n",
    "\n",
    "tsne = TSNE(n_components=2, random_state=0, n_iter=10000, perplexity=2)\n",
    "np.set_printoptions(suppress=True)\n",
    "T = tsne.fit_transform(wvs)\n",
    "labels = words\n",
    "\n",
    "plt.figure(figsize=(14, 8))\n",
    "plt.scatter(T[:, 0], T[:, 1], c='orange', edgecolors='r')\n",
    "for label, x, y in zip(labels, T[:, 0], T[:, 1]):\n",
    "    plt.annotate(label, xy=(x+1, y+1), xytext=(0, 0), textcoords='offset points')"
   ]
  },
  {
   "cell_type": "code",
   "execution_count": 50,
   "metadata": {},
   "outputs": [],
   "source": [
    "def year_trends(interest,df):\n",
    "    year = []\n",
    "    for i in range(df.shape[0]):\n",
    "        if interest in df.text.iloc[i]:\n",
    "            year.append(df.year.iloc[i])\n",
    "    return year"
   ]
  },
  {
   "cell_type": "code",
   "execution_count": 45,
   "metadata": {},
   "outputs": [
    {
     "data": {
      "text/plain": [
       "{'functional_selectivity': ['biased_agonism',\n",
       "  'biased_signal',\n",
       "  'biased_signaling',\n",
       "  'biased_ligand',\n",
       "  'arrestin_recruitment',\n",
       "  'biased_agonist',\n",
       "  'intrinsic_efficacy',\n",
       "  'g_protein_bias',\n",
       "  'biased',\n",
       "  'arrestin2_recruitment',\n",
       "  'gpcr',\n",
       "  'recruit_arrestin',\n",
       "  'ligand_biased_signaling',\n",
       "  'bret_biosensor',\n",
       "  'partial_agonism',\n",
       "  'relative_efficacy',\n",
       "  'gpcrs',\n",
       "  'arrestin_dependent',\n",
       "  'over_arrestin2_recruitment',\n",
       "  'active_conformation']}"
      ]
     },
     "execution_count": 45,
     "metadata": {},
     "output_type": "execute_result"
    }
   ],
   "source": [
    "interest1 = search_similar_words(['functional_selectivity'],20)\n",
    "interest1"
   ]
  },
  {
   "cell_type": "code",
   "execution_count": 80,
   "metadata": {},
   "outputs": [],
   "source": [
    "from collections import Counter\n",
    "import operator"
   ]
  },
  {
   "cell_type": "code",
   "execution_count": 71,
   "metadata": {},
   "outputs": [],
   "source": [
    "def plot_year_trend(interest,df):\n",
    "    years = year_trends(interest,df)\n",
    "    c = Counter(years)\n",
    "    sorted_c = sorted(c.items(), key=operator.itemgetter(0))\n",
    "    x = [i[0] for i in sorted_c] # keyword list\n",
    "    y = [i[1] for i in sorted_c] # keyword counts\n",
    "    plt.plot(x,y)\n",
    "    plt.xlim(min(x),2018)\n",
    "    plt.show()"
   ]
  },
  {
   "cell_type": "code",
   "execution_count": 72,
   "metadata": {},
   "outputs": [
    {
     "data": {
      "image/png": "[encoded data removed]",
      "text/plain": [
       "<Figure size 432x288 with 1 Axes>"
      ]
     },
     "metadata": {
      "needs_background": "light"
     },
     "output_type": "display_data"
    },
    {
     "name": "stdout",
     "output_type": "stream",
     "text": [
      "CPU times: user 6.56 s, sys: 135 ms, total: 6.7 s\n",
      "Wall time: 7.01 s\n"
     ]
    }
   ],
   "source": [
    "%%time\n",
    "plot_year_trend('biased signal',df)"
   ]
  },
  {
   "cell_type": "code",
   "execution_count": 82,
   "metadata": {},
   "outputs": [
    {
     "data": {
      "image/png": "[encoded data removed]",
      "text/plain": [
       "<Figure size 432x288 with 1 Axes>"
      ]
     },
     "metadata": {
      "needs_background": "light"
     },
     "output_type": "display_data"
    }
   ],
   "source": [
    "plot_year_trend('functional selectivity',df)"
   ]
  },
  {
   "cell_type": "code",
   "execution_count": 73,
   "metadata": {},
   "outputs": [
    {
     "data": {
      "image/png": "[encoded data removed]",
      "text/plain": [
       "<Figure size 432x288 with 1 Axes>"
      ]
     },
     "metadata": {
      "needs_background": "light"
     },
     "output_type": "display_data"
    }
   ],
   "source": [
    "plot_year_trend('dopamine',df)"
   ]
  },
  {
   "cell_type": "code",
   "execution_count": 75,
   "metadata": {},
   "outputs": [
    {
     "data": {
      "image/png": "[encoded data removed]",
      "text/plain": [
       "<Figure size 432x288 with 1 Axes>"
      ]
     },
     "metadata": {
      "needs_background": "light"
     },
     "output_type": "display_data"
    }
   ],
   "source": [
    "plot_year_trend('d2',df)"
   ]
  },
  {
   "cell_type": "code",
   "execution_count": 74,
   "metadata": {},
   "outputs": [
    {
     "data": {
      "image/png": "[encoded data removed]",
      "text/plain": [
       "<Figure size 432x288 with 1 Axes>"
      ]
     },
     "metadata": {
      "needs_background": "light"
     },
     "output_type": "display_data"
    }
   ],
   "source": [
    "plot_year_trend('glp1',df)"
   ]
  },
  {
   "cell_type": "code",
   "execution_count": 76,
   "metadata": {},
   "outputs": [
    {
     "data": {
      "image/png": "[encoded data removed]",
      "text/plain": [
       "<Figure size 432x288 with 1 Axes>"
      ]
     },
     "metadata": {
      "needs_background": "light"
     },
     "output_type": "display_data"
    }
   ],
   "source": [
    "plot_year_trend('obesity',df)"
   ]
  },
  {
   "cell_type": "code",
   "execution_count": 78,
   "metadata": {},
   "outputs": [
    {
     "data": {
      "image/png": "[encoded data removed]",
      "text/plain": [
       "<Figure size 432x288 with 1 Axes>"
      ]
     },
     "metadata": {
      "needs_background": "light"
     },
     "output_type": "display_data"
    }
   ],
   "source": [
    "plot_year_trend('gpr68',df)"
   ]
  },
  {
   "cell_type": "code",
   "execution_count": 79,
   "metadata": {},
   "outputs": [
    {
     "data": {
      "image/png": "[encoded data removed]",
      "text/plain": [
       "<Figure size 432x288 with 1 Axes>"
      ]
     },
     "metadata": {
      "needs_background": "light"
     },
     "output_type": "display_data"
    }
   ],
   "source": [
    "plot_year_trend('immune',df)"
   ]
  },
  {
   "cell_type": "code",
   "execution_count": 83,
   "metadata": {},
   "outputs": [
    {
     "data": {
      "text/plain": [
       "\"['cannabinoid receptor 2', 'endocannabinoid', 'immune regulatory', 'knockout', 'polymorphism']\""
      ]
     },
     "execution_count": 83,
     "metadata": {},
     "output_type": "execute_result"
    }
   ],
   "source": [
    "df.keywords.iloc[0]"
   ]
  },
  {
   "cell_type": "code",
   "execution_count": 84,
   "metadata": {},
   "outputs": [
    {
     "data": {
      "text/plain": [
       "{'polymorphism': ['allele',\n",
       "  'gene_polymorphism',\n",
       "  'association_between',\n",
       "  'genotype',\n",
       "  'allele_frequency',\n",
       "  'genetic_polymorphism',\n",
       "  'genetic_variation',\n",
       "  'genotype_frequency',\n",
       "  'caucasian',\n",
       "  'haplotype',\n",
       "  'genetic_variant',\n",
       "  'restriction_fragment_length_polymorphism',\n",
       "  'single_nucleotide_polymorphism',\n",
       "  'allelic_frequency',\n",
       "  'genotyping',\n",
       "  'linkage_disequilibrium',\n",
       "  'genotype_distribution',\n",
       "  'common_polymorphism',\n",
       "  'candidate_gene',\n",
       "  'single_nucleotide_polymorphism_snps']}"
      ]
     },
     "execution_count": 84,
     "metadata": {},
     "output_type": "execute_result"
    }
   ],
   "source": [
    "search_similar_words(['polymorphism'],20)"
   ]
  },
  {
   "cell_type": "code",
   "execution_count": null,
   "metadata": {},
   "outputs": [],
   "source": []
  },
  {
   "cell_type": "code",
   "execution_count": null,
   "metadata": {},
   "outputs": [],
   "source": []
  },
  {
   "cell_type": "code",
   "execution_count": null,
   "metadata": {},
   "outputs": [],
   "source": []
  },
  {
   "cell_type": "code",
   "execution_count": null,
   "metadata": {},
   "outputs": [],
   "source": []
  },
  {
   "cell_type": "code",
   "execution_count": null,
   "metadata": {},
   "outputs": [],
   "source": []
  },
  {
   "cell_type": "code",
   "execution_count": null,
   "metadata": {},
   "outputs": [],
   "source": []
  }
 ],
 "metadata": {
  "kernelspec": {
   "display_name": "Python 3",
   "language": "python",
   "name": "python3"
  },
  "language_info": {
   "codemirror_mode": {
    "name": "ipython",
    "version": 3
   },
   "file_extension": ".py",
   "mimetype": "text/x-python",
   "name": "python",
   "nbconvert_exporter": "python",
   "pygments_lexer": "ipython3",
   "version": "3.7.3"
  }
 },
 "nbformat": 4,
 "nbformat_minor": 2
}
