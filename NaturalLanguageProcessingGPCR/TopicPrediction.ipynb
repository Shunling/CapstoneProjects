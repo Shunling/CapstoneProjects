{
 "cells": [
  {
   "cell_type": "markdown",
   "metadata": {},
   "source": [
    "# Capstone Project 2: GPCR research trend\n",
    "## Natural Language Processing of a domain specific literature\n",
    "***\n",
    "### Topic modeling: Convert word_class relationship from clustering to dictionary"
   ]
  },
  {
   "cell_type": "code",
   "execution_count": 1,
   "metadata": {},
   "outputs": [],
   "source": [
    "import pandas as pd\n",
    "import numpy as np\n",
    "from tqdm import tqdm\n",
    "from collections import Counter"
   ]
  },
  {
   "cell_type": "code",
   "execution_count": 18,
   "metadata": {},
   "outputs": [],
   "source": [
    "# clustering of words used 35 clusters\n",
    "word_class = pd.read_csv('word_class35.csv',header=None).dropna()"
   ]
  },
  {
   "cell_type": "code",
   "execution_count": 11,
   "metadata": {},
   "outputs": [
    {
     "name": "stdout",
     "output_type": "stream",
     "text": [
      "<class 'pandas.core.frame.DataFrame'>\n",
      "Int64Index: 247500 entries, 0 to 247501\n",
      "Data columns (total 2 columns):\n",
      "0    247500 non-null object\n",
      "1    247500 non-null int64\n",
      "dtypes: int64(1), object(1)\n",
      "memory usage: 5.7+ MB\n"
     ]
    }
   ],
   "source": [
    "word_class.info()"
   ]
  },
  {
   "cell_type": "code",
   "execution_count": 19,
   "metadata": {},
   "outputs": [
    {
     "data": {
      "text/plain": [
       "0      what\n",
       "1        we\n",
       "2      know\n",
       "3       and\n",
       "4    do not\n",
       "Name: 0, dtype: object"
      ]
     },
     "execution_count": 19,
     "metadata": {},
     "output_type": "execute_result"
    }
   ],
   "source": [
    "# change fourgram pattern to single gram \n",
    "word = word_class[0].apply(lambda x: ' '.join(x.split('_')))\n",
    "word.head()"
   ]
  },
  {
   "cell_type": "code",
   "execution_count": 21,
   "metadata": {},
   "outputs": [],
   "source": [
    "word_class.columns = ['word','class']\n",
    "word_class['word'] = word"
   ]
  },
  {
   "cell_type": "code",
   "execution_count": 29,
   "metadata": {},
   "outputs": [
    {
     "data": {
      "text/html": [
       "<div>\n",
       "<style scoped>\n",
       "    .dataframe tbody tr th:only-of-type {\n",
       "        vertical-align: middle;\n",
       "    }\n",
       "\n",
       "    .dataframe tbody tr th {\n",
       "        vertical-align: top;\n",
       "    }\n",
       "\n",
       "    .dataframe thead th {\n",
       "        text-align: right;\n",
       "    }\n",
       "</style>\n",
       "<table border=\"1\" class=\"dataframe\">\n",
       "  <thead>\n",
       "    <tr style=\"text-align: right;\">\n",
       "      <th></th>\n",
       "      <th>word</th>\n",
       "      <th>class</th>\n",
       "    </tr>\n",
       "  </thead>\n",
       "  <tbody>\n",
       "    <tr>\n",
       "      <td>0</td>\n",
       "      <td>what</td>\n",
       "      <td>4</td>\n",
       "    </tr>\n",
       "    <tr>\n",
       "      <td>1</td>\n",
       "      <td>we</td>\n",
       "      <td>32</td>\n",
       "    </tr>\n",
       "    <tr>\n",
       "      <td>2</td>\n",
       "      <td>know</td>\n",
       "      <td>32</td>\n",
       "    </tr>\n",
       "    <tr>\n",
       "      <td>3</td>\n",
       "      <td>and</td>\n",
       "      <td>32</td>\n",
       "    </tr>\n",
       "    <tr>\n",
       "      <td>4</td>\n",
       "      <td>do not</td>\n",
       "      <td>32</td>\n",
       "    </tr>\n",
       "  </tbody>\n",
       "</table>\n",
       "</div>"
      ],
      "text/plain": [
       "     word  class\n",
       "0    what      4\n",
       "1      we     32\n",
       "2    know     32\n",
       "3     and     32\n",
       "4  do not     32"
      ]
     },
     "execution_count": 29,
     "metadata": {},
     "output_type": "execute_result"
    }
   ],
   "source": [
    "word_class.head()"
   ]
  },
  {
   "cell_type": "code",
   "execution_count": 25,
   "metadata": {},
   "outputs": [],
   "source": [
    "word_class.to_csv('word_class.csv')"
   ]
  },
  {
   "cell_type": "code",
   "execution_count": 34,
   "metadata": {},
   "outputs": [
    {
     "name": "stderr",
     "output_type": "stream",
     "text": [
      "100%|██████████| 247500/247500 [01:26<00:00, 2877.36it/s]\n"
     ]
    }
   ],
   "source": [
    "# change dataframe to dictionary with words as keys and topic class as values\n",
    "word_topic = {}\n",
    "for i in tqdm(range(word_class.shape[0])):\n",
    "    word_topic[word_class.iloc[i]['word']] = word_class.iloc[i]['class']"
   ]
  },
  {
   "cell_type": "code",
   "execution_count": 36,
   "metadata": {},
   "outputs": [
    {
     "data": {
      "text/plain": [
       "(32, 4)"
      ]
     },
     "execution_count": 36,
     "metadata": {},
     "output_type": "execute_result"
    }
   ],
   "source": [
    "# check conversion\n",
    "word_topic['we'],word_topic['what']"
   ]
  },
  {
   "cell_type": "markdown",
   "metadata": {},
   "source": [
    "### Load preprocessed dataframe"
   ]
  },
  {
   "cell_type": "code",
   "execution_count": 45,
   "metadata": {},
   "outputs": [],
   "source": [
    "# table with id,year,text,keyword columns\n",
    "df = pd.read_csv('./Processed_data/year_text_keywords_affiliation.csv').drop('Unnamed: 0',axis=1)"
   ]
  },
  {
   "cell_type": "code",
   "execution_count": 46,
   "metadata": {},
   "outputs": [
    {
     "data": {
      "text/html": [
       "<div>\n",
       "<style scoped>\n",
       "    .dataframe tbody tr th:only-of-type {\n",
       "        vertical-align: middle;\n",
       "    }\n",
       "\n",
       "    .dataframe tbody tr th {\n",
       "        vertical-align: top;\n",
       "    }\n",
       "\n",
       "    .dataframe thead th {\n",
       "        text-align: right;\n",
       "    }\n",
       "</style>\n",
       "<table border=\"1\" class=\"dataframe\">\n",
       "  <thead>\n",
       "    <tr style=\"text-align: right;\">\n",
       "      <th></th>\n",
       "      <th>Id</th>\n",
       "      <th>year</th>\n",
       "      <th>text</th>\n",
       "      <th>keywords</th>\n",
       "      <th>affiliation</th>\n",
       "    </tr>\n",
       "  </thead>\n",
       "  <tbody>\n",
       "    <tr>\n",
       "      <td>0</td>\n",
       "      <td>24877594</td>\n",
       "      <td>2014.0</td>\n",
       "      <td>what we know and do not know about the canna...</td>\n",
       "      <td>cannabinoid receptor 2 ; endocannabinoid ; i...</td>\n",
       "      <td>[]</td>\n",
       "    </tr>\n",
       "    <tr>\n",
       "      <td>1</td>\n",
       "      <td>16889837</td>\n",
       "      <td>2006.0</td>\n",
       "      <td>allosteric agonist of 7tm receptor expand th...</td>\n",
       "      <td>NaN</td>\n",
       "      <td>glaxosmithkline</td>\n",
       "    </tr>\n",
       "    <tr>\n",
       "      <td>2</td>\n",
       "      <td>31068464</td>\n",
       "      <td>2019.0</td>\n",
       "      <td>mrgprx4 be a g protein - couple receptor act...</td>\n",
       "      <td>mrgprx4 ; bile acid ; cholestasis ; itch ; p...</td>\n",
       "      <td>[' the johns hopkins university']</td>\n",
       "    </tr>\n",
       "    <tr>\n",
       "      <td>3</td>\n",
       "      <td>30610192</td>\n",
       "      <td>2019.0</td>\n",
       "      <td>modulation of gpr39 a g - protein couple rec...</td>\n",
       "      <td>NaN</td>\n",
       "      <td>[' oregon national primate research center, or...</td>\n",
       "    </tr>\n",
       "    <tr>\n",
       "      <td>4</td>\n",
       "      <td>30289386</td>\n",
       "      <td>2018.0</td>\n",
       "      <td>simulation of spontaneous g protein activati...</td>\n",
       "      <td>g protein ; markov state model ; allostery ;...</td>\n",
       "      <td>[' washington university']</td>\n",
       "    </tr>\n",
       "  </tbody>\n",
       "</table>\n",
       "</div>"
      ],
      "text/plain": [
       "         Id    year                                               text  \\\n",
       "0  24877594  2014.0    what we know and do not know about the canna...   \n",
       "1  16889837  2006.0    allosteric agonist of 7tm receptor expand th...   \n",
       "2  31068464  2019.0    mrgprx4 be a g protein - couple receptor act...   \n",
       "3  30610192  2019.0    modulation of gpr39 a g - protein couple rec...   \n",
       "4  30289386  2018.0    simulation of spontaneous g protein activati...   \n",
       "\n",
       "                                            keywords  \\\n",
       "0    cannabinoid receptor 2 ; endocannabinoid ; i...   \n",
       "1                                                NaN   \n",
       "2    mrgprx4 ; bile acid ; cholestasis ; itch ; p...   \n",
       "3                                                NaN   \n",
       "4    g protein ; markov state model ; allostery ;...   \n",
       "\n",
       "                                         affiliation  \n",
       "0                                                 []  \n",
       "1                                    glaxosmithkline  \n",
       "2                  [' the johns hopkins university']  \n",
       "3  [' oregon national primate research center, or...  \n",
       "4                         [' washington university']  "
      ]
     },
     "execution_count": 46,
     "metadata": {},
     "output_type": "execute_result"
    }
   ],
   "source": [
    "df.head()"
   ]
  },
  {
   "cell_type": "code",
   "execution_count": 48,
   "metadata": {},
   "outputs": [
    {
     "data": {
      "text/html": [
       "<div>\n",
       "<style scoped>\n",
       "    .dataframe tbody tr th:only-of-type {\n",
       "        vertical-align: middle;\n",
       "    }\n",
       "\n",
       "    .dataframe tbody tr th {\n",
       "        vertical-align: top;\n",
       "    }\n",
       "\n",
       "    .dataframe thead th {\n",
       "        text-align: right;\n",
       "    }\n",
       "</style>\n",
       "<table border=\"1\" class=\"dataframe\">\n",
       "  <thead>\n",
       "    <tr style=\"text-align: right;\">\n",
       "      <th></th>\n",
       "      <th>Id</th>\n",
       "      <th>fourgram</th>\n",
       "    </tr>\n",
       "  </thead>\n",
       "  <tbody>\n",
       "    <tr>\n",
       "      <td>0</td>\n",
       "      <td>24877594</td>\n",
       "      <td>what we know and do_not know_about the cannabi...</td>\n",
       "    </tr>\n",
       "    <tr>\n",
       "      <td>1</td>\n",
       "      <td>16889837</td>\n",
       "      <td>allosteric agonist of 7tm receptor expand the ...</td>\n",
       "    </tr>\n",
       "    <tr>\n",
       "      <td>2</td>\n",
       "      <td>31068464</td>\n",
       "      <td>mrgprx4 be a g_protein_couple receptor activat...</td>\n",
       "    </tr>\n",
       "    <tr>\n",
       "      <td>3</td>\n",
       "      <td>30610192</td>\n",
       "      <td>modulation of gpr39 a g_protein_couple recepto...</td>\n",
       "    </tr>\n",
       "    <tr>\n",
       "      <td>4</td>\n",
       "      <td>30289386</td>\n",
       "      <td>simulation of spontaneous g_protein activation...</td>\n",
       "    </tr>\n",
       "  </tbody>\n",
       "</table>\n",
       "</div>"
      ],
      "text/plain": [
       "         Id                                           fourgram\n",
       "0  24877594  what we know and do_not know_about the cannabi...\n",
       "1  16889837  allosteric agonist of 7tm receptor expand the ...\n",
       "2  31068464  mrgprx4 be a g_protein_couple receptor activat...\n",
       "3  30610192  modulation of gpr39 a g_protein_couple recepto...\n",
       "4  30289386  simulation of spontaneous g_protein activation..."
      ]
     },
     "execution_count": 48,
     "metadata": {},
     "output_type": "execute_result"
    }
   ],
   "source": [
    "fourgrams = pd.read_csv('./Processed_data/Id_fourgram.csv',index_col=0)\n",
    "fourgrams.head()"
   ]
  },
  {
   "cell_type": "markdown",
   "metadata": {},
   "source": [
    "### Assign top10 topics to each record"
   ]
  },
  {
   "cell_type": "code",
   "execution_count": 70,
   "metadata": {},
   "outputs": [],
   "source": [
    "\n",
    "def predict_topic(text):\n",
    "    \"\"\"\n",
    "    return top10 topics in the text\n",
    "    use word_topic as global variable\n",
    "    \"\"\"\n",
    "    words = text.split()\n",
    "    topics = Counter()\n",
    "    for word in words:\n",
    "        if word in word_topic:\n",
    "            topics[word_topic[word]] += 1\n",
    "        \n",
    "    top10 = list(dict(topics.most_common(10)).keys())\n",
    "    return top10    "
   ]
  },
  {
   "cell_type": "code",
   "execution_count": 71,
   "metadata": {},
   "outputs": [
    {
     "name": "stdout",
     "output_type": "stream",
     "text": [
      "CPU times: user 34.3 s, sys: 217 ms, total: 34.6 s\n",
      "Wall time: 34.9 s\n"
     ]
    }
   ],
   "source": [
    "%%time\n",
    "topics = fourgrams['fourgram'].apply(predict_topic)\n"
   ]
  },
  {
   "cell_type": "code",
   "execution_count": 75,
   "metadata": {},
   "outputs": [
    {
     "data": {
      "text/plain": [
       "[32, 27, 29, 31, 4, 24, 10, 9, 17, 28]"
      ]
     },
     "execution_count": 75,
     "metadata": {},
     "output_type": "execute_result"
    }
   ],
   "source": [
    "keyword_topic = df"
   ]
  },
  {
   "cell_type": "code",
   "execution_count": null,
   "metadata": {},
   "outputs": [],
   "source": []
  }
 ],
 "metadata": {
  "kernelspec": {
   "display_name": "Python 3",
   "language": "python",
   "name": "python3"
  },
  "language_info": {
   "codemirror_mode": {
    "name": "ipython",
    "version": 3
   },
   "file_extension": ".py",
   "mimetype": "text/x-python",
   "name": "python",
   "nbconvert_exporter": "python",
   "pygments_lexer": "ipython3",
   "version": "3.7.4"
  }
 },
 "nbformat": 4,
 "nbformat_minor": 2
}
