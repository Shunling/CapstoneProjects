{
 "cells": [
  {
   "cell_type": "markdown",
   "metadata": {},
   "source": [
    "# Capstone Project 2: GPCR research trend\n",
    "## Natural Language Processing of a domain specific literature\n",
    "***\n",
    "### Topic modeling: Convert word_class relationship from clustering to dictionary"
   ]
  },
  {
   "cell_type": "code",
   "execution_count": 1,
   "metadata": {},
   "outputs": [],
   "source": [
    "import pandas as pd\n",
    "import numpy as np\n",
    "from tqdm import tqdm\n",
    "from collections import Counter"
   ]
  },
  {
   "cell_type": "code",
   "execution_count": 2,
   "metadata": {},
   "outputs": [
    {
     "data": {
      "text/html": [
       "<div>\n",
       "<style scoped>\n",
       "    .dataframe tbody tr th:only-of-type {\n",
       "        vertical-align: middle;\n",
       "    }\n",
       "\n",
       "    .dataframe tbody tr th {\n",
       "        vertical-align: top;\n",
       "    }\n",
       "\n",
       "    .dataframe thead th {\n",
       "        text-align: right;\n",
       "    }\n",
       "</style>\n",
       "<table border=\"1\" class=\"dataframe\">\n",
       "  <thead>\n",
       "    <tr style=\"text-align: right;\">\n",
       "      <th></th>\n",
       "      <th>word</th>\n",
       "      <th>topic</th>\n",
       "      <th>count</th>\n",
       "    </tr>\n",
       "  </thead>\n",
       "  <tbody>\n",
       "    <tr>\n",
       "      <td>0</td>\n",
       "      <td>what</td>\n",
       "      <td>22</td>\n",
       "      <td>2229</td>\n",
       "    </tr>\n",
       "    <tr>\n",
       "      <td>1</td>\n",
       "      <td>we</td>\n",
       "      <td>25</td>\n",
       "      <td>145112</td>\n",
       "    </tr>\n",
       "    <tr>\n",
       "      <td>2</td>\n",
       "      <td>know</td>\n",
       "      <td>25</td>\n",
       "      <td>23453</td>\n",
       "    </tr>\n",
       "    <tr>\n",
       "      <td>3</td>\n",
       "      <td>and</td>\n",
       "      <td>25</td>\n",
       "      <td>2264012</td>\n",
       "    </tr>\n",
       "    <tr>\n",
       "      <td>4</td>\n",
       "      <td>do_not</td>\n",
       "      <td>25</td>\n",
       "      <td>44377</td>\n",
       "    </tr>\n",
       "  </tbody>\n",
       "</table>\n",
       "</div>"
      ],
      "text/plain": [
       "     word  topic    count\n",
       "0    what     22     2229\n",
       "1      we     25   145112\n",
       "2    know     25    23453\n",
       "3     and     25  2264012\n",
       "4  do_not     25    44377"
      ]
     },
     "execution_count": 2,
     "metadata": {},
     "output_type": "execute_result"
    }
   ],
   "source": [
    "# clustering of words used 35 clusters\n",
    "word_class = pd.read_csv('./topic_modeling/model_saved/word_topic35_counts_2.csv').drop('Unnamed: 0',axis=1)\n",
    "word_class.head()"
   ]
  },
  {
   "cell_type": "code",
   "execution_count": 3,
   "metadata": {},
   "outputs": [
    {
     "name": "stdout",
     "output_type": "stream",
     "text": [
      "<class 'pandas.core.frame.DataFrame'>\n",
      "RangeIndex: 272544 entries, 0 to 272543\n",
      "Data columns (total 3 columns):\n",
      "word     272542 non-null object\n",
      "topic    272544 non-null int64\n",
      "count    272544 non-null int64\n",
      "dtypes: int64(2), object(1)\n",
      "memory usage: 6.2+ MB\n"
     ]
    }
   ],
   "source": [
    "word_class.info()"
   ]
  },
  {
   "cell_type": "code",
   "execution_count": 5,
   "metadata": {},
   "outputs": [
    {
     "name": "stderr",
     "output_type": "stream",
     "text": [
      "100%|██████████| 272544/272544 [03:13<00:00, 1409.43it/s]\n"
     ]
    }
   ],
   "source": [
    "# change dataframe to dictionary with words as keys and topic class as values\n",
    "# create word_count dictionary from dataframe with words as keyws and count as values\n",
    "word_topic = {}\n",
    "word_count = {}\n",
    "for i in tqdm(range(word_class.shape[0])):\n",
    "    word_topic[word_class.iloc[i]['word']] = word_class.iloc[i]['topic']\n",
    "    word_count[word_class.iloc[i]['word']] = word_class.iloc[i]['count']"
   ]
  },
  {
   "cell_type": "code",
   "execution_count": 6,
   "metadata": {},
   "outputs": [
    {
     "data": {
      "text/plain": [
       "(25, 145112)"
      ]
     },
     "execution_count": 6,
     "metadata": {},
     "output_type": "execute_result"
    }
   ],
   "source": [
    "# check conversion\n",
    "word_topic['we'],word_count['we']"
   ]
  },
  {
   "cell_type": "markdown",
   "metadata": {},
   "source": [
    "### Load preprocessed dataframe"
   ]
  },
  {
   "cell_type": "code",
   "execution_count": 7,
   "metadata": {},
   "outputs": [
    {
     "data": {
      "text/html": [
       "<div>\n",
       "<style scoped>\n",
       "    .dataframe tbody tr th:only-of-type {\n",
       "        vertical-align: middle;\n",
       "    }\n",
       "\n",
       "    .dataframe tbody tr th {\n",
       "        vertical-align: top;\n",
       "    }\n",
       "\n",
       "    .dataframe thead th {\n",
       "        text-align: right;\n",
       "    }\n",
       "</style>\n",
       "<table border=\"1\" class=\"dataframe\">\n",
       "  <thead>\n",
       "    <tr style=\"text-align: right;\">\n",
       "      <th></th>\n",
       "      <th>Id</th>\n",
       "      <th>fourgram</th>\n",
       "    </tr>\n",
       "  </thead>\n",
       "  <tbody>\n",
       "    <tr>\n",
       "      <td>0</td>\n",
       "      <td>24877594</td>\n",
       "      <td>what we know and do_not know_about the cannabi...</td>\n",
       "    </tr>\n",
       "    <tr>\n",
       "      <td>1</td>\n",
       "      <td>16889837</td>\n",
       "      <td>allosteric agonist of 7tm receptor expand the ...</td>\n",
       "    </tr>\n",
       "    <tr>\n",
       "      <td>2</td>\n",
       "      <td>31068464</td>\n",
       "      <td>mrgprx4 be a g_protein_couple receptor activat...</td>\n",
       "    </tr>\n",
       "    <tr>\n",
       "      <td>3</td>\n",
       "      <td>30610192</td>\n",
       "      <td>modulation of gpr39 a g_protein_couple recepto...</td>\n",
       "    </tr>\n",
       "    <tr>\n",
       "      <td>4</td>\n",
       "      <td>30289386</td>\n",
       "      <td>simulation of spontaneous g_protein activation...</td>\n",
       "    </tr>\n",
       "  </tbody>\n",
       "</table>\n",
       "</div>"
      ],
      "text/plain": [
       "         Id                                           fourgram\n",
       "0  24877594  what we know and do_not know_about the cannabi...\n",
       "1  16889837  allosteric agonist of 7tm receptor expand the ...\n",
       "2  31068464  mrgprx4 be a g_protein_couple receptor activat...\n",
       "3  30610192  modulation of gpr39 a g_protein_couple recepto...\n",
       "4  30289386  simulation of spontaneous g_protein activation..."
      ]
     },
     "execution_count": 7,
     "metadata": {},
     "output_type": "execute_result"
    }
   ],
   "source": [
    "# table with id, text as fourgram\n",
    "df4 = pd.read_csv('./Processed_data/Id_fourgram.csv').drop('Unnamed: 0',axis=1)\n",
    "df4.head()"
   ]
  },
  {
   "cell_type": "code",
   "execution_count": 9,
   "metadata": {},
   "outputs": [
    {
     "data": {
      "text/html": [
       "<div>\n",
       "<style scoped>\n",
       "    .dataframe tbody tr th:only-of-type {\n",
       "        vertical-align: middle;\n",
       "    }\n",
       "\n",
       "    .dataframe tbody tr th {\n",
       "        vertical-align: top;\n",
       "    }\n",
       "\n",
       "    .dataframe thead th {\n",
       "        text-align: right;\n",
       "    }\n",
       "</style>\n",
       "<table border=\"1\" class=\"dataframe\">\n",
       "  <thead>\n",
       "    <tr style=\"text-align: right;\">\n",
       "      <th></th>\n",
       "      <th>Id</th>\n",
       "      <th>year</th>\n",
       "      <th>keywords</th>\n",
       "      <th>affiliation</th>\n",
       "    </tr>\n",
       "  </thead>\n",
       "  <tbody>\n",
       "    <tr>\n",
       "      <td>0</td>\n",
       "      <td>24877594</td>\n",
       "      <td>2014.0</td>\n",
       "      <td>cannabinoid receptor 2 ; endocannabinoid ; i...</td>\n",
       "      <td>[]</td>\n",
       "    </tr>\n",
       "    <tr>\n",
       "      <td>1</td>\n",
       "      <td>16889837</td>\n",
       "      <td>2006.0</td>\n",
       "      <td>NaN</td>\n",
       "      <td>glaxosmithkline</td>\n",
       "    </tr>\n",
       "    <tr>\n",
       "      <td>2</td>\n",
       "      <td>31068464</td>\n",
       "      <td>2019.0</td>\n",
       "      <td>mrgprx4 ; bile acid ; cholestasis ; itch ; p...</td>\n",
       "      <td>[' the johns hopkins university']</td>\n",
       "    </tr>\n",
       "    <tr>\n",
       "      <td>3</td>\n",
       "      <td>30610192</td>\n",
       "      <td>2019.0</td>\n",
       "      <td>NaN</td>\n",
       "      <td>[' oregon national primate research center, or...</td>\n",
       "    </tr>\n",
       "    <tr>\n",
       "      <td>4</td>\n",
       "      <td>30289386</td>\n",
       "      <td>2018.0</td>\n",
       "      <td>g protein ; markov state model ; allostery ;...</td>\n",
       "      <td>[' washington university']</td>\n",
       "    </tr>\n",
       "  </tbody>\n",
       "</table>\n",
       "</div>"
      ],
      "text/plain": [
       "         Id    year                                           keywords  \\\n",
       "0  24877594  2014.0    cannabinoid receptor 2 ; endocannabinoid ; i...   \n",
       "1  16889837  2006.0                                                NaN   \n",
       "2  31068464  2019.0    mrgprx4 ; bile acid ; cholestasis ; itch ; p...   \n",
       "3  30610192  2019.0                                                NaN   \n",
       "4  30289386  2018.0    g protein ; markov state model ; allostery ;...   \n",
       "\n",
       "                                         affiliation  \n",
       "0                                                 []  \n",
       "1                                    glaxosmithkline  \n",
       "2                  [' the johns hopkins university']  \n",
       "3  [' oregon national primate research center, or...  \n",
       "4                         [' washington university']  "
      ]
     },
     "execution_count": 9,
     "metadata": {},
     "output_type": "execute_result"
    }
   ],
   "source": [
    "# table with id, year, keyword,affiliation\n",
    "df = pd.read_csv('./Processed_data/year_text_keywords_affiliation.csv').drop('Unnamed: 0',axis=1)\n",
    "df = df.drop('text',axis=1)\n",
    "df.head()"
   ]
  },
  {
   "cell_type": "markdown",
   "metadata": {},
   "source": [
    "### Assign top10 topics to each record"
   ]
  },
  {
   "cell_type": "code",
   "execution_count": 11,
   "metadata": {},
   "outputs": [
    {
     "data": {
      "text/html": [
       "<div>\n",
       "<style scoped>\n",
       "    .dataframe tbody tr th:only-of-type {\n",
       "        vertical-align: middle;\n",
       "    }\n",
       "\n",
       "    .dataframe tbody tr th {\n",
       "        vertical-align: top;\n",
       "    }\n",
       "\n",
       "    .dataframe thead th {\n",
       "        text-align: right;\n",
       "    }\n",
       "</style>\n",
       "<table border=\"1\" class=\"dataframe\">\n",
       "  <thead>\n",
       "    <tr style=\"text-align: right;\">\n",
       "      <th></th>\n",
       "      <th>topic</th>\n",
       "      <th>term</th>\n",
       "    </tr>\n",
       "  </thead>\n",
       "  <tbody>\n",
       "    <tr>\n",
       "      <td>0</td>\n",
       "      <td>0</td>\n",
       "      <td>airway_inflammation</td>\n",
       "    </tr>\n",
       "    <tr>\n",
       "      <td>1</td>\n",
       "      <td>1</td>\n",
       "      <td>muscarinic acetylcholine adrenoceptor</td>\n",
       "    </tr>\n",
       "    <tr>\n",
       "      <td>2</td>\n",
       "      <td>2</td>\n",
       "      <td>dompaine serotonin</td>\n",
       "    </tr>\n",
       "    <tr>\n",
       "      <td>3</td>\n",
       "      <td>3</td>\n",
       "      <td>structural</td>\n",
       "    </tr>\n",
       "    <tr>\n",
       "      <td>4</td>\n",
       "      <td>4</td>\n",
       "      <td>inflammation cytokine</td>\n",
       "    </tr>\n",
       "  </tbody>\n",
       "</table>\n",
       "</div>"
      ],
      "text/plain": [
       "   topic                                   term\n",
       "0      0                    airway_inflammation\n",
       "1      1  muscarinic acetylcholine adrenoceptor\n",
       "2      2                     dompaine serotonin\n",
       "3      3                             structural\n",
       "4      4                  inflammation cytokine"
      ]
     },
     "execution_count": 11,
     "metadata": {},
     "output_type": "execute_result"
    }
   ],
   "source": [
    "topics = pd.read_csv('./topic_modeling/model_saved/topic35.csv').drop('Unnamed: 0',axis=1)\n",
    "topics.head()"
   ]
  },
  {
   "cell_type": "code",
   "execution_count": 84,
   "metadata": {},
   "outputs": [],
   "source": [
    "# change topic term to dictionary\n",
    "topic_term = {}\n",
    "for topic in range(topics.shape[0]):\n",
    "    topic_term[topic] = topics.iloc[topic]['term']"
   ]
  },
  {
   "cell_type": "code",
   "execution_count": 12,
   "metadata": {},
   "outputs": [],
   "source": [
    "useless_topics = [18,25]"
   ]
  },
  {
   "cell_type": "code",
   "execution_count": 25,
   "metadata": {},
   "outputs": [],
   "source": [
    "\n",
    "def predict_topic(text):\n",
    "    \"\"\"\n",
    "    return top10 topics in the text\n",
    "    use word_topic as global variable\n",
    "    \"\"\"\n",
    "    words = text.split()\n",
    "    topic_counts = Counter()\n",
    "    for word in words:\n",
    "        if word in word_topic:\n",
    "            topic_counts[word_topic[word]] += 1\n",
    "        \n",
    "    top10 = list(dict(topic_counts.most_common(10)).keys())\n",
    "    if 18 in top10:\n",
    "        top10.remove(18)\n",
    "    if 25 in top10:\n",
    "        top10.remove(25)\n",
    "        \n",
    "    return top10    "
   ]
  },
  {
   "cell_type": "code",
   "execution_count": 26,
   "metadata": {},
   "outputs": [
    {
     "name": "stdout",
     "output_type": "stream",
     "text": [
      "CPU times: user 39 s, sys: 105 ms, total: 39.1 s\n",
      "Wall time: 39.4 s\n"
     ]
    }
   ],
   "source": [
    "%%time\n",
    "paper_topics = df4['fourgram'].apply(predict_topic)\n"
   ]
  },
  {
   "cell_type": "code",
   "execution_count": 27,
   "metadata": {},
   "outputs": [],
   "source": [
    "df4['topics'] = paper_topics\n",
    "df4.to_csv('./topic_modeling/model_saved/Id_fourgram_topics.csv')"
   ]
  },
  {
   "cell_type": "code",
   "execution_count": 28,
   "metadata": {},
   "outputs": [
    {
     "data": {
      "text/html": [
       "<div>\n",
       "<style scoped>\n",
       "    .dataframe tbody tr th:only-of-type {\n",
       "        vertical-align: middle;\n",
       "    }\n",
       "\n",
       "    .dataframe tbody tr th {\n",
       "        vertical-align: top;\n",
       "    }\n",
       "\n",
       "    .dataframe thead th {\n",
       "        text-align: right;\n",
       "    }\n",
       "</style>\n",
       "<table border=\"1\" class=\"dataframe\">\n",
       "  <thead>\n",
       "    <tr style=\"text-align: right;\">\n",
       "      <th></th>\n",
       "      <th>Id</th>\n",
       "      <th>fourgram</th>\n",
       "      <th>topics</th>\n",
       "    </tr>\n",
       "  </thead>\n",
       "  <tbody>\n",
       "    <tr>\n",
       "      <td>0</td>\n",
       "      <td>24877594</td>\n",
       "      <td>what we know and do_not know_about the cannabi...</td>\n",
       "      <td>[22, 16, 11, 10]</td>\n",
       "    </tr>\n",
       "    <tr>\n",
       "      <td>1</td>\n",
       "      <td>16889837</td>\n",
       "      <td>allosteric agonist of 7tm receptor expand the ...</td>\n",
       "      <td>[22, 14, 4, 17, 12, 10, 3, 20]</td>\n",
       "    </tr>\n",
       "    <tr>\n",
       "      <td>2</td>\n",
       "      <td>31068464</td>\n",
       "      <td>mrgprx4 be a g_protein_couple receptor activat...</td>\n",
       "      <td>[22, 19, 5, 7, 20, 24, 3, 31]</td>\n",
       "    </tr>\n",
       "    <tr>\n",
       "      <td>3</td>\n",
       "      <td>30610192</td>\n",
       "      <td>modulation of gpr39 a g_protein_couple recepto...</td>\n",
       "      <td>[28, 22, 5, 24, 6, 29, 10, 31]</td>\n",
       "    </tr>\n",
       "    <tr>\n",
       "      <td>4</td>\n",
       "      <td>30289386</td>\n",
       "      <td>simulation of spontaneous g_protein activation...</td>\n",
       "      <td>[22, 17, 14, 29, 4, 0, 15, 20]</td>\n",
       "    </tr>\n",
       "  </tbody>\n",
       "</table>\n",
       "</div>"
      ],
      "text/plain": [
       "         Id                                           fourgram  \\\n",
       "0  24877594  what we know and do_not know_about the cannabi...   \n",
       "1  16889837  allosteric agonist of 7tm receptor expand the ...   \n",
       "2  31068464  mrgprx4 be a g_protein_couple receptor activat...   \n",
       "3  30610192  modulation of gpr39 a g_protein_couple recepto...   \n",
       "4  30289386  simulation of spontaneous g_protein activation...   \n",
       "\n",
       "                           topics  \n",
       "0                [22, 16, 11, 10]  \n",
       "1  [22, 14, 4, 17, 12, 10, 3, 20]  \n",
       "2   [22, 19, 5, 7, 20, 24, 3, 31]  \n",
       "3  [28, 22, 5, 24, 6, 29, 10, 31]  \n",
       "4  [22, 17, 14, 29, 4, 0, 15, 20]  "
      ]
     },
     "execution_count": 28,
     "metadata": {},
     "output_type": "execute_result"
    }
   ],
   "source": [
    "df4.head()"
   ]
  },
  {
   "cell_type": "markdown",
   "metadata": {},
   "source": [
    "### Assing topics to keywords"
   ]
  },
  {
   "cell_type": "code",
   "execution_count": 29,
   "metadata": {},
   "outputs": [],
   "source": [
    "df_keywords = df[['Id','keywords']].dropna()"
   ]
  },
  {
   "cell_type": "code",
   "execution_count": 33,
   "metadata": {},
   "outputs": [],
   "source": [
    "keywords = df_keywords['keywords'].apply(lambda x: x.replace('-',''))"
   ]
  },
  {
   "cell_type": "code",
   "execution_count": 34,
   "metadata": {},
   "outputs": [
    {
     "data": {
      "text/plain": [
       "0     [  cannabinoid receptor 2 ,  endocannabinoid ,...\n",
       "2     [  mrgprx4 ,  bile acid ,  cholestasis ,  itch...\n",
       "4     [  g protein ,  markov state model ,  alloster...\n",
       "10    [  knockout mouse ,  maltodextrin ,  psychophy...\n",
       "12    [  gpcr signalling ,  g    protein  couple rec...\n",
       "Name: keywords, dtype: object"
      ]
     },
     "execution_count": 34,
     "metadata": {},
     "output_type": "execute_result"
    }
   ],
   "source": [
    "keywords = keywords.apply(lambda x: x.split(';'))\n",
    "keywords.head()"
   ]
  },
  {
   "cell_type": "code",
   "execution_count": 43,
   "metadata": {},
   "outputs": [],
   "source": [
    "def keyword_topic(keywords):\n",
    "    \"\"\"\n",
    "    return topics for the keywords\n",
    "    use word_topic as global variable\n",
    "    \"\"\"\n",
    "    \n",
    "    topic_counts = Counter()\n",
    "    for word in keywords:\n",
    "        word = '_'.join(word.split())\n",
    "        if word in word_topic:\n",
    "            topic_counts[word_topic[word]] += 1\n",
    "        \n",
    "    top10 = list(dict(topic_counts.most_common(10)).keys())\n",
    "    if 18 in top10:\n",
    "        top10.remove(18)\n",
    "    if 25 in top10:\n",
    "        top10.remove(25)\n",
    "        \n",
    "    return top10  "
   ]
  },
  {
   "cell_type": "code",
   "execution_count": 44,
   "metadata": {},
   "outputs": [],
   "source": [
    "keyword_topic = keywords.apply(keyword_topic)"
   ]
  },
  {
   "cell_type": "code",
   "execution_count": 47,
   "metadata": {},
   "outputs": [
    {
     "data": {
      "text/html": [
       "<div>\n",
       "<style scoped>\n",
       "    .dataframe tbody tr th:only-of-type {\n",
       "        vertical-align: middle;\n",
       "    }\n",
       "\n",
       "    .dataframe tbody tr th {\n",
       "        vertical-align: top;\n",
       "    }\n",
       "\n",
       "    .dataframe thead th {\n",
       "        text-align: right;\n",
       "    }\n",
       "</style>\n",
       "<table border=\"1\" class=\"dataframe\">\n",
       "  <thead>\n",
       "    <tr style=\"text-align: right;\">\n",
       "      <th></th>\n",
       "      <th>Id</th>\n",
       "      <th>keywords</th>\n",
       "      <th>topics</th>\n",
       "    </tr>\n",
       "  </thead>\n",
       "  <tbody>\n",
       "    <tr>\n",
       "      <td>0</td>\n",
       "      <td>24877594</td>\n",
       "      <td>cannabinoid receptor 2 ; endocannabinoid ; i...</td>\n",
       "      <td>[22, 21]</td>\n",
       "    </tr>\n",
       "    <tr>\n",
       "      <td>2</td>\n",
       "      <td>31068464</td>\n",
       "      <td>mrgprx4 ; bile acid ; cholestasis ; itch ; p...</td>\n",
       "      <td>[24, 5, 19, 3]</td>\n",
       "    </tr>\n",
       "    <tr>\n",
       "      <td>4</td>\n",
       "      <td>30289386</td>\n",
       "      <td>g protein ; markov state model ; allostery ;...</td>\n",
       "      <td>[17, 14]</td>\n",
       "    </tr>\n",
       "    <tr>\n",
       "      <td>10</td>\n",
       "      <td>28768658</td>\n",
       "      <td>knockout mouse ; maltodextrin ; psychophysic...</td>\n",
       "      <td>[28, 22]</td>\n",
       "    </tr>\n",
       "    <tr>\n",
       "      <td>12</td>\n",
       "      <td>31219669</td>\n",
       "      <td>gpcr signalling ; g    protein - couple rece...</td>\n",
       "      <td>[22, 13]</td>\n",
       "    </tr>\n",
       "  </tbody>\n",
       "</table>\n",
       "</div>"
      ],
      "text/plain": [
       "          Id                                           keywords  \\\n",
       "0   24877594    cannabinoid receptor 2 ; endocannabinoid ; i...   \n",
       "2   31068464    mrgprx4 ; bile acid ; cholestasis ; itch ; p...   \n",
       "4   30289386    g protein ; markov state model ; allostery ;...   \n",
       "10  28768658    knockout mouse ; maltodextrin ; psychophysic...   \n",
       "12  31219669    gpcr signalling ; g    protein - couple rece...   \n",
       "\n",
       "            topics  \n",
       "0         [22, 21]  \n",
       "2   [24, 5, 19, 3]  \n",
       "4         [17, 14]  \n",
       "10        [28, 22]  \n",
       "12        [22, 13]  "
      ]
     },
     "execution_count": 47,
     "metadata": {},
     "output_type": "execute_result"
    }
   ],
   "source": [
    "df_keywords['topics'] = keyword_topic\n",
    "df_keywords.head()"
   ]
  },
  {
   "cell_type": "code",
   "execution_count": 46,
   "metadata": {},
   "outputs": [
    {
     "data": {
      "text/plain": [
       "0           [22, 21]\n",
       "2     [24, 5, 19, 3]\n",
       "4           [17, 14]\n",
       "10          [28, 22]\n",
       "12          [22, 13]\n",
       "Name: keywords, dtype: object"
      ]
     },
     "execution_count": 46,
     "metadata": {},
     "output_type": "execute_result"
    }
   ],
   "source": [
    "keyword_topic.head(5)"
   ]
  },
  {
   "cell_type": "code",
   "execution_count": 81,
   "metadata": {},
   "outputs": [],
   "source": [
    "content_keywords_topics = df4[['Id','topics']].merge(df_keywords, \n",
    "                                                     left_on='Id',\n",
    "                                                     right_on='Id',\n",
    "                                                     how = 'right',\n",
    "                                                     suffixes=('_text', '_keyword')\n",
    "                                                    )"
   ]
  },
  {
   "cell_type": "code",
   "execution_count": 82,
   "metadata": {},
   "outputs": [
    {
     "data": {
      "text/html": [
       "<div>\n",
       "<style scoped>\n",
       "    .dataframe tbody tr th:only-of-type {\n",
       "        vertical-align: middle;\n",
       "    }\n",
       "\n",
       "    .dataframe tbody tr th {\n",
       "        vertical-align: top;\n",
       "    }\n",
       "\n",
       "    .dataframe thead th {\n",
       "        text-align: right;\n",
       "    }\n",
       "</style>\n",
       "<table border=\"1\" class=\"dataframe\">\n",
       "  <thead>\n",
       "    <tr style=\"text-align: right;\">\n",
       "      <th></th>\n",
       "      <th>Id</th>\n",
       "      <th>topics_text</th>\n",
       "      <th>keywords</th>\n",
       "      <th>topics_keyword</th>\n",
       "    </tr>\n",
       "  </thead>\n",
       "  <tbody>\n",
       "    <tr>\n",
       "      <td>0</td>\n",
       "      <td>24877594</td>\n",
       "      <td>[22, 16, 11, 10]</td>\n",
       "      <td>cannabinoid receptor 2 ; endocannabinoid ; i...</td>\n",
       "      <td>[22, 21]</td>\n",
       "    </tr>\n",
       "    <tr>\n",
       "      <td>1</td>\n",
       "      <td>31068464</td>\n",
       "      <td>[22, 19, 5, 7, 20, 24, 3, 31]</td>\n",
       "      <td>mrgprx4 ; bile acid ; cholestasis ; itch ; p...</td>\n",
       "      <td>[24, 5, 19, 3]</td>\n",
       "    </tr>\n",
       "    <tr>\n",
       "      <td>2</td>\n",
       "      <td>30289386</td>\n",
       "      <td>[22, 17, 14, 29, 4, 0, 15, 20]</td>\n",
       "      <td>g protein ; markov state model ; allostery ;...</td>\n",
       "      <td>[17, 14]</td>\n",
       "    </tr>\n",
       "    <tr>\n",
       "      <td>3</td>\n",
       "      <td>28768658</td>\n",
       "      <td>[28, 7, 22, 17, 29, 4, 20, 5]</td>\n",
       "      <td>knockout mouse ; maltodextrin ; psychophysic...</td>\n",
       "      <td>[28, 22]</td>\n",
       "    </tr>\n",
       "    <tr>\n",
       "      <td>4</td>\n",
       "      <td>31219669</td>\n",
       "      <td>[22, 13, 12, 28, 9, 17, 5, 0]</td>\n",
       "      <td>gpcr signalling ; g    protein - couple rece...</td>\n",
       "      <td>[22, 13]</td>\n",
       "    </tr>\n",
       "  </tbody>\n",
       "</table>\n",
       "</div>"
      ],
      "text/plain": [
       "         Id                     topics_text  \\\n",
       "0  24877594                [22, 16, 11, 10]   \n",
       "1  31068464   [22, 19, 5, 7, 20, 24, 3, 31]   \n",
       "2  30289386  [22, 17, 14, 29, 4, 0, 15, 20]   \n",
       "3  28768658   [28, 7, 22, 17, 29, 4, 20, 5]   \n",
       "4  31219669   [22, 13, 12, 28, 9, 17, 5, 0]   \n",
       "\n",
       "                                            keywords  topics_keyword  \n",
       "0    cannabinoid receptor 2 ; endocannabinoid ; i...        [22, 21]  \n",
       "1    mrgprx4 ; bile acid ; cholestasis ; itch ; p...  [24, 5, 19, 3]  \n",
       "2    g protein ; markov state model ; allostery ;...        [17, 14]  \n",
       "3    knockout mouse ; maltodextrin ; psychophysic...        [28, 22]  \n",
       "4    gpcr signalling ; g    protein - couple rece...        [22, 13]  "
      ]
     },
     "execution_count": 82,
     "metadata": {},
     "output_type": "execute_result"
    }
   ],
   "source": [
    "content_keywords_topics.head()"
   ]
  },
  {
   "cell_type": "code",
   "execution_count": 88,
   "metadata": {},
   "outputs": [
    {
     "data": {
      "text/html": [
       "<div>\n",
       "<style scoped>\n",
       "    .dataframe tbody tr th:only-of-type {\n",
       "        vertical-align: middle;\n",
       "    }\n",
       "\n",
       "    .dataframe tbody tr th {\n",
       "        vertical-align: top;\n",
       "    }\n",
       "\n",
       "    .dataframe thead th {\n",
       "        text-align: right;\n",
       "    }\n",
       "</style>\n",
       "<table border=\"1\" class=\"dataframe\">\n",
       "  <thead>\n",
       "    <tr style=\"text-align: right;\">\n",
       "      <th></th>\n",
       "      <th>Id</th>\n",
       "      <th>topics_text</th>\n",
       "      <th>keywords</th>\n",
       "      <th>topics_keyword</th>\n",
       "      <th>topic_term</th>\n",
       "      <th>topic_term_text</th>\n",
       "      <th>topic_term_keyword</th>\n",
       "    </tr>\n",
       "  </thead>\n",
       "  <tbody>\n",
       "    <tr>\n",
       "      <td>0</td>\n",
       "      <td>24877594</td>\n",
       "      <td>[22, 16, 11, 10]</td>\n",
       "      <td>cannabinoid receptor 2 ; endocannabinoid ; i...</td>\n",
       "      <td>[22, 21]</td>\n",
       "      <td>[immune_response, cardiac, gene_polymorphism, ...</td>\n",
       "      <td>[immune_response, cardiac, gene_polymorphism, ...</td>\n",
       "      <td>[immune_response, psychiatric_disorder]</td>\n",
       "    </tr>\n",
       "    <tr>\n",
       "      <td>1</td>\n",
       "      <td>31068464</td>\n",
       "      <td>[22, 19, 5, 7, 20, 24, 3, 31]</td>\n",
       "      <td>mrgprx4 ; bile acid ; cholestasis ; itch ; p...</td>\n",
       "      <td>[24, 5, 19, 3]</td>\n",
       "      <td>[immune_response, visual, genetic polymorphism...</td>\n",
       "      <td>[immune_response, visual, genetic polymorphism...</td>\n",
       "      <td>[gastrointestinal, genetic polymorphism, visua...</td>\n",
       "    </tr>\n",
       "    <tr>\n",
       "      <td>2</td>\n",
       "      <td>30289386</td>\n",
       "      <td>[22, 17, 14, 29, 4, 0, 15, 20]</td>\n",
       "      <td>g protein ; markov state model ; allostery ;...</td>\n",
       "      <td>[17, 14]</td>\n",
       "      <td>[immune_response, anatomy, proliferation, bloo...</td>\n",
       "      <td>[immune_response, anatomy, proliferation, bloo...</td>\n",
       "      <td>[anatomy, proliferation]</td>\n",
       "    </tr>\n",
       "    <tr>\n",
       "      <td>3</td>\n",
       "      <td>28768658</td>\n",
       "      <td>[28, 7, 22, 17, 29, 4, 20, 5]</td>\n",
       "      <td>knockout mouse ; maltodextrin ; psychophysic...</td>\n",
       "      <td>[28, 22]</td>\n",
       "      <td>[imaging, neurodegenerative_disease, immune_re...</td>\n",
       "      <td>[imaging, neurodegenerative_disease, immune_re...</td>\n",
       "      <td>[imaging, immune_response]</td>\n",
       "    </tr>\n",
       "    <tr>\n",
       "      <td>4</td>\n",
       "      <td>31219669</td>\n",
       "      <td>[22, 13, 12, 28, 9, 17, 5, 0]</td>\n",
       "      <td>gpcr signalling ; g    protein - couple rece...</td>\n",
       "      <td>[22, 13]</td>\n",
       "      <td>[immune_response, neural behavior, clinical, i...</td>\n",
       "      <td>[immune_response, neural behavior, clinical, i...</td>\n",
       "      <td>[immune_response, neural behavior]</td>\n",
       "    </tr>\n",
       "  </tbody>\n",
       "</table>\n",
       "</div>"
      ],
      "text/plain": [
       "         Id                     topics_text  \\\n",
       "0  24877594                [22, 16, 11, 10]   \n",
       "1  31068464   [22, 19, 5, 7, 20, 24, 3, 31]   \n",
       "2  30289386  [22, 17, 14, 29, 4, 0, 15, 20]   \n",
       "3  28768658   [28, 7, 22, 17, 29, 4, 20, 5]   \n",
       "4  31219669   [22, 13, 12, 28, 9, 17, 5, 0]   \n",
       "\n",
       "                                            keywords  topics_keyword  \\\n",
       "0    cannabinoid receptor 2 ; endocannabinoid ; i...        [22, 21]   \n",
       "1    mrgprx4 ; bile acid ; cholestasis ; itch ; p...  [24, 5, 19, 3]   \n",
       "2    g protein ; markov state model ; allostery ;...        [17, 14]   \n",
       "3    knockout mouse ; maltodextrin ; psychophysic...        [28, 22]   \n",
       "4    gpcr signalling ; g    protein - couple rece...        [22, 13]   \n",
       "\n",
       "                                          topic_term  \\\n",
       "0  [immune_response, cardiac, gene_polymorphism, ...   \n",
       "1  [immune_response, visual, genetic polymorphism...   \n",
       "2  [immune_response, anatomy, proliferation, bloo...   \n",
       "3  [imaging, neurodegenerative_disease, immune_re...   \n",
       "4  [immune_response, neural behavior, clinical, i...   \n",
       "\n",
       "                                     topic_term_text  \\\n",
       "0  [immune_response, cardiac, gene_polymorphism, ...   \n",
       "1  [immune_response, visual, genetic polymorphism...   \n",
       "2  [immune_response, anatomy, proliferation, bloo...   \n",
       "3  [imaging, neurodegenerative_disease, immune_re...   \n",
       "4  [immune_response, neural behavior, clinical, i...   \n",
       "\n",
       "                                  topic_term_keyword  \n",
       "0            [immune_response, psychiatric_disorder]  \n",
       "1  [gastrointestinal, genetic polymorphism, visua...  \n",
       "2                           [anatomy, proliferation]  \n",
       "3                         [imaging, immune_response]  \n",
       "4                 [immune_response, neural behavior]  "
      ]
     },
     "execution_count": 88,
     "metadata": {},
     "output_type": "execute_result"
    }
   ],
   "source": [
    "def convert_topic(topics):\n",
    "    terms = []\n",
    "    for topic in topics:\n",
    "        terms.append(topic_term[topic])\n",
    "    return terms\n",
    "        \n",
    "content_keywords_topics['topic_term_text'] = content_keywords_topics['topics_text'].apply(convert_topic)\n",
    "content_keywords_topics['topic_term_keyword'] = content_keywords_topics['topics_keyword'].apply(convert_topic)\n",
    "content_keywords_topics.head()"
   ]
  },
  {
   "cell_type": "code",
   "execution_count": 89,
   "metadata": {},
   "outputs": [],
   "source": [
    "content_keywords_topics = content_keywords_topics.drop('topic_term',axis=1)"
   ]
  },
  {
   "cell_type": "code",
   "execution_count": 90,
   "metadata": {},
   "outputs": [],
   "source": [
    "content_keywords_topics.to_csv('./topic_modeling/model_saved/contents_all.csv')"
   ]
  },
  {
   "cell_type": "markdown",
   "metadata": {},
   "source": [
    "<h3>Calculate accuracy</h3>\n",
    "\n",
    "<ol>\n",
    "    <li> if topics in keyword hit topics in text, mark 1\n",
    "    <li> calculate percentage of correct prediction"
   ]
  },
  {
   "cell_type": "code",
   "execution_count": 61,
   "metadata": {},
   "outputs": [],
   "source": [
    "def accuracy(keywords,text):\n",
    "    \"\"\"\n",
    "    calcuate accuracy\n",
    "        if topics in keyword hit topics in text, mark 1\n",
    "        calculate percentage of correct prediction\n",
    "    \"\"\"\n",
    "    \n",
    "    pos = 0\n",
    "    for topic in keywords:\n",
    "        if topic in text:\n",
    "            pos += 1\n",
    "    if len(keywords) > 0:\n",
    "        score = pos/len(keywords)\n",
    "\n",
    "        return score"
   ]
  },
  {
   "cell_type": "code",
   "execution_count": 62,
   "metadata": {},
   "outputs": [
    {
     "name": "stderr",
     "output_type": "stream",
     "text": [
      "100%|██████████| 37845/37845 [00:01<00:00, 37074.41it/s]\n"
     ]
    }
   ],
   "source": [
    "scores = []\n",
    "for row in tqdm(range(content_keywords_topics.shape[0])):\n",
    "    scores.append(accuracy(content_keywords_topics['topics_keyword'].iloc[row],\n",
    "                           content_keywords_topics['topics_text'].iloc[row]))"
   ]
  },
  {
   "cell_type": "code",
   "execution_count": 63,
   "metadata": {},
   "outputs": [
    {
     "data": {
      "text/plain": [
       "(37845, (37845, 3))"
      ]
     },
     "execution_count": 63,
     "metadata": {},
     "output_type": "execute_result"
    }
   ],
   "source": [
    "len(scores),content_keywords_topics.shape"
   ]
  },
  {
   "cell_type": "code",
   "execution_count": 66,
   "metadata": {},
   "outputs": [
    {
     "data": {
      "text/html": [
       "<div>\n",
       "<style scoped>\n",
       "    .dataframe tbody tr th:only-of-type {\n",
       "        vertical-align: middle;\n",
       "    }\n",
       "\n",
       "    .dataframe tbody tr th {\n",
       "        vertical-align: top;\n",
       "    }\n",
       "\n",
       "    .dataframe thead th {\n",
       "        text-align: right;\n",
       "    }\n",
       "</style>\n",
       "<table border=\"1\" class=\"dataframe\">\n",
       "  <thead>\n",
       "    <tr style=\"text-align: right;\">\n",
       "      <th></th>\n",
       "      <th>Id</th>\n",
       "      <th>topics_text</th>\n",
       "      <th>topics_keyword</th>\n",
       "      <th>score</th>\n",
       "    </tr>\n",
       "  </thead>\n",
       "  <tbody>\n",
       "    <tr>\n",
       "      <td>0</td>\n",
       "      <td>24877594</td>\n",
       "      <td>[22, 16, 11, 10]</td>\n",
       "      <td>[22, 21]</td>\n",
       "      <td>0.5</td>\n",
       "    </tr>\n",
       "    <tr>\n",
       "      <td>1</td>\n",
       "      <td>31068464</td>\n",
       "      <td>[22, 19, 5, 7, 20, 24, 3, 31]</td>\n",
       "      <td>[24, 5, 19, 3]</td>\n",
       "      <td>1.0</td>\n",
       "    </tr>\n",
       "    <tr>\n",
       "      <td>2</td>\n",
       "      <td>30289386</td>\n",
       "      <td>[22, 17, 14, 29, 4, 0, 15, 20]</td>\n",
       "      <td>[17, 14]</td>\n",
       "      <td>1.0</td>\n",
       "    </tr>\n",
       "    <tr>\n",
       "      <td>3</td>\n",
       "      <td>28768658</td>\n",
       "      <td>[28, 7, 22, 17, 29, 4, 20, 5]</td>\n",
       "      <td>[28, 22]</td>\n",
       "      <td>1.0</td>\n",
       "    </tr>\n",
       "    <tr>\n",
       "      <td>4</td>\n",
       "      <td>31219669</td>\n",
       "      <td>[22, 13, 12, 28, 9, 17, 5, 0]</td>\n",
       "      <td>[22, 13]</td>\n",
       "      <td>1.0</td>\n",
       "    </tr>\n",
       "    <tr>\n",
       "      <td>5</td>\n",
       "      <td>24143969</td>\n",
       "      <td>[17, 22, 0, 29, 9, 3, 20, 1]</td>\n",
       "      <td>[29, 14]</td>\n",
       "      <td>0.5</td>\n",
       "    </tr>\n",
       "    <tr>\n",
       "      <td>6</td>\n",
       "      <td>28949776</td>\n",
       "      <td>[7, 22, 26, 34, 24, 15, 30, 17]</td>\n",
       "      <td>[7, 24, 22, 26]</td>\n",
       "      <td>1.0</td>\n",
       "    </tr>\n",
       "    <tr>\n",
       "      <td>7</td>\n",
       "      <td>25908257</td>\n",
       "      <td>[22, 0, 9, 29, 7, 28]</td>\n",
       "      <td>[0, 29]</td>\n",
       "      <td>1.0</td>\n",
       "    </tr>\n",
       "    <tr>\n",
       "      <td>8</td>\n",
       "      <td>27830944</td>\n",
       "      <td>[26, 22, 17, 0, 29, 16, 4]</td>\n",
       "      <td>[]</td>\n",
       "      <td>NaN</td>\n",
       "    </tr>\n",
       "    <tr>\n",
       "      <td>9</td>\n",
       "      <td>26347659</td>\n",
       "      <td>[34, 15, 22, 29, 28, 17, 20, 0]</td>\n",
       "      <td>[15, 34]</td>\n",
       "      <td>1.0</td>\n",
       "    </tr>\n",
       "  </tbody>\n",
       "</table>\n",
       "</div>"
      ],
      "text/plain": [
       "         Id                      topics_text   topics_keyword  score\n",
       "0  24877594                 [22, 16, 11, 10]         [22, 21]    0.5\n",
       "1  31068464    [22, 19, 5, 7, 20, 24, 3, 31]   [24, 5, 19, 3]    1.0\n",
       "2  30289386   [22, 17, 14, 29, 4, 0, 15, 20]         [17, 14]    1.0\n",
       "3  28768658    [28, 7, 22, 17, 29, 4, 20, 5]         [28, 22]    1.0\n",
       "4  31219669    [22, 13, 12, 28, 9, 17, 5, 0]         [22, 13]    1.0\n",
       "5  24143969     [17, 22, 0, 29, 9, 3, 20, 1]         [29, 14]    0.5\n",
       "6  28949776  [7, 22, 26, 34, 24, 15, 30, 17]  [7, 24, 22, 26]    1.0\n",
       "7  25908257            [22, 0, 9, 29, 7, 28]          [0, 29]    1.0\n",
       "8  27830944       [26, 22, 17, 0, 29, 16, 4]               []    NaN\n",
       "9  26347659  [34, 15, 22, 29, 28, 17, 20, 0]         [15, 34]    1.0"
      ]
     },
     "execution_count": 66,
     "metadata": {},
     "output_type": "execute_result"
    }
   ],
   "source": [
    "content_keywords_topics['score'] = scores\n",
    "content_keywords_topics.head(10)"
   ]
  },
  {
   "cell_type": "code",
   "execution_count": 68,
   "metadata": {},
   "outputs": [],
   "source": [
    "content_keywords_topics.to_csv('./topic_modeling/model_saved/content_keywords_topics_score.csv')"
   ]
  },
  {
   "cell_type": "code",
   "execution_count": 67,
   "metadata": {},
   "outputs": [
    {
     "name": "stdout",
     "output_type": "stream",
     "text": [
      "<class 'pandas.core.frame.DataFrame'>\n",
      "Int64Index: 37845 entries, 0 to 37844\n",
      "Data columns (total 4 columns):\n",
      "Id                37845 non-null int64\n",
      "topics_text       37845 non-null object\n",
      "topics_keyword    37845 non-null object\n",
      "score             37049 non-null float64\n",
      "dtypes: float64(1), int64(1), object(2)\n",
      "memory usage: 2.7+ MB\n"
     ]
    }
   ],
   "source": [
    "content_keywords_topics.info()"
   ]
  },
  {
   "cell_type": "code",
   "execution_count": 71,
   "metadata": {},
   "outputs": [
    {
     "data": {
      "text/plain": [
       "0.9253047872680074"
      ]
     },
     "execution_count": 71,
     "metadata": {},
     "output_type": "execute_result"
    }
   ],
   "source": [
    "final_accuracy = content_keywords_topics.score.dropna().mean()\n",
    "final_accuracy"
   ]
  },
  {
   "cell_type": "markdown",
   "metadata": {},
   "source": [
    "# dummy model"
   ]
  },
  {
   "cell_type": "code",
   "execution_count": 7,
   "metadata": {},
   "outputs": [
    {
     "data": {
      "text/html": [
       "<div>\n",
       "<style scoped>\n",
       "    .dataframe tbody tr th:only-of-type {\n",
       "        vertical-align: middle;\n",
       "    }\n",
       "\n",
       "    .dataframe tbody tr th {\n",
       "        vertical-align: top;\n",
       "    }\n",
       "\n",
       "    .dataframe thead th {\n",
       "        text-align: right;\n",
       "    }\n",
       "</style>\n",
       "<table border=\"1\" class=\"dataframe\">\n",
       "  <thead>\n",
       "    <tr style=\"text-align: right;\">\n",
       "      <th></th>\n",
       "      <th>Unnamed: 0</th>\n",
       "      <th>Id</th>\n",
       "      <th>topics_text</th>\n",
       "      <th>topics_keyword</th>\n",
       "      <th>score</th>\n",
       "    </tr>\n",
       "  </thead>\n",
       "  <tbody>\n",
       "    <tr>\n",
       "      <td>0</td>\n",
       "      <td>0</td>\n",
       "      <td>24877594</td>\n",
       "      <td>[22, 16, 11, 10]</td>\n",
       "      <td>[22, 21]</td>\n",
       "      <td>0.5</td>\n",
       "    </tr>\n",
       "    <tr>\n",
       "      <td>1</td>\n",
       "      <td>1</td>\n",
       "      <td>31068464</td>\n",
       "      <td>[22, 19, 5, 7, 20, 24, 3, 31]</td>\n",
       "      <td>[24, 5, 19, 3]</td>\n",
       "      <td>1.0</td>\n",
       "    </tr>\n",
       "    <tr>\n",
       "      <td>2</td>\n",
       "      <td>2</td>\n",
       "      <td>30289386</td>\n",
       "      <td>[22, 17, 14, 29, 4, 0, 15, 20]</td>\n",
       "      <td>[17, 14]</td>\n",
       "      <td>1.0</td>\n",
       "    </tr>\n",
       "    <tr>\n",
       "      <td>3</td>\n",
       "      <td>3</td>\n",
       "      <td>28768658</td>\n",
       "      <td>[28, 7, 22, 17, 29, 4, 20, 5]</td>\n",
       "      <td>[28, 22]</td>\n",
       "      <td>1.0</td>\n",
       "    </tr>\n",
       "    <tr>\n",
       "      <td>4</td>\n",
       "      <td>4</td>\n",
       "      <td>31219669</td>\n",
       "      <td>[22, 13, 12, 28, 9, 17, 5, 0]</td>\n",
       "      <td>[22, 13]</td>\n",
       "      <td>1.0</td>\n",
       "    </tr>\n",
       "  </tbody>\n",
       "</table>\n",
       "</div>"
      ],
      "text/plain": [
       "   Unnamed: 0        Id                     topics_text  topics_keyword  score\n",
       "0           0  24877594                [22, 16, 11, 10]        [22, 21]    0.5\n",
       "1           1  31068464   [22, 19, 5, 7, 20, 24, 3, 31]  [24, 5, 19, 3]    1.0\n",
       "2           2  30289386  [22, 17, 14, 29, 4, 0, 15, 20]        [17, 14]    1.0\n",
       "3           3  28768658   [28, 7, 22, 17, 29, 4, 20, 5]        [28, 22]    1.0\n",
       "4           4  31219669   [22, 13, 12, 28, 9, 17, 5, 0]        [22, 13]    1.0"
      ]
     },
     "execution_count": 7,
     "metadata": {},
     "output_type": "execute_result"
    }
   ],
   "source": [
    "scores = pd.read_csv('./topic_modeling/model_saved/content_keywords_topics_score.csv')\n",
    "scores.head()"
   ]
  },
  {
   "cell_type": "code",
   "execution_count": 14,
   "metadata": {},
   "outputs": [],
   "source": [
    "keywords = scores['topics_keyword'].apply(lambda x: x[1:-1].split(','))"
   ]
  },
  {
   "cell_type": "code",
   "execution_count": 35,
   "metadata": {},
   "outputs": [
    {
     "name": "stderr",
     "output_type": "stream",
     "text": [
      "100%|██████████| 37845/37845 [00:02<00:00, 17907.79it/s]\n"
     ]
    }
   ],
   "source": [
    "import random\n",
    "from tqdm import tqdm\n",
    "\n",
    "dummy_score = []\n",
    "\n",
    "for i in tqdm(range(scores.shape[0])):\n",
    "    pos = 0\n",
    "    n = []\n",
    "    balls = list(range(33))\n",
    "    for j in range(8):\n",
    "        k = random.choice(balls)\n",
    "        balls.remove(k)\n",
    "        n.append(k)\n",
    "        \n",
    "    for key in keywords[i]:\n",
    "        if len(key):\n",
    "            if int(key) in n:\n",
    "                pos += 1\n",
    "    dummy_score.append(pos/len(keywords[i]))\n"
   ]
  },
  {
   "cell_type": "code",
   "execution_count": 36,
   "metadata": {},
   "outputs": [
    {
     "data": {
      "text/plain": [
       "0.222759774099438"
      ]
     },
     "execution_count": 36,
     "metadata": {},
     "output_type": "execute_result"
    }
   ],
   "source": [
    "sum(dummy_score)/len(dummy_score)"
   ]
  },
  {
   "cell_type": "markdown",
   "metadata": {},
   "source": [
    "### Keep in mind that the null accuracy will be very small as showed below "
   ]
  },
  {
   "cell_type": "code",
   "execution_count": 79,
   "metadata": {},
   "outputs": [
    {
     "data": {
      "text/plain": [
       "(0, 9, 7.768635222618576, 0    8\n",
       " dtype: int64)"
      ]
     },
     "execution_count": 79,
     "metadata": {},
     "output_type": "execute_result"
    }
   ],
   "source": [
    "# disctribution of text topic number\n",
    "topic_number = content_keywords_topics['topics_text'].apply(lambda x: len(x))\n",
    "topic_number.min(),topic_number.max(),topic_number.mean(), topic_number.mode()"
   ]
  },
  {
   "cell_type": "code",
   "execution_count": 77,
   "metadata": {},
   "outputs": [
    {
     "data": {
      "image/png": "[encoded data removed]",
      "text/plain": [
       "<Figure size 432x288 with 1 Axes>"
      ]
     },
     "metadata": {
      "needs_background": "light"
     },
     "output_type": "display_data"
    }
   ],
   "source": [
    "import matplotlib.pyplot as plt\n",
    "plt.hist(topic_number)\n",
    "plt.show()"
   ]
  },
  {
   "cell_type": "code",
   "execution_count": 80,
   "metadata": {},
   "outputs": [
    {
     "data": {
      "image/png": "[encoded data removed]",
      "text/plain": [
       "<Figure size 432x288 with 1 Axes>"
      ]
     },
     "metadata": {
      "needs_background": "light"
     },
     "output_type": "display_data"
    },
    {
     "data": {
      "text/plain": [
       "(0, 10, 2.4822301492931693, 0    2\n",
       " dtype: int64)"
      ]
     },
     "execution_count": 80,
     "metadata": {},
     "output_type": "execute_result"
    }
   ],
   "source": [
    "# distribution of keyword topic number\n",
    "topic_number = content_keywords_topics['topics_keyword'].apply(lambda x: len(x))\n",
    "plt.hist(topic_number)\n",
    "plt.show()\n",
    "topic_number.min(),topic_number.max(),topic_number.mean(), topic_number.mode()"
   ]
  },
  {
   "cell_type": "markdown",
   "metadata": {},
   "source": [
    "<h3> Null accuracy </h3>\n",
    "<h4> Pobability = for an average of 8 topics predicted in text from in total 33 (35-2) useful topics, 2 of them are accurately predicted </h4>\n",
    "<ol>\n",
    "    <li> problem equal to: probalility of from 33 balls (two of them red, all the rest are blue), pick up 8 balls and two of them are red.\n",
    "    <li> This is hypergeometric distribution: P = C(2,2)*C(31,6)/C(33,8)\n",
    "    <li> we could also use simulation\n"
   ]
  },
  {
   "cell_type": "code",
   "execution_count": 4,
   "metadata": {},
   "outputs": [
    {
     "name": "stderr",
     "output_type": "stream",
     "text": [
      "100%|██████████| 100000/100000 [00:01<00:00, 81322.63it/s]\n"
     ]
    },
    {
     "data": {
      "text/plain": [
       "0.05309"
      ]
     },
     "execution_count": 4,
     "metadata": {},
     "output_type": "execute_result"
    }
   ],
   "source": [
    "import random\n",
    "from tqdm import tqdm\n",
    "\n",
    "pos = 0\n",
    "stop = 100000\n",
    "for i in tqdm(range(stop)):\n",
    "    n = []\n",
    "    balls = list(range(33))\n",
    "    for j in range(8):\n",
    "        k = random.choice(balls)\n",
    "        balls.remove(k)\n",
    "        n.append(k)\n",
    "        \n",
    "    if 9 in n and 8 in n:\n",
    "        pos += 1\n",
    "    \n",
    "pos/stop"
   ]
  },
  {
   "cell_type": "code",
   "execution_count": null,
   "metadata": {},
   "outputs": [],
   "source": []
  }
 ],
 "metadata": {
  "kernelspec": {
   "display_name": "Python 3",
   "language": "python",
   "name": "python3"
  },
  "language_info": {
   "codemirror_mode": {
    "name": "ipython",
    "version": 3
   },
   "file_extension": ".py",
   "mimetype": "text/x-python",
   "name": "python",
   "nbconvert_exporter": "python",
   "pygments_lexer": "ipython3",
   "version": "3.7.4"
  }
 },
 "nbformat": 4,
 "nbformat_minor": 2
}
