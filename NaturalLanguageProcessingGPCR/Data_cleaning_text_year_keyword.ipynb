{
 "cells": [
  {
   "cell_type": "code",
   "execution_count": 162,
   "metadata": {},
   "outputs": [],
   "source": [
    "import numpy as np\n",
    "import matplotlib.pyplot as plt\n",
    "import warnings\n",
    "warnings.filterwarnings(\"ignore\")"
   ]
  },
  {
   "cell_type": "markdown",
   "metadata": {},
   "source": [
    "# Load data"
   ]
  },
  {
   "cell_type": "code",
   "execution_count": 7,
   "metadata": {},
   "outputs": [],
   "source": [
    "df1 = pd.read_csv('clean1.csv',index_col='Id')\n",
    "df2 = pd.read_csv('clean2.csv',index_col='Id')\n",
    "df3 = pd.read_csv('clean3.csv',index_col='Id')"
   ]
  },
  {
   "cell_type": "code",
   "execution_count": 8,
   "metadata": {},
   "outputs": [
    {
     "name": "stdout",
     "output_type": "stream",
     "text": [
      "<class 'pandas.core.frame.DataFrame'>\n",
      "Int64Index: 100000 entries, 24877594 to 19146917\n",
      "Data columns (total 10 columns):\n",
      "Unnamed: 0     100000 non-null int64\n",
      "abstract       96242 non-null object\n",
      "title          99942 non-null object\n",
      "authors        99943 non-null object\n",
      "journal        100000 non-null object\n",
      "journal_abv    100000 non-null object\n",
      "date           99831 non-null object\n",
      "affiliation    99946 non-null object\n",
      "records        99722 non-null object\n",
      "keywords       28959 non-null object\n",
      "dtypes: int64(1), object(9)\n",
      "memory usage: 8.4+ MB\n"
     ]
    }
   ],
   "source": [
    "df1.info()"
   ]
  },
  {
   "cell_type": "code",
   "execution_count": 9,
   "metadata": {},
   "outputs": [
    {
     "name": "stdout",
     "output_type": "stream",
     "text": [
      "<class 'pandas.core.frame.DataFrame'>\n",
      "Int64Index: 100000 entries, 19144669 to 16708398\n",
      "Data columns (total 10 columns):\n",
      "Unnamed: 0     100000 non-null int64\n",
      "abstract       94422 non-null object\n",
      "title          99979 non-null object\n",
      "authors        99979 non-null object\n",
      "journal        100000 non-null object\n",
      "journal_abv    100000 non-null object\n",
      "date           99995 non-null object\n",
      "affiliation    99979 non-null object\n",
      "records        99976 non-null object\n",
      "keywords       8924 non-null object\n",
      "dtypes: int64(1), object(9)\n",
      "memory usage: 8.4+ MB\n"
     ]
    }
   ],
   "source": [
    "df2.info()"
   ]
  },
  {
   "cell_type": "code",
   "execution_count": 10,
   "metadata": {},
   "outputs": [
    {
     "name": "stdout",
     "output_type": "stream",
     "text": [
      "<class 'pandas.core.frame.DataFrame'>\n",
      "Int64Index: 124059 entries, 16707122 to 1281707\n",
      "Data columns (total 10 columns):\n",
      "Unnamed: 0     124059 non-null int64\n",
      "abstract       106118 non-null object\n",
      "title          123949 non-null object\n",
      "authors        123949 non-null object\n",
      "journal        124059 non-null object\n",
      "journal_abv    124059 non-null object\n",
      "date           123949 non-null object\n",
      "affiliation    123997 non-null object\n",
      "records        123949 non-null object\n",
      "keywords       0 non-null float64\n",
      "dtypes: float64(1), int64(1), object(8)\n",
      "memory usage: 10.4+ MB\n"
     ]
    }
   ],
   "source": [
    "df3.info()"
   ]
  },
  {
   "cell_type": "code",
   "execution_count": 3,
   "metadata": {},
   "outputs": [
    {
     "data": {
      "text/html": [
       "<div>\n",
       "<style scoped>\n",
       "    .dataframe tbody tr th:only-of-type {\n",
       "        vertical-align: middle;\n",
       "    }\n",
       "\n",
       "    .dataframe tbody tr th {\n",
       "        vertical-align: top;\n",
       "    }\n",
       "\n",
       "    .dataframe thead th {\n",
       "        text-align: right;\n",
       "    }\n",
       "</style>\n",
       "<table border=\"1\" class=\"dataframe\">\n",
       "  <thead>\n",
       "    <tr style=\"text-align: right;\">\n",
       "      <th></th>\n",
       "      <th>Unnamed: 0</th>\n",
       "      <th>Id</th>\n",
       "      <th>abstract</th>\n",
       "      <th>title</th>\n",
       "      <th>authors</th>\n",
       "      <th>journal</th>\n",
       "      <th>journal_abv</th>\n",
       "      <th>date</th>\n",
       "      <th>affiliation</th>\n",
       "      <th>records</th>\n",
       "      <th>keywords</th>\n",
       "    </tr>\n",
       "  </thead>\n",
       "  <tbody>\n",
       "    <tr>\n",
       "      <th>0</th>\n",
       "      <td>0</td>\n",
       "      <td>24877594</td>\n",
       "      <td>Abstract    It has been well appreciated tha...</td>\n",
       "      <td>What we know and do not know about the cannab...</td>\n",
       "      <td>['Malfitano AM', 'Basu S', 'Maresz K', 'Bifulc...</td>\n",
       "      <td>Seminars in immunology.</td>\n",
       "      <td>Semin Immunol</td>\n",
       "      <td>2014 Oct;26(5):369-79.</td>\n",
       "      <td>\\n Dipartimento di Medicina e Chirurgia, Unive...</td>\n",
       "      <td>&lt;div class=\"cit\"&gt;\\n &lt;a abstractlink=\"yes\" alse...</td>\n",
       "      <td>KEYWORDS:   Cannabinoid receptor 2; Endocann...</td>\n",
       "    </tr>\n",
       "    <tr>\n",
       "      <th>1</th>\n",
       "      <td>1</td>\n",
       "      <td>16889837</td>\n",
       "      <td>Abstract    Approximately 1% of the genome o...</td>\n",
       "      <td>Allosteric agonists of 7TM receptors: expandi...</td>\n",
       "      <td>['Langmead CJ', 'Christopoulos A']</td>\n",
       "      <td>Trends in pharmacological sciences.</td>\n",
       "      <td>Trends Pharmacol Sci</td>\n",
       "      <td>2006 Sep;27(9):475-81. Epub  2006 Aug 4.</td>\n",
       "      <td>\\n Psychiatry Centre of Excellence for Drug Di...</td>\n",
       "      <td>&lt;div class=\"cit\"&gt;\\n &lt;a abstractlink=\"yes\" alse...</td>\n",
       "      <td>NaN</td>\n",
       "    </tr>\n",
       "    <tr>\n",
       "      <th>2</th>\n",
       "      <td>2</td>\n",
       "      <td>31068464</td>\n",
       "      <td>Abstract    Patients suffering from cholesta...</td>\n",
       "      <td>MRGPRX4 is a G protein-coupled receptor activ...</td>\n",
       "      <td>['Meixiong J', 'Vasavda C', 'Snyder SH', 'Dong...</td>\n",
       "      <td>Proceedings of the National Academy of Science...</td>\n",
       "      <td>Proc Natl Acad Sci U S A</td>\n",
       "      <td>2019 May 21;116(21):10525-10530.</td>\n",
       "      <td>\\n Solomon H. Snyder Department of Neuroscienc...</td>\n",
       "      <td>&lt;div class=\"cit\"&gt;\\n &lt;a abstractlink=\"yes\" alse...</td>\n",
       "      <td>KEYWORDS:   MRGPRX4; bile acids; cholestasis...</td>\n",
       "    </tr>\n",
       "    <tr>\n",
       "      <th>3</th>\n",
       "      <td>3</td>\n",
       "      <td>30610192</td>\n",
       "      <td>Abstract    Alcohol use disorder (AUD) is a ...</td>\n",
       "      <td>Modulation of Gpr39, a G-protein coupled rece...</td>\n",
       "      <td>['Cuzon Carlson VC', 'Ford MM', 'Carlson TL', ...</td>\n",
       "      <td>Neuropsychopharmacology : official publication...</td>\n",
       "      <td>Neuropsychopharmacology</td>\n",
       "      <td>2019 May;44(6):1103-1113.</td>\n",
       "      <td>\\n Division of Neuroscience, Oregon National P...</td>\n",
       "      <td>&lt;div class=\"cit\"&gt;\\n &lt;a abstractlink=\"yes\" alse...</td>\n",
       "      <td>NaN</td>\n",
       "    </tr>\n",
       "    <tr>\n",
       "      <th>4</th>\n",
       "      <td>4</td>\n",
       "      <td>30289386</td>\n",
       "      <td>Abstract    Activation of heterotrimeric G p...</td>\n",
       "      <td>Simulation of spontaneous G protein activatio...</td>\n",
       "      <td>['Sun X', 'Singh S', 'Blumer KJ', 'Bowman GR']</td>\n",
       "      <td>eLife.</td>\n",
       "      <td>Elife</td>\n",
       "      <td>2018 Oct 5;7. pii: e38465.</td>\n",
       "      <td>\\n Department of Biochemistry and Molecular Bi...</td>\n",
       "      <td>&lt;div class=\"cit\"&gt;\\n &lt;a abstractlink=\"yes\" alse...</td>\n",
       "      <td>KEYWORDS:   G proteins; Markov state models;...</td>\n",
       "    </tr>\n",
       "  </tbody>\n",
       "</table>\n",
       "</div>"
      ],
      "text/plain": [
       "   Unnamed: 0        Id                                           abstract  \\\n",
       "0           0  24877594    Abstract    It has been well appreciated tha...   \n",
       "1           1  16889837    Abstract    Approximately 1% of the genome o...   \n",
       "2           2  31068464    Abstract    Patients suffering from cholesta...   \n",
       "3           3  30610192    Abstract    Alcohol use disorder (AUD) is a ...   \n",
       "4           4  30289386    Abstract    Activation of heterotrimeric G p...   \n",
       "\n",
       "                                               title  \\\n",
       "0   What we know and do not know about the cannab...   \n",
       "1   Allosteric agonists of 7TM receptors: expandi...   \n",
       "2   MRGPRX4 is a G protein-coupled receptor activ...   \n",
       "3   Modulation of Gpr39, a G-protein coupled rece...   \n",
       "4   Simulation of spontaneous G protein activatio...   \n",
       "\n",
       "                                             authors  \\\n",
       "0  ['Malfitano AM', 'Basu S', 'Maresz K', 'Bifulc...   \n",
       "1                 ['Langmead CJ', 'Christopoulos A']   \n",
       "2  ['Meixiong J', 'Vasavda C', 'Snyder SH', 'Dong...   \n",
       "3  ['Cuzon Carlson VC', 'Ford MM', 'Carlson TL', ...   \n",
       "4     ['Sun X', 'Singh S', 'Blumer KJ', 'Bowman GR']   \n",
       "\n",
       "                                             journal  \\\n",
       "0                            Seminars in immunology.   \n",
       "1                Trends in pharmacological sciences.   \n",
       "2  Proceedings of the National Academy of Science...   \n",
       "3  Neuropsychopharmacology : official publication...   \n",
       "4                                             eLife.   \n",
       "\n",
       "                journal_abv                                       date  \\\n",
       "0             Semin Immunol                     2014 Oct;26(5):369-79.   \n",
       "1      Trends Pharmacol Sci   2006 Sep;27(9):475-81. Epub  2006 Aug 4.   \n",
       "2  Proc Natl Acad Sci U S A           2019 May 21;116(21):10525-10530.   \n",
       "3   Neuropsychopharmacology                  2019 May;44(6):1103-1113.   \n",
       "4                     Elife                 2018 Oct 5;7. pii: e38465.   \n",
       "\n",
       "                                         affiliation  \\\n",
       "0  \\n Dipartimento di Medicina e Chirurgia, Unive...   \n",
       "1  \\n Psychiatry Centre of Excellence for Drug Di...   \n",
       "2  \\n Solomon H. Snyder Department of Neuroscienc...   \n",
       "3  \\n Division of Neuroscience, Oregon National P...   \n",
       "4  \\n Department of Biochemistry and Molecular Bi...   \n",
       "\n",
       "                                             records  \\\n",
       "0  <div class=\"cit\">\\n <a abstractlink=\"yes\" alse...   \n",
       "1  <div class=\"cit\">\\n <a abstractlink=\"yes\" alse...   \n",
       "2  <div class=\"cit\">\\n <a abstractlink=\"yes\" alse...   \n",
       "3  <div class=\"cit\">\\n <a abstractlink=\"yes\" alse...   \n",
       "4  <div class=\"cit\">\\n <a abstractlink=\"yes\" alse...   \n",
       "\n",
       "                                            keywords  \n",
       "0    KEYWORDS:   Cannabinoid receptor 2; Endocann...  \n",
       "1                                                NaN  \n",
       "2    KEYWORDS:   MRGPRX4; bile acids; cholestasis...  \n",
       "3                                                NaN  \n",
       "4    KEYWORDS:   G proteins; Markov state models;...  "
      ]
     },
     "execution_count": 3,
     "metadata": {},
     "output_type": "execute_result"
    }
   ],
   "source": [
    "df1.head()"
   ]
  },
  {
   "cell_type": "markdown",
   "metadata": {},
   "source": [
    "# Extract abstract + title, year, keyword,affiliation"
   ]
  },
  {
   "cell_type": "code",
   "execution_count": 134,
   "metadata": {},
   "outputs": [],
   "source": [
    "df = pd.concat([df1[['abstract','title','date','affiliation','keywords']],\n",
    "               df2[['abstract','title','date','affiliation','keywords']],\n",
    "                df3[['abstract','title','date','affiliation','keywords']]])"
   ]
  },
  {
   "cell_type": "code",
   "execution_count": 144,
   "metadata": {},
   "outputs": [
    {
     "name": "stdout",
     "output_type": "stream",
     "text": [
      "<class 'pandas.core.frame.DataFrame'>\n",
      "Int64Index: 324059 entries, 24877594 to 1281707\n",
      "Data columns (total 5 columns):\n",
      "abstract       296782 non-null object\n",
      "title          323870 non-null object\n",
      "date           323775 non-null object\n",
      "affiliation    323922 non-null object\n",
      "keywords       37883 non-null object\n",
      "dtypes: object(5)\n",
      "memory usage: 14.8+ MB\n"
     ]
    },
    {
     "data": {
      "text/plain": [
       "((324059, 5), None)"
      ]
     },
     "execution_count": 144,
     "metadata": {},
     "output_type": "execute_result"
    }
   ],
   "source": [
    "df.shape, df.info()"
   ]
  },
  {
   "cell_type": "code",
   "execution_count": 143,
   "metadata": {},
   "outputs": [
    {
     "name": "stdout",
     "output_type": "stream",
     "text": [
      "<class 'pandas.core.frame.DataFrame'>\n",
      "Int64Index: 323870 entries, 24877594 to 1281707\n",
      "Data columns (total 5 columns):\n",
      "abstract       296781 non-null object\n",
      "title          323870 non-null object\n",
      "date           323703 non-null object\n",
      "affiliation    323870 non-null object\n",
      "keywords       37845 non-null object\n",
      "dtypes: object(5)\n",
      "memory usage: 14.8+ MB\n"
     ]
    }
   ],
   "source": [
    "# drop columns with no title information\n",
    "dfs = df.dropna(subset=['title'])\n",
    "dfs.info()"
   ]
  },
  {
   "cell_type": "code",
   "execution_count": 163,
   "metadata": {},
   "outputs": [],
   "source": [
    "# fill na with empty str and concat title with abstract to text column\n",
    "dfs['text'] = dfs.title\n",
    "dfs = dfs.fillna('')\n",
    "dfs.text = dfs.text + dfs.abstract"
   ]
  },
  {
   "cell_type": "code",
   "execution_count": 238,
   "metadata": {},
   "outputs": [],
   "source": [
    "# extract year\n",
    "def extract_year(text):\n",
    "    if len(text) > 3:\n",
    "        dates = text.split(';')\n",
    "        for x in dates[0].split():\n",
    "            try:\n",
    "                year = str(int(x))\n",
    "                return year\n",
    "            except:\n",
    "                continue"
   ]
  },
  {
   "cell_type": "code",
   "execution_count": 240,
   "metadata": {},
   "outputs": [],
   "source": [
    "dfs['year'] = dfs.date.apply(extract_year)"
   ]
  },
  {
   "cell_type": "code",
   "execution_count": 222,
   "metadata": {},
   "outputs": [],
   "source": [
    "year = dfs.year.value_counts(ascending = True).sort_index()"
   ]
  },
  {
   "cell_type": "code",
   "execution_count": 228,
   "metadata": {},
   "outputs": [
    {
     "data": {
      "text/plain": [
       "(1945, 2018)"
      ]
     },
     "execution_count": 228,
     "metadata": {},
     "output_type": "execute_result"
    },
    {
     "data": {
      "image/png": "[encoded data removed]",
      "text/plain": [
       "<Figure size 432x288 with 1 Axes>"
      ]
     },
     "metadata": {
      "needs_background": "light"
     },
     "output_type": "display_data"
    }
   ],
   "source": [
    "plt.plot(year.index,year)\n",
    "plt.xlim(1945,2018)"
   ]
  },
  {
   "cell_type": "code",
   "execution_count": 226,
   "metadata": {},
   "outputs": [
    {
     "data": {
      "text/plain": [
       "Float64Index([1946.0, 1948.0, 1949.0, 1950.0, 1951.0, 1952.0, 1953.0, 1954.0,\n",
       "              1955.0, 1956.0, 1957.0, 1958.0, 1959.0, 1960.0, 1961.0, 1962.0,\n",
       "              1963.0, 1964.0, 1965.0, 1967.0, 1968.0, 1969.0, 1970.0, 1971.0,\n",
       "              1972.0, 1973.0, 1974.0, 1975.0, 1976.0, 1977.0, 1978.0, 1979.0,\n",
       "              1980.0, 1981.0, 1982.0, 1983.0, 1984.0, 1985.0, 1986.0, 1987.0,\n",
       "              1988.0, 1989.0, 1990.0, 1991.0, 1992.0, 1993.0, 1994.0, 1995.0,\n",
       "              1996.0, 1997.0, 1998.0, 1999.0, 2000.0, 2001.0, 2002.0, 2003.0,\n",
       "              2004.0, 2005.0, 2006.0, 2007.0, 2008.0, 2009.0, 2010.0, 2011.0,\n",
       "              2012.0, 2013.0, 2014.0, 2015.0, 2016.0, 2017.0, 2018.0, 2019.0],\n",
       "             dtype='float64')"
      ]
     },
     "execution_count": 226,
     "metadata": {},
     "output_type": "execute_result"
    }
   ],
   "source": [
    "year.index"
   ]
  },
  {
   "cell_type": "code",
   "execution_count": 241,
   "metadata": {},
   "outputs": [
    {
     "data": {
      "text/html": [
       "<div>\n",
       "<style scoped>\n",
       "    .dataframe tbody tr th:only-of-type {\n",
       "        vertical-align: middle;\n",
       "    }\n",
       "\n",
       "    .dataframe tbody tr th {\n",
       "        vertical-align: top;\n",
       "    }\n",
       "\n",
       "    .dataframe thead th {\n",
       "        text-align: right;\n",
       "    }\n",
       "</style>\n",
       "<table border=\"1\" class=\"dataframe\">\n",
       "  <thead>\n",
       "    <tr style=\"text-align: right;\">\n",
       "      <th></th>\n",
       "      <th>abstract</th>\n",
       "      <th>title</th>\n",
       "      <th>date</th>\n",
       "      <th>affiliation</th>\n",
       "      <th>keywords</th>\n",
       "      <th>text</th>\n",
       "      <th>year</th>\n",
       "    </tr>\n",
       "    <tr>\n",
       "      <th>Id</th>\n",
       "      <th></th>\n",
       "      <th></th>\n",
       "      <th></th>\n",
       "      <th></th>\n",
       "      <th></th>\n",
       "      <th></th>\n",
       "      <th></th>\n",
       "    </tr>\n",
       "  </thead>\n",
       "  <tbody>\n",
       "    <tr>\n",
       "      <th>24877594</th>\n",
       "      <td>Abstract    It has been well appreciated tha...</td>\n",
       "      <td>What we know and do not know about the cannab...</td>\n",
       "      <td>2014 Oct;26(5):369-79.</td>\n",
       "      <td>\\n Dipartimento di Medicina e Chirurgia, Unive...</td>\n",
       "      <td>KEYWORDS:   Cannabinoid receptor 2; Endocann...</td>\n",
       "      <td>What we know and do not know about the cannab...</td>\n",
       "      <td>2014</td>\n",
       "    </tr>\n",
       "    <tr>\n",
       "      <th>16889837</th>\n",
       "      <td>Abstract    Approximately 1% of the genome o...</td>\n",
       "      <td>Allosteric agonists of 7TM receptors: expandi...</td>\n",
       "      <td>2006 Sep;27(9):475-81. Epub  2006 Aug 4.</td>\n",
       "      <td>\\n Psychiatry Centre of Excellence for Drug Di...</td>\n",
       "      <td></td>\n",
       "      <td>Allosteric agonists of 7TM receptors: expandi...</td>\n",
       "      <td>2006</td>\n",
       "    </tr>\n",
       "    <tr>\n",
       "      <th>31068464</th>\n",
       "      <td>Abstract    Patients suffering from cholesta...</td>\n",
       "      <td>MRGPRX4 is a G protein-coupled receptor activ...</td>\n",
       "      <td>2019 May 21;116(21):10525-10530.</td>\n",
       "      <td>\\n Solomon H. Snyder Department of Neuroscienc...</td>\n",
       "      <td>KEYWORDS:   MRGPRX4; bile acids; cholestasis...</td>\n",
       "      <td>MRGPRX4 is a G protein-coupled receptor activ...</td>\n",
       "      <td>2019</td>\n",
       "    </tr>\n",
       "    <tr>\n",
       "      <th>30610192</th>\n",
       "      <td>Abstract    Alcohol use disorder (AUD) is a ...</td>\n",
       "      <td>Modulation of Gpr39, a G-protein coupled rece...</td>\n",
       "      <td>2019 May;44(6):1103-1113.</td>\n",
       "      <td>\\n Division of Neuroscience, Oregon National P...</td>\n",
       "      <td></td>\n",
       "      <td>Modulation of Gpr39, a G-protein coupled rece...</td>\n",
       "      <td>2019</td>\n",
       "    </tr>\n",
       "    <tr>\n",
       "      <th>30289386</th>\n",
       "      <td>Abstract    Activation of heterotrimeric G p...</td>\n",
       "      <td>Simulation of spontaneous G protein activatio...</td>\n",
       "      <td>2018 Oct 5;7. pii: e38465.</td>\n",
       "      <td>\\n Department of Biochemistry and Molecular Bi...</td>\n",
       "      <td>KEYWORDS:   G proteins; Markov state models;...</td>\n",
       "      <td>Simulation of spontaneous G protein activatio...</td>\n",
       "      <td>2018</td>\n",
       "    </tr>\n",
       "  </tbody>\n",
       "</table>\n",
       "</div>"
      ],
      "text/plain": [
       "                                                   abstract  \\\n",
       "Id                                                            \n",
       "24877594    Abstract    It has been well appreciated tha...   \n",
       "16889837    Abstract    Approximately 1% of the genome o...   \n",
       "31068464    Abstract    Patients suffering from cholesta...   \n",
       "30610192    Abstract    Alcohol use disorder (AUD) is a ...   \n",
       "30289386    Abstract    Activation of heterotrimeric G p...   \n",
       "\n",
       "                                                      title  \\\n",
       "Id                                                            \n",
       "24877594   What we know and do not know about the cannab...   \n",
       "16889837   Allosteric agonists of 7TM receptors: expandi...   \n",
       "31068464   MRGPRX4 is a G protein-coupled receptor activ...   \n",
       "30610192   Modulation of Gpr39, a G-protein coupled rece...   \n",
       "30289386   Simulation of spontaneous G protein activatio...   \n",
       "\n",
       "                                               date  \\\n",
       "Id                                                    \n",
       "24877594                     2014 Oct;26(5):369-79.   \n",
       "16889837   2006 Sep;27(9):475-81. Epub  2006 Aug 4.   \n",
       "31068464           2019 May 21;116(21):10525-10530.   \n",
       "30610192                  2019 May;44(6):1103-1113.   \n",
       "30289386                 2018 Oct 5;7. pii: e38465.   \n",
       "\n",
       "                                                affiliation  \\\n",
       "Id                                                            \n",
       "24877594  \\n Dipartimento di Medicina e Chirurgia, Unive...   \n",
       "16889837  \\n Psychiatry Centre of Excellence for Drug Di...   \n",
       "31068464  \\n Solomon H. Snyder Department of Neuroscienc...   \n",
       "30610192  \\n Division of Neuroscience, Oregon National P...   \n",
       "30289386  \\n Department of Biochemistry and Molecular Bi...   \n",
       "\n",
       "                                                   keywords  \\\n",
       "Id                                                            \n",
       "24877594    KEYWORDS:   Cannabinoid receptor 2; Endocann...   \n",
       "16889837                                                      \n",
       "31068464    KEYWORDS:   MRGPRX4; bile acids; cholestasis...   \n",
       "30610192                                                      \n",
       "30289386    KEYWORDS:   G proteins; Markov state models;...   \n",
       "\n",
       "                                                       text  year  \n",
       "Id                                                                 \n",
       "24877594   What we know and do not know about the cannab...  2014  \n",
       "16889837   Allosteric agonists of 7TM receptors: expandi...  2006  \n",
       "31068464   MRGPRX4 is a G protein-coupled receptor activ...  2019  \n",
       "30610192   Modulation of Gpr39, a G-protein coupled rece...  2019  \n",
       "30289386   Simulation of spontaneous G protein activatio...  2018  "
      ]
     },
     "execution_count": 241,
     "metadata": {},
     "output_type": "execute_result"
    }
   ],
   "source": [
    "dfs.head()"
   ]
  },
  {
   "cell_type": "markdown",
   "metadata": {},
   "source": [
    "# Keyword distribtuion"
   ]
  },
  {
   "cell_type": "code",
   "execution_count": 378,
   "metadata": {},
   "outputs": [
    {
     "data": {
      "text/plain": [
       "(323870, 2)"
      ]
     },
     "execution_count": 378,
     "metadata": {},
     "output_type": "execute_result"
    }
   ],
   "source": [
    "dfc = dfs[['keywords','year']].dropna(subset=['keywords'])\n",
    "dfc.shape"
   ]
  },
  {
   "cell_type": "code",
   "execution_count": 379,
   "metadata": {},
   "outputs": [],
   "source": [
    "# get keywords list\n",
    "def extract_keywords(x):\n",
    "    \n",
    "    if len(x) > 5: #not na\n",
    "        text = x.split(':')[1].split(';')\n",
    "        text_list = [' '.join(x.split()) for x in text]\n",
    "        result = [x.lower() for x in text_list]\n",
    "        return result\n",
    "dfc.keywords = dfc.keywords.apply(extract_keywords)\n"
   ]
  },
  {
   "cell_type": "code",
   "execution_count": 417,
   "metadata": {},
   "outputs": [
    {
     "data": {
      "text/html": [
       "<div>\n",
       "<style scoped>\n",
       "    .dataframe tbody tr th:only-of-type {\n",
       "        vertical-align: middle;\n",
       "    }\n",
       "\n",
       "    .dataframe tbody tr th {\n",
       "        vertical-align: top;\n",
       "    }\n",
       "\n",
       "    .dataframe thead th {\n",
       "        text-align: right;\n",
       "    }\n",
       "</style>\n",
       "<table border=\"1\" class=\"dataframe\">\n",
       "  <thead>\n",
       "    <tr style=\"text-align: right;\">\n",
       "      <th></th>\n",
       "      <th>abstract</th>\n",
       "      <th>title</th>\n",
       "      <th>date</th>\n",
       "      <th>affiliation</th>\n",
       "      <th>keywords</th>\n",
       "      <th>text</th>\n",
       "      <th>year</th>\n",
       "    </tr>\n",
       "    <tr>\n",
       "      <th>Id</th>\n",
       "      <th></th>\n",
       "      <th></th>\n",
       "      <th></th>\n",
       "      <th></th>\n",
       "      <th></th>\n",
       "      <th></th>\n",
       "      <th></th>\n",
       "    </tr>\n",
       "  </thead>\n",
       "  <tbody>\n",
       "    <tr>\n",
       "      <th>24877594</th>\n",
       "      <td>Abstract    It has been well appreciated tha...</td>\n",
       "      <td>What we know and do not know about the cannab...</td>\n",
       "      <td>2014 Oct;26(5):369-79.</td>\n",
       "      <td>\\n Dipartimento di Medicina e Chirurgia, Unive...</td>\n",
       "      <td>[cannabinoid receptor 2, endocannabinoid, immu...</td>\n",
       "      <td>What we know and do not know about the cannab...</td>\n",
       "      <td>2014</td>\n",
       "    </tr>\n",
       "    <tr>\n",
       "      <th>16889837</th>\n",
       "      <td>Abstract    Approximately 1% of the genome o...</td>\n",
       "      <td>Allosteric agonists of 7TM receptors: expandi...</td>\n",
       "      <td>2006 Sep;27(9):475-81. Epub  2006 Aug 4.</td>\n",
       "      <td>\\n Psychiatry Centre of Excellence for Drug Di...</td>\n",
       "      <td>None</td>\n",
       "      <td>Allosteric agonists of 7TM receptors: expandi...</td>\n",
       "      <td>2006</td>\n",
       "    </tr>\n",
       "    <tr>\n",
       "      <th>31068464</th>\n",
       "      <td>Abstract    Patients suffering from cholesta...</td>\n",
       "      <td>MRGPRX4 is a G protein-coupled receptor activ...</td>\n",
       "      <td>2019 May 21;116(21):10525-10530.</td>\n",
       "      <td>\\n Solomon H. Snyder Department of Neuroscienc...</td>\n",
       "      <td>[mrgprx4, bile acids, cholestasis, itch, pruri...</td>\n",
       "      <td>MRGPRX4 is a G protein-coupled receptor activ...</td>\n",
       "      <td>2019</td>\n",
       "    </tr>\n",
       "    <tr>\n",
       "      <th>30610192</th>\n",
       "      <td>Abstract    Alcohol use disorder (AUD) is a ...</td>\n",
       "      <td>Modulation of Gpr39, a G-protein coupled rece...</td>\n",
       "      <td>2019 May;44(6):1103-1113.</td>\n",
       "      <td>\\n Division of Neuroscience, Oregon National P...</td>\n",
       "      <td>None</td>\n",
       "      <td>Modulation of Gpr39, a G-protein coupled rece...</td>\n",
       "      <td>2019</td>\n",
       "    </tr>\n",
       "    <tr>\n",
       "      <th>30289386</th>\n",
       "      <td>Abstract    Activation of heterotrimeric G p...</td>\n",
       "      <td>Simulation of spontaneous G protein activatio...</td>\n",
       "      <td>2018 Oct 5;7. pii: e38465.</td>\n",
       "      <td>\\n Department of Biochemistry and Molecular Bi...</td>\n",
       "      <td>[g proteins, markov state models, allostery, c...</td>\n",
       "      <td>Simulation of spontaneous G protein activatio...</td>\n",
       "      <td>2018</td>\n",
       "    </tr>\n",
       "  </tbody>\n",
       "</table>\n",
       "</div>"
      ],
      "text/plain": [
       "                                                   abstract  \\\n",
       "Id                                                            \n",
       "24877594    Abstract    It has been well appreciated tha...   \n",
       "16889837    Abstract    Approximately 1% of the genome o...   \n",
       "31068464    Abstract    Patients suffering from cholesta...   \n",
       "30610192    Abstract    Alcohol use disorder (AUD) is a ...   \n",
       "30289386    Abstract    Activation of heterotrimeric G p...   \n",
       "\n",
       "                                                      title  \\\n",
       "Id                                                            \n",
       "24877594   What we know and do not know about the cannab...   \n",
       "16889837   Allosteric agonists of 7TM receptors: expandi...   \n",
       "31068464   MRGPRX4 is a G protein-coupled receptor activ...   \n",
       "30610192   Modulation of Gpr39, a G-protein coupled rece...   \n",
       "30289386   Simulation of spontaneous G protein activatio...   \n",
       "\n",
       "                                               date  \\\n",
       "Id                                                    \n",
       "24877594                     2014 Oct;26(5):369-79.   \n",
       "16889837   2006 Sep;27(9):475-81. Epub  2006 Aug 4.   \n",
       "31068464           2019 May 21;116(21):10525-10530.   \n",
       "30610192                  2019 May;44(6):1103-1113.   \n",
       "30289386                 2018 Oct 5;7. pii: e38465.   \n",
       "\n",
       "                                                affiliation  \\\n",
       "Id                                                            \n",
       "24877594  \\n Dipartimento di Medicina e Chirurgia, Unive...   \n",
       "16889837  \\n Psychiatry Centre of Excellence for Drug Di...   \n",
       "31068464  \\n Solomon H. Snyder Department of Neuroscienc...   \n",
       "30610192  \\n Division of Neuroscience, Oregon National P...   \n",
       "30289386  \\n Department of Biochemistry and Molecular Bi...   \n",
       "\n",
       "                                                   keywords  \\\n",
       "Id                                                            \n",
       "24877594  [cannabinoid receptor 2, endocannabinoid, immu...   \n",
       "16889837                                               None   \n",
       "31068464  [mrgprx4, bile acids, cholestasis, itch, pruri...   \n",
       "30610192                                               None   \n",
       "30289386  [g proteins, markov state models, allostery, c...   \n",
       "\n",
       "                                                       text  year  \n",
       "Id                                                                 \n",
       "24877594   What we know and do not know about the cannab...  2014  \n",
       "16889837   Allosteric agonists of 7TM receptors: expandi...  2006  \n",
       "31068464   MRGPRX4 is a G protein-coupled receptor activ...  2019  \n",
       "30610192   Modulation of Gpr39, a G-protein coupled rece...  2019  \n",
       "30289386   Simulation of spontaneous G protein activatio...  2018  "
      ]
     },
     "execution_count": 417,
     "metadata": {},
     "output_type": "execute_result"
    }
   ],
   "source": [
    "dfs.keywords = dfc.keywords\n",
    "dfs.head()"
   ]
  },
  {
   "cell_type": "code",
   "execution_count": 380,
   "metadata": {},
   "outputs": [
    {
     "data": {
      "text/plain": [
       "Id\n",
       "24877594    [cannabinoid receptor 2, endocannabinoid, immu...\n",
       "16889837                                                 None\n",
       "31068464    [mrgprx4, bile acids, cholestasis, itch, pruri...\n",
       "30610192                                                 None\n",
       "30289386    [g proteins, markov state models, allostery, c...\n",
       "Name: keywords, dtype: object"
      ]
     },
     "execution_count": 380,
     "metadata": {},
     "output_type": "execute_result"
    }
   ],
   "source": [
    "dfc.keywords.head()"
   ]
  },
  {
   "cell_type": "code",
   "execution_count": 390,
   "metadata": {},
   "outputs": [],
   "source": [
    "keywords = dfc.keywords.dropna()"
   ]
  },
  {
   "cell_type": "code",
   "execution_count": 391,
   "metadata": {},
   "outputs": [],
   "source": [
    "# flatten list\n",
    "keywords_list = []\n",
    "for i in range(keywords.shape[0]):\n",
    "    if type(keywords.iloc[i]) == list:\n",
    "        keywords_list += keywords.iloc[i]"
   ]
  },
  {
   "cell_type": "code",
   "execution_count": 392,
   "metadata": {},
   "outputs": [],
   "source": [
    "from collections import Counter"
   ]
  },
  {
   "cell_type": "code",
   "execution_count": 402,
   "metadata": {},
   "outputs": [],
   "source": [
    "# get word counts\n",
    "c = Counter(keywords_list)"
   ]
  },
  {
   "cell_type": "code",
   "execution_count": 403,
   "metadata": {},
   "outputs": [],
   "source": [
    "# sort dictionary by value\n",
    "import operator\n",
    "sorted_c = sorted(c.items(), key=operator.itemgetter(1))"
   ]
  },
  {
   "cell_type": "code",
   "execution_count": 404,
   "metadata": {},
   "outputs": [],
   "source": [
    "x = [i[0] for i in sorted_c] # keyword list\n",
    "y = [i[1] for i in sorted_c] # keyword counts"
   ]
  },
  {
   "cell_type": "code",
   "execution_count": 405,
   "metadata": {},
   "outputs": [
    {
     "data": {
      "text/plain": [
       "(68113, 68113, 68113)"
      ]
     },
     "execution_count": 405,
     "metadata": {},
     "output_type": "execute_result"
    }
   ],
   "source": [
    "len(x),len(y),len(sorted_c) # total keywords"
   ]
  },
  {
   "cell_type": "code",
   "execution_count": 406,
   "metadata": {},
   "outputs": [
    {
     "data": {
      "image/png": "[encoded data removed]",
      "text/plain": [
       "<Figure size 432x288 with 1 Axes>"
      ]
     },
     "metadata": {
      "needs_background": "light"
     },
     "output_type": "display_data"
    }
   ],
   "source": [
    "# keyword count distribution\n",
    "plt.hist(y,bins=[1,2,3,4,5,6,7,8,9,10])\n",
    "plt.xlim(0,10)\n",
    "plt.show()"
   ]
  },
  {
   "cell_type": "code",
   "execution_count": 407,
   "metadata": {},
   "outputs": [
    {
     "name": "stdout",
     "output_type": "stream",
     "text": [
      "['cancer', 'signal transduction', 'pain', 'microglia', 'rat', 'g protein-coupled receptor (gpcr)', 'hypertension', 'schizophrenia', 'anxiety', 'diabetes', 'depression', 'hippocampus', 'apoptosis', 'cxcr4', 'obesity', 'serotonin', 'g protein-coupled receptor', 'dopamine', 'gpcr', 'inflammation']\n"
     ]
    }
   ],
   "source": [
    "print(x[-20:]) # top 20 keywords"
   ]
  },
  {
   "cell_type": "code",
   "execution_count": 408,
   "metadata": {},
   "outputs": [],
   "source": [
    "dfy = dfc.dropna(subset=['keywords'])"
   ]
  },
  {
   "cell_type": "code",
   "execution_count": 409,
   "metadata": {},
   "outputs": [
    {
     "name": "stdout",
     "output_type": "stream",
     "text": [
      "<class 'pandas.core.frame.DataFrame'>\n",
      "Int64Index: 37845 entries, 24877594 to 18167517\n",
      "Data columns (total 2 columns):\n",
      "keywords    37845 non-null object\n",
      "year        37845 non-null object\n",
      "dtypes: object(2)\n",
      "memory usage: 887.0+ KB\n"
     ]
    }
   ],
   "source": [
    "dfy.info()"
   ]
  },
  {
   "cell_type": "code",
   "execution_count": 410,
   "metadata": {},
   "outputs": [],
   "source": [
    "def keyword_year(word,data):\n",
    "    year = []\n",
    "    for i in range(data.shape[0]):\n",
    "        if word in data.keywords.iloc[i]:\n",
    "            year.append(data.year.iloc[i])\n",
    "    return year\n"
   ]
  },
  {
   "cell_type": "code",
   "execution_count": 411,
   "metadata": {},
   "outputs": [],
   "source": [
    "def plot_keyword(data,*keywords):\n",
    "    temp = []\n",
    "    for word in keywords:\n",
    "        temp += keyword_year(word,data)\n",
    "    keyword_count = Counter(temp)\n",
    "    sorted_count = sorted(keyword_count.items(), key=operator.itemgetter(1))\n",
    "    x = [sorted_count[i][0] for i in range(len(sorted_count))]\n",
    "    y = [sorted_count[i][1] for i in range(len(sorted_count))]\n",
    "    plt.plot(x,y)\n",
    "    title = 'study trends for: ' + word\n",
    "    plt.title(title)"
   ]
  },
  {
   "cell_type": "code",
   "execution_count": 412,
   "metadata": {},
   "outputs": [
    {
     "data": {
      "image/png": "[encoded data removed]",
      "text/plain": [
       "<Figure size 432x288 with 1 Axes>"
      ]
     },
     "metadata": {
      "needs_background": "light"
     },
     "output_type": "display_data"
    }
   ],
   "source": [
    "plot_keyword(dfy,'obesity')"
   ]
  },
  {
   "cell_type": "code",
   "execution_count": 413,
   "metadata": {},
   "outputs": [
    {
     "data": {
      "image/png": "[encoded data removed]",
      "text/plain": [
       "<Figure size 432x288 with 1 Axes>"
      ]
     },
     "metadata": {
      "needs_background": "light"
     },
     "output_type": "display_data"
    }
   ],
   "source": [
    "plot_keyword(dfy,'serotonin')"
   ]
  },
  {
   "cell_type": "code",
   "execution_count": 414,
   "metadata": {},
   "outputs": [
    {
     "data": {
      "image/png": "[encoded data removed]",
      "text/plain": [
       "<Figure size 432x288 with 1 Axes>"
      ]
     },
     "metadata": {
      "needs_background": "light"
     },
     "output_type": "display_data"
    }
   ],
   "source": [
    "plot_keyword(dfy,'cxcr4')"
   ]
  },
  {
   "cell_type": "code",
   "execution_count": 415,
   "metadata": {},
   "outputs": [
    {
     "data": {
      "image/png": "[encoded data removed]",
      "text/plain": [
       "<Figure size 432x288 with 1 Axes>"
      ]
     },
     "metadata": {
      "needs_background": "light"
     },
     "output_type": "display_data"
    }
   ],
   "source": [
    "plot_keyword(dfy,'dopamine')"
   ]
  },
  {
   "cell_type": "code",
   "execution_count": 416,
   "metadata": {},
   "outputs": [
    {
     "data": {
      "text/plain": [
       "('1998', '2019')"
      ]
     },
     "execution_count": 416,
     "metadata": {},
     "output_type": "execute_result"
    }
   ],
   "source": [
    "dfy.year.min(),dfy.year.max()"
   ]
  },
  {
   "cell_type": "markdown",
   "metadata": {},
   "source": [
    "# Clean affiliation"
   ]
  },
  {
   "cell_type": "code",
   "execution_count": 419,
   "metadata": {},
   "outputs": [
    {
     "data": {
      "text/plain": [
       "'\\n Dipartimento di Medicina e Chirurgia, Università di Salerno Facoltà di Medicina, Baronissi Campus, Baronissi 84081, (SA), Italy; Dipartimento di Farmacia, Università di Salerno, Fisciano 84084, (SA), Italy.\\n<'"
      ]
     },
     "execution_count": 419,
     "metadata": {},
     "output_type": "execute_result"
    }
   ],
   "source": [
    "dfs.affiliation.iloc[0]"
   ]
  },
  {
   "cell_type": "code",
   "execution_count": 420,
   "metadata": {},
   "outputs": [
    {
     "data": {
      "text/plain": [
       "'\\n Psychiatry Centre of Excellence for Drug Discovery, GlaxoSmithKline, Third Avenue, Harlow, Essex CM19 5AW, UK. christopher.j.langmead@gsk.com\\n'"
      ]
     },
     "execution_count": 420,
     "metadata": {},
     "output_type": "execute_result"
    }
   ],
   "source": [
    "dfs.affiliation.iloc[1]"
   ]
  },
  {
   "cell_type": "code",
   "execution_count": 421,
   "metadata": {},
   "outputs": [
    {
     "data": {
      "text/plain": [
       "'\\n Solomon H. Snyder Department of Neuroscience, The Johns Hopkins University School of Medicine, Baltimore, MD 21205.\\n<'"
      ]
     },
     "execution_count": 421,
     "metadata": {},
     "output_type": "execute_result"
    }
   ],
   "source": [
    "dfs.affiliation.iloc[2]"
   ]
  },
  {
   "cell_type": "code",
   "execution_count": 422,
   "metadata": {},
   "outputs": [
    {
     "data": {
      "text/plain": [
       "'\\n Division of Neuroscience, Oregon National Primate Research Center, Oregon Health and Sciences University, Beaverton, Oregon, USA.\\n<'"
      ]
     },
     "execution_count": 422,
     "metadata": {},
     "output_type": "execute_result"
    }
   ],
   "source": [
    "dfs.affiliation.iloc[3]"
   ]
  },
  {
   "cell_type": "code",
   "execution_count": null,
   "metadata": {},
   "outputs": [],
   "source": []
  },
  {
   "cell_type": "code",
   "execution_count": null,
   "metadata": {},
   "outputs": [],
   "source": []
  },
  {
   "cell_type": "code",
   "execution_count": 424,
   "metadata": {},
   "outputs": [],
   "source": [
    "dfs[['year','text','keywords']].to_csv('clean_year_text_keywords.csv')"
   ]
  },
  {
   "cell_type": "code",
   "execution_count": null,
   "metadata": {},
   "outputs": [],
   "source": []
  }
 ],
 "metadata": {
  "kernelspec": {
   "display_name": "Python 3",
   "language": "python",
   "name": "python3"
  },
  "language_info": {
   "codemirror_mode": {
    "name": "ipython",
    "version": 3
   },
   "file_extension": ".py",
   "mimetype": "text/x-python",
   "name": "python",
   "nbconvert_exporter": "python",
   "pygments_lexer": "ipython3",
   "version": "3.7.3"
  }
 },
 "nbformat": 4,
 "nbformat_minor": 2
}
