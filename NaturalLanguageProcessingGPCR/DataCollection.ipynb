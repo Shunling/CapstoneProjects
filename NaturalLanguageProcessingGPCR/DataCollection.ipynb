{
 "cells": [
  {
   "cell_type": "markdown",
   "metadata": {},
   "source": [
    "# Capstone Project 2: GPCR research trends\n",
    "## Natural language processing of a domain specific literature"
   ]
  },
  {
   "cell_type": "code",
   "execution_count": 1,
   "metadata": {},
   "outputs": [],
   "source": [
    "import json\n",
    "import pandas as pd\n",
    "from datetime import datetime\n",
    "import requests, sys, webbrowser, bs4\n",
    "import re\n",
    "from Bio import Entrez\n",
    "import numpy as np\n",
    "import glob2"
   ]
  },
  {
   "cell_type": "markdown",
   "metadata": {},
   "source": [
    "## Get all NCBI literature pubmed IDs"
   ]
  },
  {
   "cell_type": "code",
   "execution_count": 4,
   "metadata": {},
   "outputs": [],
   "source": [
    "def search(query):\n",
    "    \"\"\"\n",
    "    rechieve publication pubmed ID by query\n",
    "    return a dictionary with 'IdList':[all pubmed ids]\n",
    "    \"\"\"\n",
    "    handle = Entrez.esearch(db='pubmed', \n",
    "                            sort='relevance', \n",
    "                            retmax='330000',\n",
    "                            retmode='xml', \n",
    "                            term=query)\n",
    "    results = Entrez.read(handle)\n",
    "    return results "
   ]
  },
  {
   "cell_type": "code",
   "execution_count": 5,
   "metadata": {},
   "outputs": [],
   "source": [
    "# search all papers with 'G protein coupled receptor' IN title or/and in abstract\n",
    "results = search('G protein coupled receptor')"
   ]
  },
  {
   "cell_type": "code",
   "execution_count": 9,
   "metadata": {},
   "outputs": [],
   "source": [
    "# save searched resutls in json file\n",
    "with open('GPCR_pub.json', 'w') as outfile:\n",
    "    json.dump(results, outfile)"
   ]
  },
  {
   "cell_type": "code",
   "execution_count": 12,
   "metadata": {},
   "outputs": [
    {
     "data": {
      "text/plain": [
       "(324859, '3755406')"
      ]
     },
     "execution_count": 12,
     "metadata": {},
     "output_type": "execute_result"
    }
   ],
   "source": [
    "# rechieve pubmed IDs in a list\n",
    "ID_list = results['IdList']\n",
    "len(ID_list),ID_list[310000]"
   ]
  },
  {
   "cell_type": "markdown",
   "metadata": {},
   "source": [
    "## Data collection from NCBI pubmed database"
   ]
  },
  {
   "cell_type": "code",
   "execution_count": null,
   "metadata": {},
   "outputs": [],
   "source": [
    "url_stem = 'https://www.ncbi.nlm.nih.gov/pubmed/'\n",
    "\n",
    "\"\"\"\n",
    "rechieve paper information one by one according to pubmed ID\n",
    "\n",
    "the table contain the following columns:\n",
    "Id, abstract, title, authors, journal, journal abreviation, publication date, affiliation, keywords \n",
    "and a mixed raw record contain mulitiple information for future processing\n",
    "\n",
    "the whole process took 4 days to complete\n",
    "\n",
    "\"\"\" \n",
    "for i in range(len(ID_list)):\n",
    "    if i % 10000 == 0:\n",
    "        print(datetime.now())\n",
    "        # save every 10,000 paper information in a table\n",
    "        if i: \n",
    "            pd.DataFrame(df).to_csv('chunk'+str(i)+'.csv')\n",
    "        \n",
    "        # initiate another empty dataframe\n",
    "        df = {'Id':[],\n",
    "              'abstract':[],\n",
    "              'title':[],\n",
    "              'authors':[],\n",
    "              'journal':[],\n",
    "              'journal_abv':[],\n",
    "              'date':[],\n",
    "              'affiliation':[],\n",
    "              'records':[],\n",
    "              'keywords':[]\n",
    "        }\n",
    "    try: # ID\n",
    "        url = url_stem + str(ID_list[i])\n",
    "        r = requests.get(url)\n",
    "        df['Id'].append(ID_list[i])\n",
    "    except:\n",
    "        f.write(str(ID_list[i]))\n",
    "        f.write('\\n')\n",
    "        continue\n",
    "        \n",
    "    try: # title\n",
    "        title = bs4.BeautifulSoup(r.content).select('h1')[1].prettify()\n",
    "        df['title'].append(title)\n",
    "    except:\n",
    "        df['title'].append('NA')\n",
    "    \n",
    "    try: # abstract\n",
    "        abstract_record = bs4.BeautifulSoup(r.content).select('div.abstr')[0].prettify()\n",
    "        df['abstract'].append(abstract_record)\n",
    "    except:\n",
    "        df['abstract'].append('NA')\n",
    "    \n",
    "    try: # keyword\n",
    "        keyword = bs4.BeautifulSoup(r.content).select('div.keywords')[0].prettify()\n",
    "        df['keywords'].append(keyword)\n",
    "    except:\n",
    "        df['keywords'].append('NA')\n",
    "        \n",
    "    try: # author list\n",
    "        author_record = bs4.BeautifulSoup(r.content).select('div.auths')[0].prettify()\n",
    "        authors_raw = re.sub(r'%20', ' ', author_record)\n",
    "        authors = re.findall(r'term=(.*)%5BAuthor',authors_raw)\n",
    "        df['authors'].append(authors)\n",
    "    except:\n",
    "        df['authors'].append('NA')\n",
    "    \n",
    "    try: # raw record\n",
    "        records = bs4.BeautifulSoup(r.content).select('div.cit')[0].prettify()\n",
    "        df['records'].append(records)\n",
    "    except:\n",
    "        df['records'].append('NA')\n",
    "    \n",
    "    try: # journal full name\n",
    "        journal = re.findall(r'title=\"(.*)\"',records)[0]\n",
    "        df['journal'].append(journal)\n",
    "    except:\n",
    "        df['journal'].append('NA')\n",
    "    \n",
    "    try: # journal abbreviation\n",
    "        journal_abv = re.findall(r'alterm=\"(.*).\" href',records)[0]\n",
    "        df['journal_abv'].append(journal_abv)\n",
    "    except:\n",
    "        df['journal_abv'].append('NA')\n",
    "    \n",
    "    try: # publication date\n",
    "        date = re.findall(r'</a>\\n (.*) doi', records)[0]\n",
    "        df['date'].append(date)\n",
    "    except:\n",
    "        df['date'].append('NA')\n",
    "        \n",
    "    try: # affiliation\n",
    "        affiliation = bs4.BeautifulSoup(r.content).select('dd')[0].prettify()[4:-5]\n",
    "        df['affiliation'].append(affiliation)\n",
    "    except:\n",
    "        df['affiliation'].append('NA')\n",
    "        \n",
    "    "
   ]
  },
  {
   "cell_type": "markdown",
   "metadata": {},
   "source": [
    "## Re-organize files into different folders\n",
    "## Integrate all tables together"
   ]
  },
  {
   "cell_type": "code",
   "execution_count": null,
   "metadata": {},
   "outputs": [],
   "source": [
    "\"\"\"\n",
    "integrate the first 78k papers in one table\n",
    "\"\"\"\n",
    "file78 = glob2.glob('78k/chun*.csv')\n",
    "dfa = pd.read_csv(file78[0])\n",
    "for i in range(1,len(file78)):\n",
    "    df1 = pd.read_csv(file78[i])\n",
    "    dfa = pd.concat([dfa,df1])\n",
    "dfa.to_csv('78k.csv')\n",
    "\n",
    "\"\"\"\n",
    "integrate the 78-150k papers in one table\n",
    "\"\"\"\n",
    "file78 = glob2.glob('150k/chun*.csv')\n",
    "dfa = pd.read_csv(file78[0])\n",
    "for i in range(1,len(file78)):\n",
    "    df1 = pd.read_csv(file78[i])\n",
    "    dfa = pd.concat([dfa,df1])\n",
    "dfa.to_csv('78_150k.csv')\n",
    "\n",
    "\"\"\"\n",
    "integrate the 150-240k papers in one table\n",
    "\"\"\"\n",
    "file78 = glob2.glob('240k/chun*.csv')\n",
    "dfa = pd.read_csv(file78[0])\n",
    "for i in range(1,len(file78)):\n",
    "    df1 = pd.read_csv(file78[i])\n",
    "    dfa = pd.concat([dfa,df1])\n",
    "dfa.to_csv('150_240k.csv')\n",
    "\n",
    "\"\"\"\n",
    "integrate the 240-320k papers in one table\n",
    "\"\"\"\n",
    "file78 = glob2.glob('320k/chun*.csv')\n",
    "dfa = pd.read_csv(file78[0])\n",
    "for i in range(1,len(file78)):\n",
    "    df1 = pd.read_csv(file78[i])\n",
    "    dfa = pd.concat([dfa,df1])\n",
    "dfa.to_csv('240_320k.csv')"
   ]
  },
  {
   "cell_type": "code",
   "execution_count": null,
   "metadata": {},
   "outputs": [],
   "source": []
  },
  {
   "cell_type": "code",
   "execution_count": null,
   "metadata": {},
   "outputs": [],
   "source": []
  }
 ],
 "metadata": {
  "kernelspec": {
   "display_name": "Python 3",
   "language": "python",
   "name": "python3"
  },
  "language_info": {
   "codemirror_mode": {
    "name": "ipython",
    "version": 3
   },
   "file_extension": ".py",
   "mimetype": "text/x-python",
   "name": "python",
   "nbconvert_exporter": "python",
   "pygments_lexer": "ipython3",
   "version": "3.7.4"
  }
 },
 "nbformat": 4,
 "nbformat_minor": 2
}
